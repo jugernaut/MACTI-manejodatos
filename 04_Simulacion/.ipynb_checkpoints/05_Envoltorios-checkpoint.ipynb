{
 "cells": [
  {
   "cell_type": "markdown",
   "metadata": {
    "colab_type": "text",
    "id": "view-in-github"
   },
   "source": [
    "<a href=\"https://colab.research.google.com/github/jugernaut/MACTI-manejodatos/blob/principal/Simulacion/05_Envoltorios.ipynb\" target=\"_parent\"><img src=\"https://colab.research.google.com/assets/colab-badge.svg\" alt=\"Open In Colab\"/></a>"
   ]
  },
  {
   "cell_type": "markdown",
   "metadata": {
    "id": "HCy4sQbk6TDS"
   },
   "source": [
    "<font color=\"Teal\" face=\"Comic Sans MS,arial\">\n",
    "  <h1 align=\"center\"><i>Envoltorios (Wrappers)</i></h1>\n",
    "  </font>\n",
    "  <font color=\"Black\" face=\"Comic Sans MS,arial\">\n",
    "  <h5 align=\"center\"><i>Profesor: M. en C. Miguel Angel Pérez León</i></h5>\n",
    "  <h5 align=\"center\"><i>Ayudante: Diana Laura Rojas Cristino</i></h5>\n",
    "  <h5 align=\"center\"><i>Ayudante: Rodrigo Alejandro Sánchez Morales</i></h5>\n",
    "  <h5 align=\"center\"><i>Materia: Manejo de Datos</i></h5>>\n",
    "  </font>"
   ]
  },
  {
   "cell_type": "markdown",
   "metadata": {
    "id": "wsaIeAtF6T1G"
   },
   "source": [
    "# Introducción\n",
    "\n",
    "Una vez que ya se conocen las principales *API's* para programar en paralelo como *OpenMP*, *MPI* o *CUDA*, así como sus ventajas y desventajas podemos comenzar a utilizar alternativas como lo son los ***wrappers*** (envoltorios).\n",
    "\n",
    "Un *wrapper* es un conjunto de librerías y herramientas (en otro lenguaje diferente a *C/C++*) que actúa como puente y oculta muchos de los detalles de este tipo de *API's*.\n",
    "\n",
    "Existe una infinidad de lenguajes de alto nivel que permiten hacer uso de estos *wrappers*, como lo son *JAVA*, *Python*, *R*, etc.\n",
    "\n",
    "Para esta presentación nos enfocaremos en el lenguaje *Python* y algunos de los *wrappers* que existen en este lenguaje ya que las ventajas que ofrece este lenguaje lo hacen ideal para su uso en este curso.\n",
    "\n",
    "Dos de los envoltorios más populares para *Python* son *Numba* y *TensorFlow*.\n",
    "\n",
    "A pesar de la gran cantidad de *wrappers* que existen actualmente, debido a los alcances del curso, solo podremos revisar *Numba* y *TensorFlow*.\n",
    "\n",
    "Aquí podemos ver las diferentes capas que se construyen con *Python*.\n",
    "\n",
    "<center>\n",
    "<img src=\"https://github.com/jugernaut/Numerico2021/blob/master/Imagenes/Wrappers/wrapper.png?raw=1\" width=\"600\"> \n",
    "</center>\n",
    "\n",
    "Los 2 diferentes enfoques que se les puede dar a los envoltorios.\n",
    "\n",
    "<center>\n",
    "<img src=\"https://github.com/jugernaut/Numerico2021/blob/master/Imagenes/Wrappers/arribabajo.png?raw=1\" width=\"600\"> \n",
    "</center>\n",
    "\n",
    "Flujo de *Numba*, ¿cómo es que se optimiza el código?.\n",
    "\n",
    "<center>\n",
    "<img src=\"https://github.com/jugernaut/Numerico2021/blob/master/Imagenes/Wrappers/numba.png?raw=1\" width=\"600\"> \n",
    "</center>\n",
    "\n",
    "<center>\n",
    "<img src=\"https://github.com/jugernaut/Numerico2021/blob/master/Imagenes/Wrappers/numba-arch.png?raw=1\" width=\"600\"> \n",
    "</center>\n",
    "\n",
    "Relación entre *TensorFlow* y *Nvidia*.\n",
    "\n",
    "<center>\n",
    "<img src=\"https://github.com/jugernaut/Numerico2021/blob/master/Imagenes/Wrappers/tensor2.png?raw=1\" width=\"600\"> \n",
    "</center>\n",
    "\n",
    "<center>\n",
    "<img src=\"https://github.com/jugernaut/Numerico2021/blob/master/Imagenes/Wrappers/tensor1.png?raw=1\" width=\"600\"> \n",
    "</center>\n",
    "\n",
    "Capas en el desarrollo de *software*.\n",
    "\n",
    "<center>\n",
    "<img src=\"https://github.com/jugernaut/Numerico2021/blob/master/Imagenes/Wrappers/tensordevice.jpg?raw=1\" width=\"600\"> \n",
    "</center>"
   ]
  },
  {
   "cell_type": "markdown",
   "metadata": {
    "id": "4lxaDk7Y_8D-"
   },
   "source": [
    "## *CPU* v.s. *GPU*\n",
    "\n",
    "Actualmente los dispositivos de cómputo contienen al menos un *CPU* y dentro de este *CPU* pueden estar contenidos varios núcleos, lo que permite el desarrollo de algoritmos en paralelo.\n",
    "\n",
    "De igual manera, la mayoría de los dispositivos de cómputo contienen al menos un *GPU* y dentro de este *GPU* pueden existir varios núcleos, la principal diferencia entre ambos (*CPU* y *GPU*) es el propósito para el cuál fueron diseñados\n",
    "\n",
    "Para fines prácticos (y del curso) podemos pensar que la diferencia principal entre una *CPU* (unidad de procesamiento central) y una *GPU* (**unidad de procesamiento gráfico**) radica en que un *CPU* es un dispositivo de cómputo de propósito general, puede realizar cualquier tipo de cómputo que se le asigne.\n",
    "\n",
    "Por otro lado un *GPU* esta diseñado para el procesamiento gráfico, lo que significa que la forma en la que procesa información **esta optimizada para trabajar con matrices y vectores**.\n",
    "\n",
    "<center>\n",
    "<img src=\"https://github.com/jugernaut/Numerico2021/blob/desarrollo/Figuras/MonteCarlo/cpu-vs-gpu.jpg?raw=1\" width=\"600\"> \n",
    "</center>\n",
    "\n",
    "<center>\n",
    "<img src=\"https://github.com/jugernaut/Numerico2021/blob/desarrollo/Figuras/MonteCarlo/mejor.png?raw=1\" width=\"600\"> \n",
    "</center>"
   ]
  },
  {
   "cell_type": "markdown",
   "metadata": {
    "id": "9PPn3oSp8WaM"
   },
   "source": [
    "# ¿Qué es *Numba*?\n",
    "\n",
    "Según la documentación de *Numba*, \"*Numba* es un compilador justo a tiempo para *Python* que funciona mejor en código que usa matrices, funciones de *Numpy* y ciclos.\n",
    "\n",
    "En otras palabras, *Numba* es una paquetería (igual que *Numpy* o *Matplotlib*) que nos ayuda a que nuestros algoritmos se ejecuten de forma optimizada y en particular nos permite tener acceso a los *GPU's* disponibles en el hardware que estemos ejecutando nuestros algoritmos.\n",
    "\n",
    "La forma más común de usar *Numba* es a través de su colección de *decoradores* que se pueden aplicar a sus funciones para indicarle a *Numba* que las compile. Cuando se realiza una llamada a una función decorada de *Numba*, **se compila en código máquina** \"justo a tiempo\" para su ejecución y todo o parte de su código puede ejecutarse posteriormente a la ¡velocidad del código máquina nativo!.\n",
    "\n",
    "Para nuestros propósitos de hoy, *Numba* es un paquete de *Python* que le permite escribir código *Python* para *GPU*, y tambien puede usarse para programación en paralelo mediante *CPU's*."
   ]
  },
  {
   "cell_type": "markdown",
   "metadata": {
    "id": "CQuAQn-eZmc_"
   },
   "source": [
    "## Dependencia Funcional\n",
    "\n",
    "Existen muchas formas para poder identificar si existe la posibilidad de emplear alguna técnica de paralelización algun algoritmo.\n",
    "\n",
    "Sin embargo la forma más sencilla de saber cuando NO ES POSIBLE programar algún algoritmo en su equivalente en paralelo, es mediante las dependencias funcionales.\n",
    "\n",
    "La idea de **dependencia funcional** es la generalización del concepto de **dependencia lineal**. Se dice que un conjunto de funciones es **funcionalmente dependiente** si existe una relación funcional entre ellas, en otras palabras cuando alguna de las funciones del conjunto es expresable como función de las otras funciones definidas previamente dentro del conjunto.\n",
    "\n",
    "Esto significa que cuando existe una dependencia funcional, para poder obtener el resultado del algoritmo $f_n(f_{n-1}(x))$ es necesario esperar el resultado de $f_{n-1}(x)$, lo que implica que este tipo de algoritmos no es candidato a ser programado en paralelo."
   ]
  },
  {
   "cell_type": "markdown",
   "metadata": {
    "id": "DOiTvC5u8cQP"
   },
   "source": [
    "## ¿Cómo funciona?\n",
    "\n",
    "*Numba* tiene multiples formás de optimizar codigo y lograr que este muestre un mejor desempeño, esto lo realiza mediante alguna de las siguientes variantes:\n",
    "\n",
    "• Convierte código *Python* en código de máquina: al compilar código empleando *Numba*, este convierte el código en código de máquina y la segunda vez que sea ejecutado este se ejecuta en lenguaje de muy bajo nivel que se traduce en una ejecución más rápida.\n",
    "\n",
    "• Es posible utilizar una capa (*layer*) para acceder a características de *OpenMP*.\n",
    "\n",
    "• Es posible paralelizar código empleando utilidades de *MPI*.\n",
    "\n",
    "• Tiene soporte para el uso de *GPU's* utilizando *CUDA* como *background*.\n"
   ]
  },
  {
   "cell_type": "markdown",
   "metadata": {
    "id": "PehjbuHF8sKR"
   },
   "source": [
    "## Ventajas\n",
    "\n",
    "*Numba* posee múltiples ventajas, aunque una de las más importantes es poder decidir como optimizar el código escrito en *Python*.\n",
    "\n",
    "Es muy sencillo de instalar mediante *pip* e igual de fácil de usar que *Python*.\n",
    "\n",
    "Se tiene una gran capacidad de acoplamiento con *Numpy* (biblioteca para cómputo científico).\n",
    "\n",
    "Además de ser posible optar por un mecanismo para optimizar el código, *Numba* permite escribir código híbrido que combine lo mejor de las diferentes formás de optimizar el desempeño.\n",
    "\n",
    "Emplear *Numba* es tan sencillo como importar la biblioteca y hacer uso de sus **decoradores** para optimizar el código.\n"
   ]
  },
  {
   "cell_type": "markdown",
   "metadata": {
    "id": "mJhW1gUa9DdF"
   },
   "source": [
    "## Desventajas\n",
    "\n",
    "*Numba* tiene en realidad muy pocas desventajas.\n",
    "\n",
    "La más evidente de estas es que **encapsula mucho de su funcionamiento**, es decir que en realidad funciona como caja negra.\n",
    "\n"
   ]
  },
  {
   "cell_type": "markdown",
   "metadata": {
    "id": "rg_-5MXa94pG"
   },
   "source": [
    "### Decoradores\n",
    "\n",
    "Un decorador en *Numba* es una forma de modificar funciones de manera tal que pueda ser optimizada empleando alguna de las técnicas previamente mencionadas.\n",
    "\n",
    "Se puede pensar en un decorador en una función que recibe una función como parámetro y devuelve otra función optimizada como salida.\n",
    "\n",
    "Una función de *Python* es envuelta por uno o más decoradores, una vez que se define esta función el decorador es evaluado y *Numba* devuelve una función optimizada que puede ser invocada desde *Python*.\n",
    "\n",
    "El alcance del ó de los decoradores se limita al alcance de la función definida a la cual se le aplique dichos decoradores.\n",
    "\n"
   ]
  },
  {
   "cell_type": "markdown",
   "metadata": {
    "id": "r7J7oOHfwBeM"
   },
   "source": [
    "# Sintaxis *Numba*\n",
    "\n",
    "Al hacer uso de *Numba* (*CUDA*), debemos tomar en cuenta que la finalidad de *Numba* es acelerar el desempeño de nuestros algoritmos.\n",
    "\n",
    "Para llevar a cabo tal propósito, *Numba* provee de sentencias que se agregan al código de *Python* conocidos como *decoradores*. Estos decoradores son de diferentes tipos, ya que *Numba* permite acelerar el desempeño de diferentes formas.\n",
    "\n",
    "Mediante *Numba* los cálculos de nuestros algoritmos se pueden distribuir entre el *CPU* y el *GPU*, es por eso que *Numba* nos ofrece una forma para distinguir cuáles de nuestras funciones se ejecutan en uno u otro dispositivo de cómputo. "
   ]
  },
  {
   "cell_type": "markdown",
   "metadata": {
    "id": "UlujxYcPPsor"
   },
   "source": [
    "### `nopython=True`\n",
    "\n",
    "El decorador más sencillo de usar en *Numba* es el decorador `@jit` (*Just in time*) y permite recibir multiples parametros que indican la forma en la que se quiere optimizar el código (ver referencias). Si se usa este decorador sin parámetros *Numba* decide cuál es la mejor forma para optimizar el desempeño del algoritmo.\n",
    "\n",
    "Uno de sus parámetros más elementales pero al mismo tiempo uno de los más usados, es el parametro `nopython=True`.\n",
    "\n",
    "Al hacer uso de este decorador se le indica a *Numba* que el código que pertenece a esta definición debe ser optimizado y esto se lleva a cabo, convirtiendo el código de python en **código de máquina**, esto toma un poco más de tiempo la primera vez que se ejecuta, pero las siguientes veces tomará mucho menos tiempo que una función en *Python* nativo."
   ]
  },
  {
   "cell_type": "code",
   "execution_count": 2,
   "metadata": {},
   "outputs": [
    {
     "name": "stdout",
     "output_type": "stream",
     "text": [
      "Collecting numba\n",
      "  Using cached numba-0.60.0-cp311-cp311-manylinux2014_x86_64.manylinux_2_17_x86_64.whl.metadata (2.7 kB)\n",
      "Collecting llvmlite<0.44,>=0.43.0dev0 (from numba)\n",
      "  Using cached llvmlite-0.43.0-cp311-cp311-manylinux_2_17_x86_64.manylinux2014_x86_64.whl.metadata (4.8 kB)\n",
      "Requirement already satisfied: numpy<2.1,>=1.22 in /opt/conda/lib/python3.11/site-packages (from numba) (1.26.2)\n",
      "Using cached numba-0.60.0-cp311-cp311-manylinux2014_x86_64.manylinux_2_17_x86_64.whl (3.7 MB)\n",
      "Using cached llvmlite-0.43.0-cp311-cp311-manylinux_2_17_x86_64.manylinux2014_x86_64.whl (43.9 MB)\n",
      "Installing collected packages: llvmlite, numba\n",
      "Successfully installed llvmlite-0.43.0 numba-0.60.0\n",
      "Note: you may need to restart the kernel to use updated packages.\n"
     ]
    }
   ],
   "source": [
    "pip install numba"
   ]
  },
  {
   "cell_type": "code",
   "execution_count": 3,
   "metadata": {
    "id": "R8tNuU3pjVAK"
   },
   "outputs": [],
   "source": [
    "import random\n",
    "# biblioteca de Numba\n",
    "from numba import jit\n",
    "\n",
    "#¡¡¡descomentar para optimizar, te vas a sorprender!!!\n",
    "@jit(nopython=True)\n",
    "def mc_pi_aprox(n=100000000):\n",
    "    dentro_circulo = 0 \n",
    "    for i in range(n):\n",
    "      x = random.random()\n",
    "      y = random.random()\n",
    "      # valores dentro de la circunferencia\n",
    "      if (x**2+y**2 < 1):\n",
    "          dentro_circulo += 1\n",
    "    return 4*dentro_circulo / n"
   ]
  },
  {
   "cell_type": "code",
   "execution_count": 4,
   "metadata": {
    "colab": {
     "base_uri": "https://localhost:8080/"
    },
    "id": "0mLldJZM95rm",
    "outputId": "c392dfd6-c9b9-464e-ee62-e1d524b1a14e"
   },
   "outputs": [
    {
     "name": "stdout",
     "output_type": "stream",
     "text": [
      "CPU times: user 1.88 s, sys: 254 ms, total: 2.13 s\n",
      "Wall time: 1.84 s\n"
     ]
    },
    {
     "data": {
      "text/plain": [
       "3.1415194"
      ]
     },
     "execution_count": 4,
     "metadata": {},
     "output_type": "execute_result"
    }
   ],
   "source": [
    "%%time\n",
    "mc_pi_aprox()"
   ]
  },
  {
   "cell_type": "markdown",
   "metadata": {
    "id": "l8LzorbuqUr2"
   },
   "source": [
    "En el ejemplo de la celda superior en la cuál se aproxima el valor de $\\pi$ mediante Monte Carlo, al ejecutarlo sin el uso de *Numba* (solo *Python* nativo), podemos notar que el tiempo de ejecución se incrementa de manera proporcional a la precisión que usemos. \n",
    "\n",
    "Por otro lado, si se usa el decorador *@jit(nopython=True)*, qué es equivalente a *@njit*, de manera explicita se le pide a *Numba*, que convierta el **código a código de máquina**. Y el tiempo de ejecución disminuye de manera notable."
   ]
  },
  {
   "cell_type": "markdown",
   "metadata": {
    "id": "QiMtF_AR1Vg2"
   },
   "source": [
    "### `parallel` (*OpenMP*)\n",
    "\n",
    "Otro parámetro muy útil pero a la vez 'obscuro' es, `@njit(parrallel=True)`.\n",
    "\n",
    "Este decorador va de la mano de la palabra reservada `prange` y en conjunto permiten ejecutar en paralelo ciclos dentro de la función definida.\n",
    "\n",
    "Este decorador oculta mucho del proceso que se realiza al ejecutar un algoritmo en paralelo. Sin embargo ya que a esta altura del curso se conoce cual es el transfondo (*OpenMP, MPI, CUDA*), podemos obviar el mismo.\n",
    "\n",
    "La parlabra reservada `prange` se emplea para especificar el ciclo que se quiere realizar en paralelo y no solo eso, también realiza la operación conocida como *reduction* de alguna variable."
   ]
  },
  {
   "cell_type": "code",
   "execution_count": 5,
   "metadata": {
    "id": "os9I6k8F-qLI"
   },
   "outputs": [],
   "source": [
    "# import de biblioteca calculos numericos\n",
    "import math\n",
    "\n",
    "# aproximacion de Pi mediante sumas de Reimann (version secuencial)\n",
    "def aproxPIsec(n=10000000):\n",
    "    suma=0\n",
    "    # funcion a integrar\n",
    "    f = lambda x: math.sqrt(1-x**2)\n",
    "    delta = 1/n\n",
    "    for i in range(1,n+1):\n",
    "        #x = delta*(i-0.5) #punto medio\n",
    "        x = delta*(i)\n",
    "        suma += f(x)\n",
    "    aproximacion = delta*suma*4\n",
    "    return aproximacion"
   ]
  },
  {
   "cell_type": "code",
   "execution_count": 6,
   "metadata": {
    "colab": {
     "base_uri": "https://localhost:8080/"
    },
    "id": "6II7oIQY-07G",
    "outputId": "4af1b380-26e2-4bcd-9cda-49138cb75862"
   },
   "outputs": [
    {
     "name": "stdout",
     "output_type": "stream",
     "text": [
      "CPU times: user 2.34 s, sys: 0 ns, total: 2.34 s\n",
      "Wall time: 2.34 s\n"
     ]
    },
    {
     "data": {
      "text/plain": [
       "3.1415924535527124"
      ]
     },
     "execution_count": 6,
     "metadata": {},
     "output_type": "execute_result"
    }
   ],
   "source": [
    "%%time\n",
    "aproxPIsec()"
   ]
  },
  {
   "cell_type": "markdown",
   "metadata": {
    "id": "gxroKejyBgsj"
   },
   "source": [
    "Usamos la 'función mágica' `%%time` para mostrar el tiempo y el resultado de la ejecución de la celda en la que se hace uso de la versión secuencial de este algoritmo."
   ]
  },
  {
   "cell_type": "code",
   "execution_count": 7,
   "metadata": {
    "id": "Y_bAbmcK_HZQ"
   },
   "outputs": [],
   "source": [
    "# import de biblioteca calculos numericos y paralelizacion\n",
    "from numba import njit, prange, set_num_threads\n",
    "import numpy as np\n",
    "import math\n",
    "# fijamos desde código el numero de hilos\n",
    "set_num_threads(2)\n",
    "\n",
    "# aproximacion de Pi mediante sumas de Reimann (version paralela)\n",
    "@njit(parallel=True)\n",
    "def aproxPIpar(n=10000000):\n",
    "    suma=0\n",
    "    # funcion a integrar\n",
    "    f = lambda x: math.sqrt(1-x**2)\n",
    "    delta = 1/n\n",
    "    # prange indica que este for debe ser ejecutado en paralelo\n",
    "    for i in prange(1,n+1):\n",
    "        #x = delta*(i-0.5) #punto medio\n",
    "        x = delta*(i)\n",
    "        suma += f(x)\n",
    "    aproximacion = delta*suma*4\n",
    "    return aproximacion"
   ]
  },
  {
   "cell_type": "code",
   "execution_count": 8,
   "metadata": {
    "colab": {
     "base_uri": "https://localhost:8080/"
    },
    "id": "YozECThR_mXw",
    "outputId": "2817091e-4737-4a37-f58a-d1b5b9c82fec"
   },
   "outputs": [
    {
     "name": "stdout",
     "output_type": "stream",
     "text": [
      "CPU times: user 669 ms, sys: 37.9 ms, total: 707 ms\n",
      "Wall time: 691 ms\n"
     ]
    },
    {
     "data": {
      "text/plain": [
       "3.1415924535525024"
      ]
     },
     "execution_count": 8,
     "metadata": {},
     "output_type": "execute_result"
    }
   ],
   "source": [
    "%%time\n",
    "aproxPIpar()"
   ]
  },
  {
   "cell_type": "markdown",
   "metadata": {
    "id": "UaUoB57BB0op"
   },
   "source": [
    "#### Versión en paralelo\n",
    "\n",
    "Hay varios puntos importantes a notar en la versión paralelo del algoritmo de la aproximación del valor de $\\pi$ mediante sumas de Raimann:\n",
    "\n",
    "1.   En la sección de imports, `njit`, `prange`, `set_num_threads`, estos son los elementos de *Numba* que nos permiten la ejecución de este algoritmo en paralelo.\n",
    "2.   El decorador `@njit(parallel=True)` en conjunto con `prange`, nos indican que secciones del código se ejecutará en paralelo.\n",
    "3.   *Numba* oculta la operación de *redcution sum*, de la variable `suma`.\n",
    "4.   El tiempo de ejecución disminuye bastante en la versión en paralelo con respecto a la versión secuencial y no así la precisión, de hecho podemos descomentar la linea inmediata debajo del ciclo `for` para mejorar la precisión del algoritmo al usar el punto medio.\n",
    "\n"
   ]
  },
  {
   "cell_type": "markdown",
   "metadata": {
    "id": "SRkBX0-CvN2y"
   },
   "source": [
    "# Accediendo a la *GPU* de *Google Colab*\n",
    "\n",
    "Para ejecutar las funciones de *Numba* usando las *GPU's* gratuitas de *Google*, tenemos que hacer un par de cosas:\n",
    "\n",
    "1.   Primero, ir al menú *Runtime o Entorno de ejecución*, seleccionar *Cambiar tipo de tiempo de ejecución*, y en el cuadro emergente, en *Acelerador de hardware*, seleccione *GPU*, guardamos el cambio y listo.\n",
    "2.   Idealmente, eso es todo lo que deberíamos tener que hacer. Pero en la práctica, aunque las bibliotecas *CUDA* están instaladas, en el momento de escribir este *jupyter*, *Colab* no puede encontrarlas automáticamente. Entonces, hay que averiguar dónde están y luego indicarle a *Colab*."
   ]
  },
  {
   "cell_type": "code",
   "execution_count": 9,
   "metadata": {
    "colab": {
     "base_uri": "https://localhost:8080/"
    },
    "id": "uT2EQdkytuLW",
    "outputId": "7d795d10-8160-46b9-c569-6fed40e2b0ef"
   },
   "outputs": [
    {
     "name": "stdout",
     "output_type": "stream",
     "text": [
      "find: ‘/proc/tty/driver’: Permission denied\n",
      "find: ‘/sys/devices/virtual/powercap/dtpm’: Permission denied\n",
      "find: ‘/sys/devices/virtual/powercap/intel-rapl’: Permission denied\n",
      "find: ‘/etc/ssl/private’: Permission denied\n",
      "find: ‘/root’: Permission denied\n",
      "find: ‘/var/lib/apt/lists/partial’: Permission denied\n",
      "find: ‘/var/cache/ldconfig’: Permission denied\n",
      "find: ‘/var/cache/apt/archives/partial’: Permission denied\n",
      "find: ‘/proc/tty/driver’: Permission denied\n",
      "find: ‘/sys/devices/virtual/powercap/dtpm’: Permission denied\n",
      "find: ‘/sys/devices/virtual/powercap/intel-rapl’: Permission denied\n",
      "find: ‘/etc/ssl/private’: Permission denied\n",
      "find: ‘/root’: Permission denied\n",
      "find: ‘/var/lib/apt/lists/partial’: Permission denied\n",
      "find: ‘/var/cache/ldconfig’: Permission denied\n",
      "find: ‘/var/cache/apt/archives/partial’: Permission denied\n"
     ]
    }
   ],
   "source": [
    "!find / -iname 'libdevice'\n",
    "!find / -iname 'libnvvm.so'"
   ]
  },
  {
   "cell_type": "markdown",
   "metadata": {
    "id": "GGyfEtgUvf4k"
   },
   "source": [
    "Se debe seleccionar y pegar la ubicación de las bibliotecas en el siguiente cuadro de código (de preferencia elegir las versiones más recientes):"
   ]
  },
  {
   "cell_type": "code",
   "execution_count": null,
   "metadata": {
    "id": "BYqtsk-Qj2rT"
   },
   "outputs": [],
   "source": [
    "import os\n",
    "os.environ['NUMBAPRO_LIBDEVICE'] = \"/usr/local/cuda-11.2/nvvm/libdevice\"\n",
    "os.environ['NUMBAPRO_NVVM'] = \"/usr/local/cuda-11.2/nvvm/lib64/libnvvm.so\""
   ]
  },
  {
   "cell_type": "markdown",
   "metadata": {
    "id": "5a1UNDfhvt1D"
   },
   "source": [
    "Una vez que ya se le indicó a Colab donde encontrar las bibliotecas necesarias, podemos pasar por completo a python e importar la biblioteca de numba para *CUDA* mediante las siguientes instrucciones."
   ]
  },
  {
   "cell_type": "code",
   "execution_count": null,
   "metadata": {
    "colab": {
     "base_uri": "https://localhost:8080/"
    },
    "id": "SEq5llWOj68-",
    "outputId": "d959f00f-267b-42c5-eaa9-0b58e8048e61"
   },
   "outputs": [
    {
     "name": "stdout",
     "output_type": "stream",
     "text": [
      "<Managed Device 0>\n"
     ]
    }
   ],
   "source": [
    "from numba import cuda\n",
    "import numba\n",
    "print(cuda.gpus)"
   ]
  },
  {
   "cell_type": "markdown",
   "metadata": {
    "id": "-kiaHmUndMsk"
   },
   "source": [
    "Para ver las características de la *GPU* a la que tenemos acceso usamos el siguiente comando."
   ]
  },
  {
   "cell_type": "code",
   "execution_count": null,
   "metadata": {
    "colab": {
     "base_uri": "https://localhost:8080/"
    },
    "id": "QQO-FxdXdA87",
    "outputId": "927cb722-ba08-4e73-cd38-6f014e34290c"
   },
   "outputs": [
    {
     "name": "stdout",
     "output_type": "stream",
     "text": [
      "Wed Nov 16 23:43:41 2022       \n",
      "+-----------------------------------------------------------------------------+\n",
      "| NVIDIA-SMI 460.32.03    Driver Version: 460.32.03    CUDA Version: 11.2     |\n",
      "|-------------------------------+----------------------+----------------------+\n",
      "| GPU  Name        Persistence-M| Bus-Id        Disp.A | Volatile Uncorr. ECC |\n",
      "| Fan  Temp  Perf  Pwr:Usage/Cap|         Memory-Usage | GPU-Util  Compute M. |\n",
      "|                               |                      |               MIG M. |\n",
      "|===============================+======================+======================|\n",
      "|   0  Tesla T4            Off  | 00000000:00:04.0 Off |                    0 |\n",
      "| N/A   41C    P8     9W /  70W |      3MiB / 15109MiB |      0%      Default |\n",
      "|                               |                      |                  N/A |\n",
      "+-------------------------------+----------------------+----------------------+\n",
      "                                                                               \n",
      "+-----------------------------------------------------------------------------+\n",
      "| Processes:                                                                  |\n",
      "|  GPU   GI   CI        PID   Type   Process name                  GPU Memory |\n",
      "|        ID   ID                                                   Usage      |\n",
      "|=============================================================================|\n",
      "|  No running processes found                                                 |\n",
      "+-----------------------------------------------------------------------------+\n"
     ]
    }
   ],
   "source": [
    "!nvidia-smi"
   ]
  },
  {
   "cell_type": "markdown",
   "metadata": {
    "id": "cLTdzUzksLpG"
   },
   "source": [
    "## Fractales (*CUDA*)\n",
    "\n",
    "Un fractal se define como un objeto geométrico en el que se repite el mismo patrón a diferentes escalas y con distinta orientación.\n",
    "\n",
    "Estos objetos (fractales) son de interés particular en las ciencias debido a sus propiedades y características.\n",
    "\n",
    "En esta sección vamos a ver las diferencias en términos de velocidad (tiempo de ejecución) de generar fractales con *Numba*, de manera secuencial y en paralelo usando la *GPU*."
   ]
  },
  {
   "cell_type": "code",
   "execution_count": 10,
   "metadata": {
    "colab": {
     "base_uri": "https://localhost:8080/",
     "height": 306
    },
    "id": "wbrojyX1sLMB",
    "outputId": "b8f027f0-156b-42ef-ce2f-19ba96a07321"
   },
   "outputs": [
    {
     "name": "stdout",
     "output_type": "stream",
     "text": [
      "Mandelbrot creado en el CPU en 7.034753 segundos\n"
     ]
    },
    {
     "data": {
      "image/png": "[encoded data removed]",
      "text/plain": [
       "<Figure size 640x480 with 1 Axes>"
      ]
     },
     "metadata": {},
     "output_type": "display_data"
    }
   ],
   "source": [
    "# PYTHON PURO\n",
    "import matplotlib.pyplot as plt\n",
    "import numpy as np\n",
    "from timeit import default_timer as timer\n",
    "\n",
    "# Funcion para colorear el punto (x, y)\n",
    "def mandel(x, y, max_iters):\n",
    "    c = complex(x, y)\n",
    "    z = 0.0j\n",
    "    for i in range(max_iters):\n",
    "        z = z*z + c\n",
    "        if z.real*z.real + z.imag*z.imag >= 4:\n",
    "            return i\n",
    "    return max_iters\n",
    "\n",
    "# Funcion que genera el fractal \n",
    "def create_fractal(xmin, xmax, ymin, ymax, image, iters):\n",
    "    height, width = image.shape\n",
    "    pixel_size_x = (xmax - xmin)/width\n",
    "    pixel_size_y = (ymax - ymin)/height\n",
    "    for x in range(width):\n",
    "        real = xmin + x*pixel_size_x\n",
    "        for y in range(height):\n",
    "            imag = ymin + y*pixel_size_y\n",
    "            color = mandel(real, imag, iters)\n",
    "            image[y, x]  = color\n",
    "\n",
    "# dimension del fractal\n",
    "gimage = np.zeros((1024, 1536), dtype=np.uint8)\n",
    "xmin, xmax, ymin, ymax = np.array([-2.0, 1.0, -1.0, 1.0]).astype('float32')\n",
    "iters = 50\n",
    "\n",
    "# se mide el tiempo que toma generar el fractal\n",
    "start = timer()\n",
    "create_fractal(xmin, xmax, ymin, ymax, gimage, iters)\n",
    "dt = timer() - start\n",
    "\n",
    "# se muestran los resultados\n",
    "print(\"Mandelbrot creado en el CPU en %f segundos\" % dt)\n",
    "plt.imshow(gimage);"
   ]
  },
  {
   "cell_type": "code",
   "execution_count": null,
   "metadata": {
    "colab": {
     "base_uri": "https://localhost:8080/",
     "height": 306
    },
    "id": "E68z06F5szGu",
    "outputId": "e42d4449-efcd-46d9-8160-55ea4c1f2686"
   },
   "outputs": [
    {
     "name": "stdout",
     "output_type": "stream",
     "text": [
      "Mandelbrot creado en el CPU optimizado en 0.603021 segundos\n"
     ]
    },
    {
     "data": {
      "image/png": "[encoded data removed]",
      "text/plain": [
       "<Figure size 432x288 with 1 Axes>"
      ]
     },
     "metadata": {
      "needs_background": "light"
     },
     "output_type": "display_data"
    }
   ],
   "source": [
    "# CON NUMBA EN CPU\n",
    "import numba\n",
    "# se convierte la funcion madel en version optimizada\n",
    "mandel_numba = numba.jit(mandel)\n",
    "\n",
    "# con el decorador tambien se optimiza la funcion que genera el fractal\n",
    "@numba.jit\n",
    "def create_fractal_numba(xmin, xmax, ymin, ymax, image, iters):\n",
    "    height, width = image.shape\n",
    "    pixel_size_x = (xmax - xmin)/width\n",
    "    pixel_size_y = (ymax - ymin)/height\n",
    "    for x in range(width):\n",
    "        real = xmin + x*pixel_size_x\n",
    "        for y in range(height):\n",
    "            imag = ymin + y*pixel_size_y\n",
    "            color = mandel_numba(real, imag, iters)\n",
    "            image[y, x]  = color\n",
    "\n",
    "# dimension del fractal\n",
    "gimage = np.zeros((1024, 1536), dtype=np.uint8)\n",
    "xmin, xmax, ymin, ymax = np.array([-2.0, 1.0, -1.0, 1.0]).astype('float32')\n",
    "iters = 50\n",
    "\n",
    "# se mide el tiempo que toma generar el fractal\n",
    "start = timer()\n",
    "create_fractal_numba(xmin, xmax, ymin, ymax, gimage, iters)\n",
    "dt = timer() - start\n",
    "\n",
    "# se muestran los resultados\n",
    "print(\"Mandelbrot creado en el CPU optimizado en %f segundos\" % dt)\n",
    "plt.imshow(gimage); "
   ]
  },
  {
   "cell_type": "code",
   "execution_count": null,
   "metadata": {
    "colab": {
     "base_uri": "https://localhost:8080/",
     "height": 323
    },
    "id": "RLSbpCYrYKLs",
    "outputId": "9ff736f0-7740-4edd-b3c0-20c2a9a0b908"
   },
   "outputs": [
    {
     "name": "stdout",
     "output_type": "stream",
     "text": [
      "Mandelbrot creado en el GPU en 0.010018 segundos\n"
     ]
    },
    {
     "data": {
      "text/plain": [
       "<matplotlib.image.AxesImage at 0x7f6ce6e90250>"
      ]
     },
     "execution_count": 23,
     "metadata": {},
     "output_type": "execute_result"
    },
    {
     "data": {
      "image/png": "[encoded data removed]",
      "text/plain": [
       "<Figure size 432x288 with 1 Axes>"
      ]
     },
     "metadata": {
      "needs_background": "light"
     },
     "output_type": "display_data"
    }
   ],
   "source": [
    "# CON NUMBA EN GPU\n",
    "from numba import *\n",
    "import matplotlib.pyplot as plt\n",
    "from numba import cuda\n",
    "\n",
    "# Se convierte la funcion original en su version para GPU\n",
    "mandel_gpu = cuda.jit(mandel, device=True)\n",
    "\n",
    "# Decorador y parametros para convertir la funcion para GPU\n",
    "@cuda.jit((float32, float32, float32, float32, uint8[:,:], uint32))\n",
    "def mandel_kernel(min_x, max_x, min_y, max_y, image, iters):\n",
    "  height, width = image.shape\n",
    "  pixel_size_x = (xmax - xmin)/width\n",
    "  pixel_size_y = (ymax - ymin)/height\n",
    "  startX, startY = cuda.grid(2)\n",
    "  gridX = cuda.gridDim.x * cuda.blockDim.x \n",
    "  gridY = cuda.gridDim.y * cuda.blockDim.y \n",
    "  for x in range(startX, width, gridX):\n",
    "      real = xmin + x*pixel_size_x\n",
    "      for y in range(startY, height, gridY):\n",
    "          imag = ymin + y*pixel_size_y\n",
    "          color = mandel_gpu(real, imag, iters)\n",
    "          image[y, x]  = color\n",
    "\n",
    "# dimension del fractal\n",
    "gimage = np.zeros((1024, 1536), dtype = np.uint8)\n",
    "# parametros para la GPU\n",
    "blockdim = (32, 8)\n",
    "griddim = (32,16)\n",
    "xmin, xmax, ymin, ymax = np.array([-2.0, 1.0, -1.0, 1.0]).astype('float32')\n",
    "iters = 50\n",
    "\n",
    "# se mide el tiempo que toma generar el fractal\n",
    "start = timer()\n",
    "# se manda la info a la GPU\n",
    "d_image = cuda.to_device(gimage)\n",
    "mandel_kernel[griddim, blockdim](xmin, xmax, ymin, ymax, d_image, iters)\n",
    "# se extrae info de la GPU\n",
    "d_image.copy_to_host()\n",
    "dt = timer() - start\n",
    "\n",
    "# se muestran los resultados\n",
    "print(\"Mandelbrot creado en el GPU en %f segundos\" % dt)\n",
    "plt.imshow(gimage)"
   ]
  },
  {
   "cell_type": "markdown",
   "metadata": {
    "id": "1dsaFmbyCamn"
   },
   "source": [
    "# Glosario\n",
    "\n",
    "*Layer*: Capa informática, nivel o capa que se oculta una parte del *software*.\n",
    "\n",
    "*Background*: En computación entorno que da soporte a un determinado software. "
   ]
  },
  {
   "cell_type": "markdown",
   "metadata": {
    "id": "3J_aD2oaChF-"
   },
   "source": [
    "# Referencias\n",
    "\n",
    "* https://numba.pydata.org/numba-doc/latest/user/5minguide.html\n",
    "* https://nyu-cds.github.io/python-numba/01-jit/\n",
    "* https://christophdeil.com/download/2019-07-11_Christoph_Deil_Numba.pdf\n",
    "* https://numba.pydata.org/numba-doc/dev/cuda/kernels.html\n",
    "* Tolga Soyata: GPU Parallel Program Development Using CUDA."
   ]
  }
 ],
 "metadata": {
  "accelerator": "GPU",
  "colab": {
   "include_colab_link": true,
   "name": "Envoltorios.ipynb",
   "provenance": [],
   "toc_visible": true
  },
  "kernelspec": {
   "display_name": "Python 3 (ipykernel)",
   "language": "python",
   "name": "python3"
  },
  "language_info": {
   "codemirror_mode": {
    "name": "ipython",
    "version": 3
   },
   "file_extension": ".py",
   "mimetype": "text/x-python",
   "name": "python",
   "nbconvert_exporter": "python",
   "pygments_lexer": "ipython3",
   "version": "3.11.6"
  }
 },
 "nbformat": 4,
 "nbformat_minor": 4
}
