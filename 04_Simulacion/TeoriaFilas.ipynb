{
  "cells": [
    {
      "cell_type": "markdown",
      "metadata": {
        "id": "view-in-github",
        "colab_type": "text"
      },
      "source": [
        "<a href=\"https://colab.research.google.com/github/jugernaut/MACTI-manejodatos/blob/principal/Simulacion/TeoriaFilas.ipynb\" target=\"_parent\"><img src=\"https://colab.research.google.com/assets/colab-badge.svg\" alt=\"Open In Colab\"/></a>"
      ]
    },
    {
      "cell_type": "markdown",
      "id": "874196e3",
      "metadata": {
        "id": "874196e3"
      },
      "source": [
        "# Teoría de Colas"
      ]
    },
    {
      "cell_type": "markdown",
      "id": "d3d4cc4c",
      "metadata": {
        "id": "d3d4cc4c"
      },
      "source": [
        "## Conceptos de la teoría de colas"
      ]
    },
    {
      "cell_type": "markdown",
      "id": "a8a4d738",
      "metadata": {
        "id": "a8a4d738"
      },
      "source": [
        "- Una cola es una línea de espera para determinado servicio. Este servicio lo proporciona uno o varios dependientes.\n",
        "- La teoría de colas analiza la causa de la formación de la cola, que es la existencia de momentos en los que hay una mayor demanda de servicio que la capacidad de servicio\n",
        "- Llamaremos clientes, trabajos o tareas a los que demandan servicio, y dependientes, empleados o servidores a los que ofrecen servicio"
      ]
    },
    {
      "cell_type": "markdown",
      "id": "454bb7d2",
      "metadata": {
        "id": "454bb7d2"
      },
      "source": [
        "## Condición de no Saturación"
      ]
    },
    {
      "cell_type": "markdown",
      "id": "07a5e9a3",
      "metadata": {
        "id": "07a5e9a3"
      },
      "source": [
        "Se demuestra que si $\\lambda$ ≥ $\\mu$, el sistema se satura, es decir, el número de clientes en la cola crece indefinidamente con el tiempo, Por consiguiente, la condición de no saturación será:\n",
        "\n",
        "$\\rho \\leq 1$, $\\rho = \\frac{\\lambda}{\\mu}$\n",
        "\n",
        "nota: nosotros estudiaremos las colas que no se saturan"
      ]
    },
    {
      "cell_type": "markdown",
      "id": "d6763539",
      "metadata": {
        "id": "d6763539"
      },
      "source": [
        "## Modelo determinista"
      ]
    },
    {
      "cell_type": "markdown",
      "id": "3d577728",
      "metadata": {
        "id": "3d577728"
      },
      "source": [
        "En el modelo determinístico los tiempos de servicio son conocidos con exactitud (no son aleatorios). Con la notación que se introdujo anteriormente, se estudiará el modelo D/D/1/k-1, donde:\n",
        "\n",
        "$D/\\cdot /\\cdot /\\cdot $ significa que el tiempo entre llegadas es constantemente igual a $\\frac{1}{\\lambda}$, $\\lambda >0$. (Luego $ \\lambda$ denota el número de llegadas por unidad de tiempo, llamado tasa de llegadas)\n",
        "\n",
        "$\\cdot /D/\\cdot /\\cdot $ significa que el tiempo de servicio es constantemente igual a $\\frac{1}{\\mu}$, $\\mu>0$, de donde $ \\mu$ es el número de servicios por unidad de tiempo en período de ocupación, llamado tasa de servicio.\n",
        "\n",
        "$\\cdot /\\cdot /1/\\cdot $ indica que hay un servidor.\n",
        "\n",
        "$\\cdot /\\cdot /\\cdot /k-1$ es la capacidad del sistema, el número máximo de clientes que admite el sistema. Cuando un cliente está en el servicio sólo puede haber k-2 clientes en cola, y el k-ésimo cliente que aspire a entrar en el sistema es rechazado. "
      ]
    },
    {
      "cell_type": "markdown",
      "id": "f5a6c6a9",
      "metadata": {
        "id": "f5a6c6a9"
      },
      "source": [
        "**N(t)** denota el número de clientes en el sistema, es decir, el número de clientes en cola más el número de clientes que están siendo servidos en el instante t.\n",
        "\n",
        "Suponemos que en t=0 no hay clientes (N(0)=0).\n",
        "\n",
        "Definimos $ \\tau$ como el instante de tiempo en el que se produce el primer rechazo, es decir, llega un cliente cuando en el sistema ya hay k-1 clientes.\n",
        "\n",
        "Si $t\\in (0,\\frac{1}{\\lambda})$, no ha llegado todavía ningún cliente, por lo que en este intervalo de tiempo no hay clientes en el sistema.\n",
        "\n",
        "Si $t\\in (\\frac{1}{\\lambda}, \\tau)$, entonces N(t) es igual al número de llegadas menos el número de salidas hasta t, donde:\n",
        "\n",
        "El número de llegadas hasta t = $[\\frac{t}{\\frac{1}{\\lambda}}]=[\\lambda t]$.\n",
        "\n",
        "Elnúmero de salidas hasta t = $[\\frac{t-\\frac{1}{\\lambda}}{\\frac{1}{\\mu}}]=[ \\mu t-\\frac{\\mu}{\\lambda}]$.\n",
        "\n",
        "Por lo tanto $N(t)=[\\lambda t]-[ \\mu t-\\frac{\\mu}{\\lambda}]$. "
      ]
    },
    {
      "cell_type": "markdown",
      "id": "fb166131",
      "metadata": {
        "id": "fb166131"
      },
      "source": [
        "Siempre que se produce la salida de un cliente hay una llegada simultánea. Así, no puede suceder que haya simultáneamente una salida y un rechazo, pues si un cliente sale, se deja una plaza libre en el sistema para el otro cliente que llega en ese momento. En consecuencia, el número de clientes es creciente hasta que a partir del instante $ \\tau$ es constantemente igual a la capacidad del sistema, k-1. Por lo tanto, se tiene"
      ]
    },
    {
      "cell_type": "markdown",
      "id": "34a237cb",
      "metadata": {
        "id": "34a237cb"
      },
      "source": [
        "$$N(t)=\\begin{cases}\n",
        "0 & si & t<\\frac{1}{\\lambda}\\\\\n",
        "[\\lambda t]-[\\mu t - \\frac{\\mu}{\\lambda}]  & si & \\frac{1}{\\lambda}<t<\\tau \\\\\n",
        "k-1 & si & t\\geq\\tau\n",
        "\\end{cases}$$"
      ]
    },
    {
      "cell_type": "markdown",
      "id": "69001a1c",
      "metadata": {
        "id": "69001a1c"
      },
      "source": [
        "## Fórmulas y nomenclatura para el modelo determinista"
      ]
    },
    {
      "cell_type": "markdown",
      "id": "7371789a",
      "metadata": {
        "id": "7371789a"
      },
      "source": [
        "Suponiendo que se tiene disciplina FIFO, vamos a definir los valores asociados a cada cliente.\n",
        "\n",
        "Wn= es el tiempo de espera en cola del cliente n-ésimo.\n",
        "\n",
        "Sn= es el tiempo del n-ésimo servicio.\n",
        "\n",
        "Tn= es el tiempo entre la n-ésima y la (n+1)-ésima llegada aceptadas. "
      ]
    },
    {
      "cell_type": "markdown",
      "id": "fc08d48c",
      "metadata": {
        "id": "fc08d48c"
      },
      "source": [
        "$$S_n=\\frac{1}{\\mu}\\hspace{1cm} T_n=\\frac{1}{\\lambda}$$\n"
      ]
    },
    {
      "cell_type": "markdown",
      "id": "df1bb8c2",
      "metadata": {
        "id": "df1bb8c2"
      },
      "source": [
        "$$W_n=\\begin{cases}\n",
        "(n-1)(\\frac{1}{\\mu} - \\frac{1}{\\lambda}) & si & n  = 1,2, ... \\lambda \\tau -1 \\\\\n",
        "\\frac{k-2}{\\mu}  & si & n \\geq \\lambda \\tau\n",
        "\\end{cases}$$"
      ]
    },
    {
      "cell_type": "markdown",
      "id": "e73a9ead",
      "metadata": {
        "id": "e73a9ead"
      },
      "source": [
        "## Descripción modelo estocástico"
      ]
    },
    {
      "cell_type": "markdown",
      "id": "4078ecef",
      "metadata": {
        "id": "4078ecef"
      },
      "source": [
        "Las llegadas se producen según un proceso de Poisson de razón $\\lambda$, donde $\\lambda$ es el número medio de llegadas por unidad de tiempo **_(velocidad de llegadas)_** y $\\frac{1}{\\lambda}$ es el tiempo medio entre llegadas, Los tiempos entre llegadas se distribuirán exponencialmente, Exp($\\lambda$)Los tiempos entre servicios también se distribuirán exponencialmente, Exp($\\mu$), de tal manera que $\\mu$ es el número medio de clientes que el servidor es capaz de atender por unidad de tiempo **_(velocidad de atención del servidor)_** y $\\frac{1}{\\mu}$ es el tiempo medio de servicio"
      ]
    },
    {
      "cell_type": "markdown",
      "id": "df486589",
      "metadata": {
        "id": "df486589"
      },
      "source": [
        "## Fórmulas y nomenclatura modelo Aleatorio M/M/1"
      ]
    },
    {
      "cell_type": "markdown",
      "id": "7ff70be8",
      "metadata": {
        "id": "7ff70be8"
      },
      "source": [
        "<img src = \"http://4.bp.blogspot.com/-ksjEIB-fkv4/U47KPSbaf0I/AAAAAAAAABg/QTkgdW7FYFQ/s1600/imagen2.png\">"
      ]
    },
    {
      "cell_type": "markdown",
      "id": "997a2e27",
      "metadata": {
        "id": "997a2e27"
      },
      "source": [
        "## EJEMPLO\n",
        "\n",
        "En un servicio de Fotocopiado llegan 5 clientes cada hora y el operador de la fotocopiadora puede atenderlos a una tasa de 6 clientes cada hora.\n",
        "\n"
      ]
    },
    {
      "cell_type": "markdown",
      "id": "d22c7844",
      "metadata": {
        "id": "d22c7844"
      },
      "source": [
        "    •A) Cantidad de clientes en el Sistema\n",
        "    •B) Tiempo total que esperan los clientes en el Sistema\n",
        "    •C) Cantidad de personas formadas en la fila.\n",
        "    •D) Tiempo en el cual los clientes esperan en fila.\n",
        "    •E) Porcentaje de uso del servidor.\n",
        "    •F) Porcentaje de tiempo en el cual el servidor está ocioso.\n",
        "    •G) Probabilidad de que se encuentren 2 clientes en el Sistema."
      ]
    },
    {
      "cell_type": "code",
      "execution_count": null,
      "id": "dc4841b6",
      "metadata": {
        "id": "dc4841b6"
      },
      "outputs": [],
      "source": [
        "# datos\n",
        "lamb = 5 #clientes por hora (llegadas)\n",
        "mu   = 6 #clientes por hora (atención del servidor)"
      ]
    },
    {
      "cell_type": "code",
      "execution_count": null,
      "id": "c86a0ec3",
      "metadata": {
        "id": "c86a0ec3",
        "outputId": "fe4e481a-289a-4e84-c1a3-0ae0ad2cd141"
      },
      "outputs": [
        {
          "name": "stdout",
          "output_type": "stream",
          "text": [
            "la cantidad de clientes en el sistema es: 5\n"
          ]
        }
      ],
      "source": [
        "#A)\n",
        "ls = lamb / (mu-lamb)\n",
        "print(f'la cantidad de clientes en el sistema es: {int(ls)}')"
      ]
    },
    {
      "cell_type": "code",
      "execution_count": null,
      "id": "e409f6b1",
      "metadata": {
        "id": "e409f6b1",
        "outputId": "79fef86c-52d6-407f-9ae4-8ce817daef5b"
      },
      "outputs": [
        {
          "data": {
            "text/plain": [
              "(1.0, 1.0)"
            ]
          },
          "execution_count": 6,
          "metadata": {},
          "output_type": "execute_result"
        }
      ],
      "source": [
        "#B: tiempo que esperan los clientes\n",
        "ws = 1 / (mu-lamb)\n",
        "ws, #wq + 1 / (mu)"
      ]
    },
    {
      "cell_type": "code",
      "execution_count": null,
      "id": "6f76f646",
      "metadata": {
        "id": "6f76f646",
        "outputId": "1e5d3594-8d69-42f2-9d3e-5ece4ad550be"
      },
      "outputs": [
        {
          "data": {
            "text/plain": [
              "4.166666666666667"
            ]
          },
          "execution_count": 4,
          "metadata": {},
          "output_type": "execute_result"
        }
      ],
      "source": [
        "#C: personas formadas en la fila\n",
        "lq = lamb**2 / (mu*(mu-lamb))\n",
        "lq"
      ]
    },
    {
      "cell_type": "code",
      "execution_count": null,
      "id": "e8a78e41",
      "metadata": {
        "id": "e8a78e41",
        "outputId": "9eed194d-1b7a-4159-e39a-2b6c4b318b73"
      },
      "outputs": [
        {
          "data": {
            "text/plain": [
              "0.8333333333333334"
            ]
          },
          "execution_count": 5,
          "metadata": {},
          "output_type": "execute_result"
        }
      ],
      "source": [
        "#D: tiempo de espera en la fila\n",
        "wq = lamb / (mu*(mu-lamb))\n",
        "wq"
      ]
    },
    {
      "cell_type": "code",
      "execution_count": null,
      "id": "da2c1f61",
      "metadata": {
        "id": "da2c1f61",
        "outputId": "dcae4bb1-c597-4871-a46f-9582e9fbc922"
      },
      "outputs": [
        {
          "data": {
            "text/plain": [
              "0.8333333333333334"
            ]
          },
          "execution_count": 7,
          "metadata": {},
          "output_type": "execute_result"
        }
      ],
      "source": [
        "#E: porcentaje de uso del servidor\n",
        "p = lamb/mu\n",
        "p"
      ]
    },
    {
      "cell_type": "code",
      "execution_count": null,
      "id": "40a79308",
      "metadata": {
        "id": "40a79308",
        "outputId": "660cfd26-45da-4cd1-f576-e2eeeed58781"
      },
      "outputs": [
        {
          "data": {
            "text/plain": [
              "0.16666666666666663"
            ]
          },
          "execution_count": 8,
          "metadata": {},
          "output_type": "execute_result"
        }
      ],
      "source": [
        "#F: porcentaje de tiempo en el cual el servidor está ocisos\n",
        "p_0 = 1-p\n",
        "p_0"
      ]
    },
    {
      "cell_type": "code",
      "execution_count": null,
      "id": "80ebadcd",
      "metadata": {
        "id": "80ebadcd",
        "outputId": "2d6de5f8-dbe0-4098-8a13-dc5bf00db450"
      },
      "outputs": [
        {
          "data": {
            "text/plain": [
              "0.11574074074074073"
            ]
          },
          "execution_count": 10,
          "metadata": {},
          "output_type": "execute_result"
        }
      ],
      "source": [
        "p_2 = (1-(lamb/mu)) * (lamb/mu)**2\n",
        "p_2"
      ]
    },
    {
      "cell_type": "code",
      "execution_count": null,
      "id": "ff32e35a",
      "metadata": {
        "id": "ff32e35a",
        "outputId": "68743ea2-fd2b-4a3f-e204-9b1a2a67c535"
      },
      "outputs": [
        {
          "name": "stdout",
          "output_type": "stream",
          "text": [
            "La proba de que haya 2 clientes en el sistema es 0.11574074074074073\n",
            "\n",
            "La proba de que haya 3 clientes en el sistema es 0.09645061728395062\n",
            "\n",
            "La proba de que haya 4 clientes en el sistema es 0.08037551440329217\n",
            "\n"
          ]
        }
      ],
      "source": [
        "#G: proba de que se encuentren n clientes en el sistema\n",
        "for i in range(2, 4 + 1):\n",
        "    p_i = (1-(lamb/mu)) * (lamb/mu)**i\n",
        "    print(f'La proba de que haya {i} clientes en el sistema es {p_i}', end = '\\n\\n')"
      ]
    },
    {
      "cell_type": "code",
      "execution_count": null,
      "id": "d8c7988a",
      "metadata": {
        "id": "d8c7988a"
      },
      "outputs": [],
      "source": [
        "suma = 0\n",
        "for i in range(2,4 + 1):\n",
        "    p_i = (1-(lamb/mu)) * (lamb/mu)**i\n",
        "    suma += p_i"
      ]
    },
    {
      "cell_type": "code",
      "execution_count": null,
      "id": "cfcdef3f",
      "metadata": {
        "id": "cfcdef3f",
        "outputId": "5fd6136b-b4e9-4f84-f536-057b0b552d94"
      },
      "outputs": [
        {
          "data": {
            "text/plain": [
              "0.2925668724279835"
            ]
          },
          "execution_count": 17,
          "metadata": {},
          "output_type": "execute_result"
        }
      ],
      "source": [
        "suma"
      ]
    }
  ],
  "metadata": {
    "kernelspec": {
      "display_name": "Python 3",
      "language": "python",
      "name": "python3"
    },
    "language_info": {
      "codemirror_mode": {
        "name": "ipython",
        "version": 3
      },
      "file_extension": ".py",
      "mimetype": "text/x-python",
      "name": "python",
      "nbconvert_exporter": "python",
      "pygments_lexer": "ipython3",
      "version": "3.8.8"
    },
    "colab": {
      "provenance": [],
      "include_colab_link": true
    }
  },
  "nbformat": 4,
  "nbformat_minor": 5
}