{
 "cells": [
  {
   "attachments": {},
   "cell_type": "markdown",
   "metadata": {},
   "source": [
    "<a href=\"https://colab.research.google.com/github/jugernaut/ManejoDatos/blob/main/AlgoritmosOrdenamiento/01_pre_Ordenamientos.ipynb\" target=\"_parent\"><img src=\"https://colab.research.google.com/assets/colab-badge.svg\" alt=\"Open In Colab\"/></a>"
   ]
  },
  {
   "cell_type": "markdown",
   "metadata": {},
   "source": [
    "<font color=\"Teal\" face=\"Comic Sans MS,arial\">\n",
    "  <h1 align=\"center\"><i>Algoritmos de Ordenamiento</i></h1>\n",
    "  </font>\n",
    "  <font color=\"Black\" face=\"Comic Sans MS,arial\">\n",
    "  <h5 align=\"center\"><i>Profesor: M.en.C. Miguel Angel Pérez León</i></h5>\n",
    "    <h5 align=\"center\"><i>Ayudante: Jonathan Ramírez Montes</i></h5>\n",
    "    <h5 align=\"center\"><i>Ayudante: Jesús Iván Coss Calderón</i></h5>\n",
    "    <h5 align=\"center\"><i>Materia: Manejo de Datos</i></h5>\n",
    "  </font>"
   ]
  },
  {
   "attachments": {},
   "cell_type": "markdown",
   "metadata": {},
   "source": [
    "# Objetivos Generales\n",
    "\n",
    "Que el alumno tengo un acercamiento introductorio a los algoritmos de ordenamiento y su importancia en el manejo de datos.\n",
    "\n",
    "# Objetivos Particulares\n",
    "* Que el alumno comprenda a un alto nivel el funcionamiento de los algoritmos de ordenamiento\n",
    "\n",
    "Los algoritmos de ordenamiento son utilizados actualmente en múltiples plataformas y aplicaciones, sin embargo donde se utilizan con con mayor frecuencia es en bases de datos. Y como ya es bien conocido las bases de datos aparecen hoy en día en todos lados:\n",
    "\n",
    "*   Buscadores como *Google*.\n",
    "*   Redes sociales, *Facebook*, *Twitter*, etc.\n",
    "*   Plataformas bancarias.\n",
    "*   Sistemas médicos.\n",
    "\n",
    "Además hay otros lenguajes de programación en los cuales sugieren que para obtener una mayor eficiencia en el cruce de información se tiene que ordenar la data"
   ]
  },
  {
   "attachments": {},
   "cell_type": "markdown",
   "metadata": {
    "id": "dTMtQcsc4QA8"
   },
   "source": [
    "# Ordenamiento burbuja BubbleSort\n",
    "\n",
    "La leyenda cuenta que este algoritmo se asemeja a burbujas emergiendo de un estanque, jamas he logrado ver tales burbujas.\n",
    "\n",
    "Este algoritmo toma parejas de elementos del conjunto de izquierda a derecha y va colocando en la posición de la izquierda al valor más pequeño de ambos elementos, se hace esto con las parejas iniciales y al final de la primera pasada podemos asegurar que el elemento que queda en la posición más a la derecha de la colección es el elemento de mayor y ya se encuentra en su posición. Al repetir este proceso el suficiente número de veces, la colección queda ordenada."
   ]
  },
  {
   "attachments": {},
   "cell_type": "markdown",
   "metadata": {
    "id": "LRYDUpRzpQJ5"
   },
   "source": [
    "## Descripción..\n",
    "\n",
    "1.   Comenzamos la colección desordenada, y se toma la primer pareja de elementos a ordenar, se pasa a la casilla izquierda al menor.\n",
    "2.   Tomamos la siguiente pareja a la derecha (considerando al elemento que quedo en la casilla derecha de la pareja anterior).\n",
    "3.   Se compara nuevamente a ambos elementos y se coloca del el mayor de ambos en la casilla derecha.\n",
    "4.   Una vez que se itero por primera vez a todos los elementos de la colección, podemos asegurar que el elemento en la posición más a la derecha es el mayor y ya se encuentra en su posición final.\n",
    "5.   Se repiten los pasos 2, 3 y 4 hasta que todos los elementos estén ordenados y tomando en cuenta que en cada iteración se coloca en la posición que le corresponde al elemento más a la derecha, por lo tanto ya no hace falta comparar los elementos que ya hayan sido colocados en su posición final.\n",
    "\n",
    "\n",
    "<center>\n",
    "<img src=\"../01_Ordenamientos/utils/figs/bubble.gif\" width=\"550\">\n",
    "</center>  \n",
    "\n",
    "Para este punto de la presentación ya debe ser muy sencillo responder las mismas preguntas que nos hicimos con los algoritmos previos."
   ]
  },
  {
   "attachments": {},
   "cell_type": "markdown",
   "metadata": {
    "id": "QTM5hQWUseXG"
   },
   "source": [
    "## Código\n",
    "\n",
    "A continuación se muestra el código de este algoritmo."
   ]
  },
  {
   "cell_type": "code",
   "execution_count": 1,
   "metadata": {
    "colab": {
     "base_uri": "https://localhost:8080/"
    },
    "id": "DfeIm01msc7J",
    "outputId": "10d761b6-b896-416c-f1e3-7eb47b744645"
   },
   "outputs": [
    {
     "name": "stdout",
     "output_type": "stream",
     "text": [
      "[7, 1, 5, 8, 10, 15]\n",
      "[1, 5, 7, 8, 10, 15]\n"
     ]
    }
   ],
   "source": [
    "# implementacion in-situ del algoritmo burbuja\n",
    "def bubbleSort(lista):\n",
    "    #asigno el largo de la lista a una variable\n",
    "    n = len(lista)\n",
    "    #bandera para identificar cambios\n",
    "    intercambio = True\n",
    "    #variable para saber cuantos han sido ordenados\n",
    "    j = 0\n",
    "    #si hay cambios entro al ciclo\n",
    "    while(intercambio):\n",
    "        #los j-esimos elementos ya han sido ordenados\n",
    "        j = j+1\n",
    "        #asumimos que no hay intercambios\n",
    "        intercambio = False\n",
    "        #con este for se comparan las parejas que no estan ordenadas\n",
    "        for i in range(n-j):\n",
    "            if lista[i] > lista[i+1] :\n",
    "                # intercambio en una linea (swap)\n",
    "                lista[i], lista[i+1] = lista[i+1], lista[i]\n",
    "                intercambio = True\n",
    "    #devuelve la lista solo para ser formales IN-SITU\n",
    "    return lista\n",
    "\n",
    "# pruebas\n",
    "lista_desordenada = [7, 1, 5, 8, 10, 15]\n",
    "# se imprime lista desordenada\n",
    "print(lista_desordenada)\n",
    "# ya que el algoritmo trabaja in-situ no se necesitan memoria adicional\n",
    "bubbleSort(lista_desordenada)\n",
    "# se imprime la lista ordenada\n",
    "print(lista_desordenada)"
   ]
  },
  {
   "cell_type": "code",
   "execution_count": 2,
   "metadata": {},
   "outputs": [],
   "source": [
    "import random as rd\n",
    "import time\n",
    "import matplotlib.pyplot as plt\n",
    "plt.style.use('seaborn-whitegrid')\n",
    "%matplotlib inline"
   ]
  },
  {
   "cell_type": "code",
   "execution_count": 3,
   "metadata": {},
   "outputs": [],
   "source": [
    "l_10 = [rd.randint(0, 1000) for i in range(1_000)]\n",
    "l_50 = [rd.randint(0, 1000) for i in range(3_000)]\n",
    "l_100 = [rd.randint(0, 1000) for i in range(5_000)]\n",
    "\n",
    "ini_10 = time.time()\n",
    "bubbleSort(l_10)\n",
    "fin_10 = time.time()\n",
    "time_10 = fin_10 - ini_10\n",
    "\n",
    "ini_50 = time.time()\n",
    "bubbleSort(l_50)\n",
    "fin_50 = time.time()\n",
    "time_50 = fin_50 - ini_50\n",
    "\n",
    "ini_100 = time.time()\n",
    "bubbleSort(l_100)\n",
    "fin_100 = time.time()\n",
    "time_100 = fin_100 - ini_100"
   ]
  },
  {
   "cell_type": "code",
   "execution_count": 4,
   "metadata": {},
   "outputs": [
    {
     "data": {
      "image/png": "[encoded data removed]",
      "text/plain": [
       "<Figure size 432x288 with 1 Axes>"
      ]
     },
     "metadata": {
      "needs_background": "light"
     },
     "output_type": "display_data"
    }
   ],
   "source": [
    "plt.plot([len(l_10), len(l_50), len(l_100)], \n",
    "         [time_10, time_50, time_100]\n",
    "        );\n",
    "\n",
    "plt.xlabel('largo de las listas')\n",
    "plt.ylabel('tiempos')\n",
    "plt.title('tiempos de ejecución bubbleSort');"
   ]
  },
  {
   "cell_type": "markdown",
   "metadata": {
    "id": "YHiyGAPySr_f"
   },
   "source": [
    "#Referencias\n",
    "\n",
    "1. Thomas H. Cormen: Introduction to Algorithms.\n",
    "2. Libro Web: [Introduccion a Python](https://uniwebsidad.com/libros/algoritmos-python/capitulo-20/cuanto-cuesta-el-merge-sort?from=librosweb).\n",
    "3. Daniel T. Joyce: Object-Oriented Data Structures.\n",
    "4. John C. Mitchell: Concepts in programing Languages."
   ]
  }
 ],
 "metadata": {
  "colab": {
   "collapsed_sections": [],
   "include_colab_link": true,
   "name": "Ordenamientos_SCP.ipynb",
   "provenance": [],
   "toc_visible": true
  },
  "kernelspec": {
   "display_name": "Python 3",
   "language": "python",
   "name": "python3"
  },
  "language_info": {
   "codemirror_mode": {
    "name": "ipython",
    "version": 3
   },
   "file_extension": ".py",
   "mimetype": "text/x-python",
   "name": "python",
   "nbconvert_exporter": "python",
   "pygments_lexer": "ipython3",
   "version": "3.8.13"
  },
  "vscode": {
   "interpreter": {
    "hash": "0a68ab044c6ea367198d7b58f0f8352272d5267d2d2c131306c104f6e9ede3d6"
   }
  }
 },
 "nbformat": 4,
 "nbformat_minor": 1
}
