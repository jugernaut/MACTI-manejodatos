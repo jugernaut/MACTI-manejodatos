{
  "nbformat": 4,
  "nbformat_minor": 0,
  "metadata": {
    "colab": {
      "provenance": [],
      "toc_visible": true,
      "include_colab_link": true
    },
    "kernelspec": {
      "name": "python3",
      "display_name": "Python 3"
    },
    "language_info": {
      "name": "python"
    }
  },
  "cells": [
    {
      "cell_type": "markdown",
      "metadata": {
        "id": "view-in-github",
        "colab_type": "text"
      },
      "source": [
        "<a href=\"https://colab.research.google.com/github/jugernaut/MACTI-manejodatos/blob/principal/BasesDeDatos/04_HojasDeCalculo.ipynb\" target=\"_parent\"><img src=\"https://colab.research.google.com/assets/colab-badge.svg\" alt=\"Open In Colab\"/></a>"
      ]
    },
    {
      "cell_type": "markdown",
      "source": [
        "<font color=\"Teal\" face=\"CEntury Gothic\">\n",
        "  <h1 align=\"center\"><i>Análisis de datos con Excel: Introducción a distintas funciones de excel</i></h1>\n",
        "  </font>\n",
        "  <font color=\"Black\" face=\"Century Gothic\">\n",
        "  <h5 align=\"center\"><i>Profesor: M.en.C. Miguel Angel Pérez León</i></h5>\n",
        "  <h5 align=\"center\"><i>Ayudante: Edgar Lara Perdomo</i></h5>\n",
        "  <h5 align=\"center\"><i>Materia: Manejo de Datos</i></h5>\n",
        "  </font>"
      ],
      "metadata": {
        "id": "Y7eEouik1z4K"
      }
    },
    {
      "cell_type": "markdown",
      "source": [
        "<a name='Contenido'></a>\n",
        "## Contenido\n",
        "\n",
        "- [Objetivos Generales](#OG)\n",
        "\n",
        "- [Objetivos Particulares](#OP)\n",
        "\n",
        "- [Introducción](#Int)\n",
        "\n",
        "- [Operadores básicos de Excel](#1)\n",
        "\n",
        "- [Funciones importantes a conocer en Excel](#2)\n"
      ],
      "metadata": {
        "id": "M8AFH5zC30RZ"
      }
    },
    {
      "cell_type": "markdown",
      "source": [
        "<a name='OG'></a>\n",
        "## Objetivos Generales\n",
        "\n",
        "- Que el alumno tenga noción de algunas de las principales funciones de Excel para el análisis de datos."
      ],
      "metadata": {
        "id": "tXGNXr1y4H7Q"
      }
    },
    {
      "cell_type": "markdown",
      "source": [
        "<a name='OP'></a>\n",
        "## Objetivos Particulares\n",
        "- Conocer los operadores básicos de Excel\n",
        "- Conocer algunas de las funciones básicas de Excel para el análisis de datos, tales como aquellas que funcionan en números, fechas, texto y búsqueda.\n"
      ],
      "metadata": {
        "id": "hnhTcYPl51Qp"
      }
    },
    {
      "cell_type": "markdown",
      "source": [
        "<a name='Int'></a>\n",
        "# Introducción\n",
        "\n",
        "Excel es una herramienta poderosa y versátil que puede utilizarse tanto en el ámbito escolar como en el entorno laboral. Es una aplicación de hojas de cálculo que permite organizar, analizar y presentar datos de manera efectiva.\n",
        "\n",
        "Esencialmente, Excel es una herramienta que ayuda a simplificar procesos y a aumentar la eficiencia y precisión en el manejo de datos. En el ámbito escolar, Excel es una herramienta valiosa para la gestión de notas, seguimiento del progreso académico y la realización de proyectos y trabajos de investigación. Permite a los estudiantes organizar y analizar datos de manera efectiva, lo que les ayuda a comprender mejor la información y tomar decisiones basadas en datos. \n",
        "\n",
        "En el entorno laboral, Excel es una herramienta esencial para la gestión de datos financieros, la creación de informes y el análisis de datos. Permite a las empresas automatizar procesos, reducir errores y tomar decisiones informadas basadas en datos precisos y actualizados. \n",
        "\n",
        "Simultáneamente a la necesidad de Excel en la vida cotidiana, escolar y laboral, desde hace años el ímpetu del análisis de datos ha tomado más importancia en muchas empresas sin importar el ramo. Por lo anterior, los presentes notebooks tienen como fin ayudar en la comprensión y utilización de Excel para el análisis de datos.\n"
      ],
      "metadata": {
        "id": "VIogRBst9g6q"
      }
    },
    {
      "cell_type": "markdown",
      "source": [
        "<a name='1'></a>\n",
        "# Operadores básicos de Excel.\n",
        "\n",
        "## Numéricos:\n",
        "\n",
        "1.   $+$, realiza la suma de las celdas que se indiquen entre cada signo.\n",
        "2.   $-$, realiza la resta de las celdas que se indiquen entre cada signo.\n",
        "3. $*$, realiza la multiplicación de las celdas que se indiquen entre cada signo.\n",
        "4. $/$, realiza la división de las cledas que se indiquen entre cada signo\n",
        "5. $^$, eleva a cierta potencia un número\n",
        "\n",
        "## Lógicos:\n",
        "1. $=$: Igual\n",
        "2. $>$: Mayor que\n",
        "3. $<$: Menor que\n",
        "4. $>=$: Mayor o igual que\n",
        "5. $<=$: Menor o igual que\n",
        "6. $<>$: Distinto que\n",
        "\n",
        "## Concatenación de texto:\n",
        "1. $&$, concatena el texto de varias celdas\n",
        "\n",
        "\n",
        "[Ir al índice](#Contenido)"
      ],
      "metadata": {
        "id": "Wt_mF3jUAorA"
      }
    },
    {
      "cell_type": "markdown",
      "source": [
        "<a name='2'></a>\n",
        "# 2. Funciones importantes a conocer de Excel\n",
        "\n",
        "A continuación se mencionan algunas de las primeras funciones de Excel que utilizaremos en esta sesión, así como sus parámetros y las indicaciones que hay que tener para su buen funcionamiento:\n",
        "\n",
        "## Numéricas: \n",
        "\n",
        "\n",
        "*   $SUMA\\backsim(número 1, número 2, número 3, ..., n-número)$\n",
        "\n",
        "  Realiza la suma de las celdas que contengan números e indiquemos. Este proceso es muy usado para no indicar repetidamente el símbolo \"+\" entre cada celda\n",
        "\n",
        "*   $MIN\\backsim(número 1, número 2, número 3, ..., n-número)$\n",
        "\n",
        "  Calcula el mínimo de una selección de celdas que contienen números\n",
        "\n",
        "*   $MAX\\backsim(número 1, número 2, número 3, ..., n-número)$\n",
        "\n",
        "  Calcula el máximo de una selección de celdas que contienen números\n",
        "\n",
        "*   $RAIZ\\backsim(número)$\n",
        "\n",
        "  Calcula la raíz cuadrada de un número contenido en una celda\n",
        "\n",
        "*   $REDONDEAR\\backsim(número, número de decimales)$\n",
        "\n",
        "  Redondea un número contenido en una celda según las posiciones de decimales que indiquemos.\n",
        "\n",
        "* $ENTERO\\backsim(número)$\n",
        "\n",
        "  Devuelve el número entero de una celda\n",
        "\n",
        "* $PROMEDIO\\backsim(número 1, número 2, número 3, ..., n-número)$\n",
        "\n",
        "  Realiza el promedio de las celdas que contengan números e indiquemos. \n",
        "\n",
        "* $CONTAR\\backsim(número 1, número 2, número 3, ..., n-número)$\n",
        "\n",
        "  Cuenta el número de celdas que tienen contenido\n",
        "\n",
        "* $ALEATORIO\\backsim()$\n",
        "\n",
        "  Devuelve un número aleatorio entre 0 y 1\n",
        "\n",
        "* $RESIDUO\\backsim(número, númerodivisor)$\n",
        "\n",
        "  Devuelve el residuo entre dos números, indicando cuál es el dividendo y el divisor\n",
        "\n",
        "* $DESVEST\\backsim(número 1, número 2, número 3, ..., n-número)$\n",
        "  Calcula la desviación estandar de una muestra\n",
        "\n",
        "## FECHAS\n",
        "\n",
        "* $AÑO\\backsim(fecha)$\n",
        "* $MES\\backsim(fecha)$\n",
        "* $DIA\\backsim(fecha)$\n",
        "\n",
        "  Devuelve el año, mes o día (según corresponda) de la celda indicada, la cual debe ser una fecha\n",
        "\n",
        "* $DIAS\\backsim(fecha_inicial, fecha_final)$\n",
        "\n",
        "  Calcula el número de días entre dos fechas\n",
        "\n",
        "* $NUM.DE.SEMANA\\backsim(fecha)$\n",
        "\n",
        "  Regresa el número de semana en la que se encuentra la fecha indicada\n",
        "\n",
        "* $DIAS.LAB\\backsim(fecha-inicial, fecha-final, (vacaciones))$\n",
        "\n",
        "  Regresa el número de días entre dos fechas, pero sólo considera días laborales (no considera fines de semana), además puedes añadir un parámetro adicional con los días de vacaciones.\n",
        "\n",
        "## TEXTO:\n",
        "\n",
        "* $REEMPLAZAR\\backsim(texto-original, núm-inicial, núm-caracteres, texto-nuevo)$\n",
        "  \n",
        "  Esta función, como su nombre lo indica, permite reemplazar ciertos carácteres de un texto por otros, indicando en primer parámetro el texto original, luego el número del caracter donde se empezará el reemplazo, luego el número de carácteres que se reemplazarán después del caracter inicial, y el texto nuevo, que es con lo que se reemplazará dicho caracter.\n",
        "\n",
        "* $SUSTITUIR\\backsim(texto, texto-original, texto-nuevo)$\n",
        "\n",
        "  Esta función reemplaza ciertas partes del texto por los carácteres indicados. Es muy usada ya que permite repetir algunos cambios. Los parámetros son fáciles de comprender: en texto irá el texto que queremos cambiar, en texto-original pondremos los carácteres que queremos cambiar y en texto-nuevo los carácteres que sustituirán dicho texto.\n",
        "\n",
        "* $ESPACIOS\\backsim(texto)$\n",
        "\n",
        "  Elimina los espacios al inicio y final de la cadena.\n",
        "\n",
        "* $IZQUIERDA\\backsim(texto, (núm-caracteres))$\n",
        "* $DERECHA\\backsim(texto, (núm-caracteres))$\n",
        "\n",
        "  Devuelve el número de carácteres de la izquierda o derecha de un texto. Por default si no indicamos el número de carácteres sólo nos devolverá el del extremo indicado. \n",
        "\n",
        "* $LARGO\\backsim(texto)$\n",
        "\n",
        "  Devuelve el número de carácteres de una cadena, contabilizando espacios. \n",
        "\n",
        "* $MAYUSC\\backsim(texto)$\n",
        "* $MINUSC\\backsim(texto)$\n",
        "\n",
        "  Convierte el texto en mayúscula o minúscula según sea el caso\n",
        "\n",
        "* $NOMPROPIO\\backsim((texto)$\n",
        "\n",
        "  Convierte la primer letra de un texto en mayúscula\n",
        "\n",
        "\n",
        "## LOGICAS\n",
        "\n",
        "* $SI\\backsim(prueba_logica, (valor-si-verdadero), (valor-si-falso))$\n",
        "\n",
        "  Evalua una condición y regresa respectivos valores si se cumplen o no.\n",
        "\n",
        "* $SI.ERROR\\backsim(valor, valor-si-error))$\n",
        "\n",
        "  Evalua un valor, si este resulta en un error se reemplaza con el valor indicado en valor-si-error.\n",
        "\n",
        "* $Y\\backsim(valor-logico1, valor-logico2, valor-logico3, ... , valor-logico-enesimo)$\n",
        "* $O\\backsim(valor-logico1, valor-logico2, valor-logico3, ... , valor-logico-enesimo)$\n",
        "\n",
        "  Comprueban si las condiciones planteadas son verdaderas o falsas, y según su valor en la tabla de verdad determinan si es un valor verdadero o falso en general para todas las condiciones.\n",
        "\n",
        "## BÚSQUEDA\n",
        "\n",
        "A continuación solamente enunciaremos una de las más importantes, sin embargo hay algunas otras que se irán descubriendo en el proceso.\n",
        "\n",
        "* $BUSCARV\\backsim(valor-buscado, matriz-tabla, indicador-columnas, (rango))$\n",
        "\n",
        "  Valor buscado es el parámetro que indica lo que estamos buscando, matriz-tabla indica dónde buscaremos, indicador-columnas indica en qué columna estaremos buscando y rango puede ser 0 o 1, donde 0 es una búsqueda exacta y 1 es un sólo encontrar coincidencias.\n",
        "\n",
        "\n",
        "\n",
        "\n",
        "\n",
        "\n",
        "\n"
      ],
      "metadata": {
        "id": "mCV2T_4Bikoi"
      }
    },
    {
      "cell_type": "markdown",
      "source": [
        "<a name='2'></a>\n",
        "# 3. Ejercicios:\n",
        "\n",
        "Dentro del siguiente link encontraremos material a considerar para la demostración de ejercicios:\n",
        "\n",
        "https://drive.google.com/drive/folders/1uZdq0ynsdChVLDDD5IZlCU2mY3eA6z3i?usp=sharing\n",
        "\n"
      ],
      "metadata": {
        "id": "_yMmhJhJgSEu"
      }
    }
  ]
}