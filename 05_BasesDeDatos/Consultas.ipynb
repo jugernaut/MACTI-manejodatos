{
  "cells": [
    {
      "cell_type": "markdown",
      "metadata": {
        "id": "view-in-github",
        "colab_type": "text"
      },
      "source": [
        "<a href=\"https://colab.research.google.com/github/jugernaut/MACTI-manejodatos/blob/principal/BasesDeDatos/Consultas.ipynb\" target=\"_parent\"><img src=\"https://colab.research.google.com/assets/colab-badge.svg\" alt=\"Open In Colab\"/></a>"
      ]
    },
    {
      "cell_type": "markdown",
      "id": "148edfa5-2f98-4a04-8f11-56ecb1562b36",
      "metadata": {
        "id": "148edfa5-2f98-4a04-8f11-56ecb1562b36"
      },
      "source": [
        "## Ejemplos de querys"
      ]
    },
    {
      "cell_type": "code",
      "execution_count": null,
      "id": "fcd4dbf1-6519-4225-99fe-8d9cefd747f4",
      "metadata": {
        "id": "fcd4dbf1-6519-4225-99fe-8d9cefd747f4"
      },
      "outputs": [],
      "source": [
        "#!pip install -U pandasql"
      ]
    },
    {
      "cell_type": "code",
      "execution_count": null,
      "id": "a2504053-3237-4cc1-8909-ffd17698f6fb",
      "metadata": {
        "id": "a2504053-3237-4cc1-8909-ffd17698f6fb"
      },
      "outputs": [],
      "source": [
        "import pandas as pd\n",
        "import numpy as np\n",
        "from pandasql import sqldf"
      ]
    },
    {
      "cell_type": "code",
      "execution_count": null,
      "id": "90e7eab8-6473-48a7-b393-ac0ced554129",
      "metadata": {
        "id": "90e7eab8-6473-48a7-b393-ac0ced554129"
      },
      "outputs": [],
      "source": [
        "# Create a dummy pd.Dataframe\n",
        "df = pd.DataFrame({'col_1': ['A', 'B', np.NaN, 'C', 'D'], 'col_2': ['F', np.NaN, 'G', 'H', 'I']})"
      ]
    },
    {
      "cell_type": "code",
      "execution_count": null,
      "id": "9db414cb-cc2e-40d9-9ce0-66f43b67040a",
      "metadata": {
        "id": "9db414cb-cc2e-40d9-9ce0-66f43b67040a",
        "outputId": "11f8148b-7cc9-4d18-daaf-63268a859e6d"
      },
      "outputs": [
        {
          "data": {
            "text/html": [
              "<div>\n",
              "<style scoped>\n",
              "    .dataframe tbody tr th:only-of-type {\n",
              "        vertical-align: middle;\n",
              "    }\n",
              "\n",
              "    .dataframe tbody tr th {\n",
              "        vertical-align: top;\n",
              "    }\n",
              "\n",
              "    .dataframe thead th {\n",
              "        text-align: right;\n",
              "    }\n",
              "</style>\n",
              "<table border=\"1\" class=\"dataframe\">\n",
              "  <thead>\n",
              "    <tr style=\"text-align: right;\">\n",
              "      <th></th>\n",
              "      <th>col_1</th>\n",
              "      <th>col_2</th>\n",
              "    </tr>\n",
              "  </thead>\n",
              "  <tbody>\n",
              "    <tr>\n",
              "      <th>0</th>\n",
              "      <td>A</td>\n",
              "      <td>F</td>\n",
              "    </tr>\n",
              "    <tr>\n",
              "      <th>1</th>\n",
              "      <td>B</td>\n",
              "      <td>NaN</td>\n",
              "    </tr>\n",
              "    <tr>\n",
              "      <th>2</th>\n",
              "      <td>NaN</td>\n",
              "      <td>G</td>\n",
              "    </tr>\n",
              "    <tr>\n",
              "      <th>3</th>\n",
              "      <td>C</td>\n",
              "      <td>H</td>\n",
              "    </tr>\n",
              "    <tr>\n",
              "      <th>4</th>\n",
              "      <td>D</td>\n",
              "      <td>I</td>\n",
              "    </tr>\n",
              "  </tbody>\n",
              "</table>\n",
              "</div>"
            ],
            "text/plain": [
              "  col_1 col_2\n",
              "0     A     F\n",
              "1     B   NaN\n",
              "2   NaN     G\n",
              "3     C     H\n",
              "4     D     I"
            ]
          },
          "execution_count": 6,
          "metadata": {},
          "output_type": "execute_result"
        }
      ],
      "source": [
        "df"
      ]
    },
    {
      "cell_type": "code",
      "execution_count": null,
      "id": "139dea7a-0769-4ef5-bb92-92d424824937",
      "metadata": {
        "id": "139dea7a-0769-4ef5-bb92-92d424824937"
      },
      "outputs": [],
      "source": [
        "query = \"\"\"\n",
        "SELECT *\n",
        "FROM df\n",
        "WHERE col_1 IS NOT NULL;\n",
        "\"\"\"\n",
        "\n",
        "# Run the query\n",
        "df_view = sqldf(query)"
      ]
    },
    {
      "cell_type": "code",
      "execution_count": null,
      "id": "b0e20859-f7cc-41de-8ed8-bc76e8862e4a",
      "metadata": {
        "id": "b0e20859-f7cc-41de-8ed8-bc76e8862e4a",
        "outputId": "5402563b-f2cb-4aca-ab64-2a0fef2e7df3"
      },
      "outputs": [
        {
          "data": {
            "text/html": [
              "<div>\n",
              "<style scoped>\n",
              "    .dataframe tbody tr th:only-of-type {\n",
              "        vertical-align: middle;\n",
              "    }\n",
              "\n",
              "    .dataframe tbody tr th {\n",
              "        vertical-align: top;\n",
              "    }\n",
              "\n",
              "    .dataframe thead th {\n",
              "        text-align: right;\n",
              "    }\n",
              "</style>\n",
              "<table border=\"1\" class=\"dataframe\">\n",
              "  <thead>\n",
              "    <tr style=\"text-align: right;\">\n",
              "      <th></th>\n",
              "      <th>col_1</th>\n",
              "      <th>col_2</th>\n",
              "    </tr>\n",
              "  </thead>\n",
              "  <tbody>\n",
              "    <tr>\n",
              "      <th>0</th>\n",
              "      <td>A</td>\n",
              "      <td>F</td>\n",
              "    </tr>\n",
              "    <tr>\n",
              "      <th>1</th>\n",
              "      <td>B</td>\n",
              "      <td>None</td>\n",
              "    </tr>\n",
              "    <tr>\n",
              "      <th>2</th>\n",
              "      <td>C</td>\n",
              "      <td>H</td>\n",
              "    </tr>\n",
              "    <tr>\n",
              "      <th>3</th>\n",
              "      <td>D</td>\n",
              "      <td>I</td>\n",
              "    </tr>\n",
              "  </tbody>\n",
              "</table>\n",
              "</div>"
            ],
            "text/plain": [
              "  col_1 col_2\n",
              "0     A     F\n",
              "1     B  None\n",
              "2     C     H\n",
              "3     D     I"
            ]
          },
          "execution_count": 8,
          "metadata": {},
          "output_type": "execute_result"
        }
      ],
      "source": [
        "df_view"
      ]
    },
    {
      "cell_type": "code",
      "execution_count": null,
      "id": "ff616406-8ce9-4d59-a660-0f4a90461a55",
      "metadata": {
        "id": "ff616406-8ce9-4d59-a660-0f4a90461a55"
      },
      "outputs": [],
      "source": [
        "datos_0 = {\n",
        "    'Nombre' : ['Juan', 'Laura', 'Pepe'],\n",
        "    'Edad': [42, 40, 37],\n",
        "    'id_empleado': [1, 2, 3]\n",
        "}\n",
        "\n",
        "datos_1 ={\n",
        "        'id_dpto': [4, 5, 6],\n",
        "        'Departamento': ['Comunicación', 'Administración', 'Ventas'],\n",
        "        'ventas': [1000, 5000, 5230]\n",
        "}\n",
        "\n",
        "datos_2 ={\n",
        "        'id_empleado': [1, 2, 3],\n",
        "        'id_dpto': [4, 5, 6],\n",
        "}\n",
        "\n",
        "\n",
        "vendedores = pd.DataFrame(datos_0)\n",
        "ventas = pd.DataFrame(datos_1)\n",
        "referencias = pd.DataFrame(datos_2)"
      ]
    },
    {
      "cell_type": "code",
      "execution_count": null,
      "id": "cf214726-d4b5-4741-ad5f-3542c4d5d2b1",
      "metadata": {
        "id": "cf214726-d4b5-4741-ad5f-3542c4d5d2b1",
        "outputId": "ee22a8f5-7ae3-4046-ea3b-b266f6aa777f"
      },
      "outputs": [
        {
          "data": {
            "text/html": [
              "<div>\n",
              "<style scoped>\n",
              "    .dataframe tbody tr th:only-of-type {\n",
              "        vertical-align: middle;\n",
              "    }\n",
              "\n",
              "    .dataframe tbody tr th {\n",
              "        vertical-align: top;\n",
              "    }\n",
              "\n",
              "    .dataframe thead th {\n",
              "        text-align: right;\n",
              "    }\n",
              "</style>\n",
              "<table border=\"1\" class=\"dataframe\">\n",
              "  <thead>\n",
              "    <tr style=\"text-align: right;\">\n",
              "      <th></th>\n",
              "      <th>Nombre</th>\n",
              "      <th>Edad</th>\n",
              "      <th>id_empleado</th>\n",
              "    </tr>\n",
              "  </thead>\n",
              "  <tbody>\n",
              "    <tr>\n",
              "      <th>0</th>\n",
              "      <td>Juan</td>\n",
              "      <td>42</td>\n",
              "      <td>1</td>\n",
              "    </tr>\n",
              "    <tr>\n",
              "      <th>1</th>\n",
              "      <td>Laura</td>\n",
              "      <td>40</td>\n",
              "      <td>2</td>\n",
              "    </tr>\n",
              "    <tr>\n",
              "      <th>2</th>\n",
              "      <td>Pepe</td>\n",
              "      <td>37</td>\n",
              "      <td>3</td>\n",
              "    </tr>\n",
              "  </tbody>\n",
              "</table>\n",
              "</div>"
            ],
            "text/plain": [
              "  Nombre  Edad  id_empleado\n",
              "0   Juan    42            1\n",
              "1  Laura    40            2\n",
              "2   Pepe    37            3"
            ]
          },
          "execution_count": 27,
          "metadata": {},
          "output_type": "execute_result"
        }
      ],
      "source": [
        "vendedores"
      ]
    },
    {
      "cell_type": "code",
      "execution_count": null,
      "id": "a92e1d58-c8a4-4bd3-8cfd-4452554173fa",
      "metadata": {
        "id": "a92e1d58-c8a4-4bd3-8cfd-4452554173fa",
        "outputId": "8356c56a-2030-4e6a-d4c9-a04e04acd10b"
      },
      "outputs": [
        {
          "data": {
            "text/html": [
              "<div>\n",
              "<style scoped>\n",
              "    .dataframe tbody tr th:only-of-type {\n",
              "        vertical-align: middle;\n",
              "    }\n",
              "\n",
              "    .dataframe tbody tr th {\n",
              "        vertical-align: top;\n",
              "    }\n",
              "\n",
              "    .dataframe thead th {\n",
              "        text-align: right;\n",
              "    }\n",
              "</style>\n",
              "<table border=\"1\" class=\"dataframe\">\n",
              "  <thead>\n",
              "    <tr style=\"text-align: right;\">\n",
              "      <th></th>\n",
              "      <th>id_dpto</th>\n",
              "      <th>Departamento</th>\n",
              "      <th>ventas</th>\n",
              "    </tr>\n",
              "  </thead>\n",
              "  <tbody>\n",
              "    <tr>\n",
              "      <th>0</th>\n",
              "      <td>4</td>\n",
              "      <td>Comunicación</td>\n",
              "      <td>1000</td>\n",
              "    </tr>\n",
              "    <tr>\n",
              "      <th>1</th>\n",
              "      <td>5</td>\n",
              "      <td>Administración</td>\n",
              "      <td>5000</td>\n",
              "    </tr>\n",
              "    <tr>\n",
              "      <th>2</th>\n",
              "      <td>6</td>\n",
              "      <td>Ventas</td>\n",
              "      <td>5230</td>\n",
              "    </tr>\n",
              "  </tbody>\n",
              "</table>\n",
              "</div>"
            ],
            "text/plain": [
              "   id_dpto    Departamento  ventas\n",
              "0        4    Comunicación    1000\n",
              "1        5  Administración    5000\n",
              "2        6          Ventas    5230"
            ]
          },
          "execution_count": 28,
          "metadata": {},
          "output_type": "execute_result"
        }
      ],
      "source": [
        "ventas"
      ]
    },
    {
      "cell_type": "code",
      "execution_count": null,
      "id": "18bbd930-45fc-4c0e-8322-e80960bef9de",
      "metadata": {
        "id": "18bbd930-45fc-4c0e-8322-e80960bef9de",
        "outputId": "e6693150-1984-4e41-cb04-e2a4ca3f3e1e"
      },
      "outputs": [
        {
          "data": {
            "text/html": [
              "<div>\n",
              "<style scoped>\n",
              "    .dataframe tbody tr th:only-of-type {\n",
              "        vertical-align: middle;\n",
              "    }\n",
              "\n",
              "    .dataframe tbody tr th {\n",
              "        vertical-align: top;\n",
              "    }\n",
              "\n",
              "    .dataframe thead th {\n",
              "        text-align: right;\n",
              "    }\n",
              "</style>\n",
              "<table border=\"1\" class=\"dataframe\">\n",
              "  <thead>\n",
              "    <tr style=\"text-align: right;\">\n",
              "      <th></th>\n",
              "      <th>id_empleado</th>\n",
              "      <th>id_dpto</th>\n",
              "    </tr>\n",
              "  </thead>\n",
              "  <tbody>\n",
              "    <tr>\n",
              "      <th>0</th>\n",
              "      <td>1</td>\n",
              "      <td>4</td>\n",
              "    </tr>\n",
              "    <tr>\n",
              "      <th>1</th>\n",
              "      <td>2</td>\n",
              "      <td>5</td>\n",
              "    </tr>\n",
              "    <tr>\n",
              "      <th>2</th>\n",
              "      <td>3</td>\n",
              "      <td>6</td>\n",
              "    </tr>\n",
              "  </tbody>\n",
              "</table>\n",
              "</div>"
            ],
            "text/plain": [
              "   id_empleado  id_dpto\n",
              "0            1        4\n",
              "1            2        5\n",
              "2            3        6"
            ]
          },
          "execution_count": 29,
          "metadata": {},
          "output_type": "execute_result"
        }
      ],
      "source": [
        "referencias"
      ]
    },
    {
      "cell_type": "code",
      "execution_count": null,
      "id": "f1f39ead-b023-457d-a479-612c6ab4129f",
      "metadata": {
        "id": "f1f39ead-b023-457d-a479-612c6ab4129f"
      },
      "outputs": [],
      "source": [
        "q = '''\n",
        "select *\n",
        "from vendedores as v\n",
        "join referencias as r\n",
        "on v.id_empleado = r.id_empleado\n",
        "'''"
      ]
    },
    {
      "cell_type": "code",
      "execution_count": null,
      "id": "203a7091-e9ac-441f-bddd-c1b6e3b9423f",
      "metadata": {
        "id": "203a7091-e9ac-441f-bddd-c1b6e3b9423f",
        "outputId": "62406931-bdf7-4419-f8c1-f20f77f2ebd5"
      },
      "outputs": [
        {
          "data": {
            "text/html": [
              "<div>\n",
              "<style scoped>\n",
              "    .dataframe tbody tr th:only-of-type {\n",
              "        vertical-align: middle;\n",
              "    }\n",
              "\n",
              "    .dataframe tbody tr th {\n",
              "        vertical-align: top;\n",
              "    }\n",
              "\n",
              "    .dataframe thead th {\n",
              "        text-align: right;\n",
              "    }\n",
              "</style>\n",
              "<table border=\"1\" class=\"dataframe\">\n",
              "  <thead>\n",
              "    <tr style=\"text-align: right;\">\n",
              "      <th></th>\n",
              "      <th>Nombre</th>\n",
              "      <th>Edad</th>\n",
              "      <th>id_empleado</th>\n",
              "      <th>id_empleado</th>\n",
              "      <th>id_dpto</th>\n",
              "    </tr>\n",
              "  </thead>\n",
              "  <tbody>\n",
              "    <tr>\n",
              "      <th>0</th>\n",
              "      <td>Juan</td>\n",
              "      <td>42</td>\n",
              "      <td>1</td>\n",
              "      <td>1</td>\n",
              "      <td>4</td>\n",
              "    </tr>\n",
              "    <tr>\n",
              "      <th>1</th>\n",
              "      <td>Laura</td>\n",
              "      <td>40</td>\n",
              "      <td>2</td>\n",
              "      <td>2</td>\n",
              "      <td>5</td>\n",
              "    </tr>\n",
              "    <tr>\n",
              "      <th>2</th>\n",
              "      <td>Pepe</td>\n",
              "      <td>37</td>\n",
              "      <td>3</td>\n",
              "      <td>3</td>\n",
              "      <td>6</td>\n",
              "    </tr>\n",
              "  </tbody>\n",
              "</table>\n",
              "</div>"
            ],
            "text/plain": [
              "  Nombre  Edad  id_empleado  id_empleado  id_dpto\n",
              "0   Juan    42            1            1        4\n",
              "1  Laura    40            2            2        5\n",
              "2   Pepe    37            3            3        6"
            ]
          },
          "execution_count": 31,
          "metadata": {},
          "output_type": "execute_result"
        }
      ],
      "source": [
        "sqldf(q)"
      ]
    },
    {
      "cell_type": "code",
      "execution_count": null,
      "id": "0cd778ea-69f4-408e-b127-fb62dac98851",
      "metadata": {
        "id": "0cd778ea-69f4-408e-b127-fb62dac98851"
      },
      "outputs": [],
      "source": [
        "q = '''\n",
        "select *\n",
        "from vendedores as v\n",
        "join referencias as r\n",
        "on v.id_empleado = r.id_empleado\n",
        "join ventas as vt\n",
        "on vt.id_dpto = r.id_dpto\n",
        "'''"
      ]
    },
    {
      "cell_type": "code",
      "execution_count": null,
      "id": "2eb51005-b281-4f44-8b66-6e93fa5766c5",
      "metadata": {
        "id": "2eb51005-b281-4f44-8b66-6e93fa5766c5",
        "outputId": "76202c11-7334-411a-fcf7-8ec8bc780a37"
      },
      "outputs": [
        {
          "data": {
            "text/html": [
              "<div>\n",
              "<style scoped>\n",
              "    .dataframe tbody tr th:only-of-type {\n",
              "        vertical-align: middle;\n",
              "    }\n",
              "\n",
              "    .dataframe tbody tr th {\n",
              "        vertical-align: top;\n",
              "    }\n",
              "\n",
              "    .dataframe thead th {\n",
              "        text-align: right;\n",
              "    }\n",
              "</style>\n",
              "<table border=\"1\" class=\"dataframe\">\n",
              "  <thead>\n",
              "    <tr style=\"text-align: right;\">\n",
              "      <th></th>\n",
              "      <th>Nombre</th>\n",
              "      <th>Edad</th>\n",
              "      <th>id_empleado</th>\n",
              "      <th>id_empleado</th>\n",
              "      <th>id_dpto</th>\n",
              "      <th>id_dpto</th>\n",
              "      <th>Departamento</th>\n",
              "      <th>ventas</th>\n",
              "    </tr>\n",
              "  </thead>\n",
              "  <tbody>\n",
              "    <tr>\n",
              "      <th>0</th>\n",
              "      <td>Juan</td>\n",
              "      <td>42</td>\n",
              "      <td>1</td>\n",
              "      <td>1</td>\n",
              "      <td>4</td>\n",
              "      <td>4</td>\n",
              "      <td>Comunicación</td>\n",
              "      <td>1000</td>\n",
              "    </tr>\n",
              "    <tr>\n",
              "      <th>1</th>\n",
              "      <td>Laura</td>\n",
              "      <td>40</td>\n",
              "      <td>2</td>\n",
              "      <td>2</td>\n",
              "      <td>5</td>\n",
              "      <td>5</td>\n",
              "      <td>Administración</td>\n",
              "      <td>5000</td>\n",
              "    </tr>\n",
              "    <tr>\n",
              "      <th>2</th>\n",
              "      <td>Pepe</td>\n",
              "      <td>37</td>\n",
              "      <td>3</td>\n",
              "      <td>3</td>\n",
              "      <td>6</td>\n",
              "      <td>6</td>\n",
              "      <td>Ventas</td>\n",
              "      <td>5230</td>\n",
              "    </tr>\n",
              "  </tbody>\n",
              "</table>\n",
              "</div>"
            ],
            "text/plain": [
              "  Nombre  Edad  id_empleado  id_empleado  id_dpto  id_dpto    Departamento  \\\n",
              "0   Juan    42            1            1        4        4    Comunicación   \n",
              "1  Laura    40            2            2        5        5  Administración   \n",
              "2   Pepe    37            3            3        6        6          Ventas   \n",
              "\n",
              "   ventas  \n",
              "0    1000  \n",
              "1    5000  \n",
              "2    5230  "
            ]
          },
          "execution_count": 33,
          "metadata": {},
          "output_type": "execute_result"
        }
      ],
      "source": [
        "sqldf(q)"
      ]
    }
  ],
  "metadata": {
    "kernelspec": {
      "display_name": "Python 3",
      "language": "python",
      "name": "python3"
    },
    "language_info": {
      "codemirror_mode": {
        "name": "ipython",
        "version": 3
      },
      "file_extension": ".py",
      "mimetype": "text/x-python",
      "name": "python",
      "nbconvert_exporter": "python",
      "pygments_lexer": "ipython3",
      "version": "3.8.13"
    },
    "colab": {
      "provenance": [],
      "toc_visible": true,
      "include_colab_link": true
    }
  },
  "nbformat": 4,
  "nbformat_minor": 5
}