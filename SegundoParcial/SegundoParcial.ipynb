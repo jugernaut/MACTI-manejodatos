{
  "cells": [
    {
      "cell_type": "markdown",
      "metadata": {
        "id": "view-in-github",
        "colab_type": "text"
      },
      "source": [
        "<a href=\"https://colab.research.google.com/github/jugernaut/MACTI-manejodatos/blob/principal/SegundoParcial/SegundoParcial.ipynb\" target=\"_parent\"><img src=\"https://colab.research.google.com/assets/colab-badge.svg\" alt=\"Open In Colab\"/></a>"
      ]
    },
    {
      "cell_type": "markdown",
      "id": "e5f8a177",
      "metadata": {
        "deletable": false,
        "editable": false,
        "nbgrader": {
          "cell_type": "markdown",
          "checksum": "389166e2c03ec83f7869fe3e253085e7",
          "grade": false,
          "grade_id": "cell-581dc56d936a0834",
          "locked": true,
          "schema_version": 3,
          "solution": false,
          "task": false
        },
        "id": "e5f8a177"
      },
      "source": [
        "<font color=\"Teal\" face=\"Comic Sans MS,arial\">\n",
        "  <h1 align=\"center\"><i>Segundo Parcial</i></h1>\n",
        "  </font>\n",
        "  <font color=\"Black\" face=\"Comic Sans MS,arial\">\n",
        "  <h5 align=\"center\"><i>Profesor: M.en.C. Miguel Angel Pérez León</i></h5>\n",
        "  <h5 align=\"center\"><i>Ayudante: Jonathan Ramirez Montes</i></h5>\n",
        "  <h5 align=\"center\"><i>Materia: Manejo de Datos</i></h5>\n",
        "</font>"
      ]
    },
    {
      "cell_type": "markdown",
      "id": "baf02417",
      "metadata": {
        "deletable": false,
        "editable": false,
        "nbgrader": {
          "cell_type": "markdown",
          "checksum": "1eca100c6b7af61c5472d100d570c0f3",
          "grade": false,
          "grade_id": "cell-dcdb6e10f425839d",
          "locked": true,
          "schema_version": 3,
          "solution": false,
          "task": false
        },
        "id": "baf02417"
      },
      "source": [
        "## Las siguientes lineas son de apoyo para que ustedes sólo procesen los ejercicios\n",
        "\n",
        "**Es necesario ejecutar las siguientes celdas, de otra forma no podrás realizar los ejercicios.**"
      ]
    },
    {
      "cell_type": "code",
      "execution_count": null,
      "id": "11fa1347",
      "metadata": {
        "deletable": false,
        "editable": false,
        "nbgrader": {
          "cell_type": "code",
          "checksum": "81a970a9b633dd99ed01b905c0329d2f",
          "grade": true,
          "grade_id": "cell-91309f4c06d4a912",
          "locked": true,
          "points": 0,
          "schema_version": 3,
          "solution": false,
          "task": false
        },
        "id": "11fa1347"
      },
      "outputs": [],
      "source": [
        "# bibliotecas de evaluacion automatizada\n",
        "import numpy as np   \n",
        "from macti.evaluacion import Evalua\n",
        "evaluacion = Evalua('../../MACTI-manejodatos/SegundoParcial/utils/data/Parcial2', local=True)"
      ]
    },
    {
      "cell_type": "markdown",
      "id": "01b94d23",
      "metadata": {
        "deletable": false,
        "editable": false,
        "nbgrader": {
          "cell_type": "markdown",
          "checksum": "99aeca91df2b5633f432ec8bae76d532",
          "grade": false,
          "grade_id": "cell-fe919c4831bb40dc",
          "locked": true,
          "schema_version": 3,
          "solution": false,
          "task": false
        },
        "id": "01b94d23"
      },
      "source": [
        "# (9 Puntos) Segundo Parcial Parte Teórica\n",
        "\n",
        "El examen consiste en elegir las preguntas que deseas responder para aprobar (en el mejor de los casos el examen completo).\n",
        "\n",
        "En cada pregunta debes ser tan explícito como la calificación que desees obtener. En caso que tu justificación o desarrollo esté incompleto, también lo será la calificación asignada.\n",
        "\n",
        "\"Yo soy Thor, hijo de Odín y mientras haya vida en mi pecho… No se me ocurre más nada que decir. ¿Estás listo para morir?\"\n",
        "\n",
        "–Thor, la era de Ultrón."
      ]
    },
    {
      "cell_type": "markdown",
      "id": "861c4a09",
      "metadata": {
        "deletable": false,
        "editable": false,
        "nbgrader": {
          "cell_type": "markdown",
          "checksum": "dd99760aad70e299857ced5ff8ef55eb",
          "grade": false,
          "grade_id": "cell-20a222f34b77eafa",
          "locked": true,
          "schema_version": 3,
          "solution": false,
          "task": false
        },
        "id": "861c4a09"
      },
      "source": [
        "# (7 Puntos) Arboles Binarios\n"
      ]
    },
    {
      "cell_type": "markdown",
      "id": "c8a1b6ea",
      "metadata": {
        "deletable": false,
        "editable": false,
        "nbgrader": {
          "cell_type": "markdown",
          "checksum": "7fe628766d78a1ee1e4d14c34f7d9ea1",
          "grade": false,
          "grade_id": "cell-8b4ad8765096cf96",
          "locked": true,
          "schema_version": 3,
          "solution": false,
          "task": false
        },
        "id": "c8a1b6ea"
      },
      "source": [
        "## (1.5 Puntos) Funcionamiento de los algoritmos \n",
        "\n",
        "¿Cuál es la definición de​ árbol binario (AB)? y a que orden de complejidad pertenecen sus operaciones, (inserta, busca, elimina, y borra nodo), justifica tu respuesta?.\n",
        "\n",
        "¿Cuál es la definición de ​ árbol binario de búsqueda (ABB​) ​ y a que orden de complejidad pertenecen sus operaciones, (inserta, busca, elimina, y borra nodo), justifica tu respuesta?. ¿Cuál es la\n",
        "diferencia entre un AB y un ABB?.\n",
        "\n",
        "¿Cuál es la definición de árbol AVL (AAVL) y la complejidad al que pertenecen sus operaciones, (inserta, busca, elimina, y borra nodo), justifica tu respuesta?. ¿Cuál es la diferencia entre un ABB y\n",
        "un AAVL?."
      ]
    },
    {
      "cell_type": "markdown",
      "id": "e1d6d165",
      "metadata": {
        "deletable": false,
        "editable": false,
        "nbgrader": {
          "cell_type": "markdown",
          "checksum": "93dc5f8e26de586e5c5a57bb35a028fc",
          "grade": false,
          "grade_id": "cell-e19a59e0bf1a14d4",
          "locked": true,
          "schema_version": 3,
          "solution": false,
          "task": false
        },
        "id": "e1d6d165"
      },
      "source": [
        "## (2.5 Puntos) Operaciones sobre Arboles\n",
        "\n",
        "Ya que sabes cómo se inserta, elimina, busca un nodo y cómo se recorren los árboles binarios de búsqueda y árboles AVL, realiza las siguientes operaciones en ambos tipos de árboles, mostrando paso a paso cómo queda el árbol después de cada operación. En el caso de las búsquedas explica paso a paso que sucede al buscar los elementos solicitados y en el caso de los recorridos, se realizan al final de todas las operaciones y sólo debes mostrar el resultado.\n",
        "\n",
        "*   insertar en este orden los elementos: [15, 10, 20, 23, 18, 55, 5, 0, 7].\n",
        "*   debes buscar los elementos: [7, 35, 55].\n",
        "*   debes eliminar en este orden los elementos: [55, 20, 25].\n",
        "*   recorrer en: orden, preorden, postorden."
      ]
    },
    {
      "cell_type": "markdown",
      "id": "429a7a8b",
      "metadata": {
        "deletable": false,
        "editable": false,
        "nbgrader": {
          "cell_type": "markdown",
          "checksum": "fd20cc2cadc3831d7010a3c197f34060",
          "grade": false,
          "grade_id": "cell-36306b4f46d71921",
          "locked": true,
          "schema_version": 3,
          "solution": false,
          "task": false
        },
        "id": "429a7a8b"
      },
      "source": [
        "## (1 Punto) Comparativa\n",
        "\n",
        "Muestra una tabla en la que se listen en los renglones AB, ABB, AAVL. Y en las columnas el peor caso para cada uno de ellos, y el orden de complejidad al que pertenece el método de búsqueda."
      ]
    },
    {
      "cell_type": "markdown",
      "id": "f6cf8efb",
      "metadata": {
        "deletable": false,
        "editable": false,
        "nbgrader": {
          "cell_type": "markdown",
          "checksum": "6f3d113a4a1e48f5b75f23594410e70b",
          "grade": false,
          "grade_id": "cell-a596e189dda909cb",
          "locked": true,
          "schema_version": 3,
          "solution": false,
          "task": false
        },
        "id": "f6cf8efb"
      },
      "source": [
        "## (2 Puntos) Rotación de Arboles\n",
        "\n",
        "Dado el código para rotar los nodos de los árboles (`rotacionSimpleDerecha`, `rotacionSimpleDerecha`), en la clase `ArbolesBalanceados.py`muestra el contraejemplo del por que no se dan todos los casos dentro de las rotaciones y módifica el código para que se ajuste a las modificaciones previamente mencionadas."
      ]
    },
    {
      "cell_type": "markdown",
      "id": "5d40136f",
      "metadata": {
        "deletable": false,
        "editable": false,
        "nbgrader": {
          "cell_type": "markdown",
          "checksum": "69885ec2282478330353778fd57fe678",
          "grade": false,
          "grade_id": "cell-f16f77f860674fcf",
          "locked": true,
          "schema_version": 3,
          "solution": false,
          "task": false
        },
        "id": "5d40136f"
      },
      "source": [
        "# (2 Puntos) Tablas de Dispersión (HASH)\n"
      ]
    },
    {
      "cell_type": "markdown",
      "id": "62650c69",
      "metadata": {
        "deletable": false,
        "editable": false,
        "nbgrader": {
          "cell_type": "markdown",
          "checksum": "853297155afce7ceaf590e135c55d39b",
          "grade": false,
          "grade_id": "cell-511daecae7910cd6",
          "locked": true,
          "schema_version": 3,
          "solution": false,
          "task": false
        },
        "id": "62650c69"
      },
      "source": [
        "## (2 Puntos) Función HASH\n",
        "\n",
        "Escribe la función hash que realice el mapeo de los elementos de un arreglo tridimensional $(m \\times n \\times o)$ en una lista de una sola dimensión. A está función se le conoce como **polinomio de direccionamiento** o vector de direccionamiento. Prueba tu función con un arreglo de $(2 \\times 2 \\times 2)$. **No es necesario escribir código**​, solo necesitas mostrar la definicón de la función hash y las pruebas con el cubo de $(2 \\times 2 \\times 2)$."
      ]
    },
    {
      "cell_type": "markdown",
      "id": "8087f43f",
      "metadata": {
        "deletable": false,
        "editable": false,
        "nbgrader": {
          "cell_type": "markdown",
          "checksum": "883914638c78c44169e7924e592d03ff",
          "grade": false,
          "grade_id": "cell-b5b79f51c4c6ca59",
          "locked": true,
          "schema_version": 3,
          "solution": false,
          "task": false
        },
        "id": "8087f43f"
      },
      "source": [
        "# (9 Puntos) Segundo Parcial Parte Práctica\n",
        "\n",
        "Ejecuta las celdas necesarias y valida tus resultados.\n",
        "\n"
      ]
    },
    {
      "cell_type": "markdown",
      "id": "99054145",
      "metadata": {
        "deletable": false,
        "editable": false,
        "nbgrader": {
          "cell_type": "markdown",
          "checksum": "5a6646cdff72d8192cf20fa37d061b62",
          "grade": false,
          "grade_id": "cell-64406be21f4e21d5",
          "locked": true,
          "schema_version": 3,
          "solution": false,
          "task": false
        },
        "id": "99054145"
      },
      "source": [
        "# (3 Puntos) Diccionarios \n",
        "\n",
        "Usando el archivo *Skynet.txt*, realizar los siguientes incisos:"
      ]
    },
    {
      "cell_type": "code",
      "execution_count": null,
      "id": "edc84ad9",
      "metadata": {
        "id": "edc84ad9"
      },
      "outputs": [],
      "source": [
        "!wget https://raw.githubusercontent.com/jugernaut/ManejoDatos/desarrollo/utils/Skynet.txt"
      ]
    },
    {
      "cell_type": "markdown",
      "id": "ba270a4d",
      "metadata": {
        "deletable": false,
        "editable": false,
        "nbgrader": {
          "cell_type": "markdown",
          "checksum": "d0290758898fa0a01674b1d6c164599d",
          "grade": false,
          "grade_id": "cell-78e2fd27d4fbbf36",
          "locked": true,
          "schema_version": 3,
          "solution": false,
          "task": false
        },
        "id": "ba270a4d"
      },
      "source": [
        "Usa el POO y crea una clase llamada `ContadorPalabras`, esta clase debe tener los siguientes atributos:\n",
        "\n",
        "*   `ruta`: es la ruta donde se ubica el documento a analizar.\n",
        "*   `diccionario`: es el diccionario que contiene la frecuencia de los elementos en el texto.\n",
        "*   `diccionarioOrdenado`: una tupla que contendra al diccionario ordenado.\n",
        "\n",
        "Y los siguientes métodos:\n",
        "\n",
        "*   `machine_learning(self):` este metodo se encarga de leer el archivo ubicado en ruta y agregar a la variable diccionario la frecuencia de las palabras en el texto.\n",
        "*   `ordena_diccionario(self):` se encarga de ordenar el diccionario y almacenar el resultado en la variable diccionarioOrdenado.\n",
        "*   `imprime_diccionario(self):` imprime las variables `diccionario` y `diccionarioOrdenado`\n",
        "\n",
        "Una vez que tengas la clase definida ejecuta la celda de evaluación\n",
        "\n",
        "    wally = ContadorDePalabras(\"Skynet.txt\")\n",
        "    wally.machine_learning()\n",
        "    wally.ordena_diccionario()\n",
        "    wally.imprime_diccionario()\n",
        "\n",
        "Y el resultado debe ser el siguiente.\n",
        "\n",
        "<center>\n",
        "<img src=\"https://github.com/jugernaut/ManejoDatos/blob/desarrollo/Imagenes/AlgoritmosBusqueda/skynet.png?raw=1\" width=\"900\">   \n",
        "</center>"
      ]
    },
    {
      "cell_type": "code",
      "execution_count": null,
      "id": "793c0fbd",
      "metadata": {
        "deletable": false,
        "nbgrader": {
          "cell_type": "code",
          "checksum": "4a73e4eac8b272a49a9486a61ab4fc8b",
          "grade": false,
          "grade_id": "cell-7bb43eac093ba4a1",
          "locked": false,
          "schema_version": 3,
          "solution": true,
          "task": false
        },
        "id": "793c0fbd"
      },
      "outputs": [],
      "source": [
        "#Define la clase ContadorPalabras\n",
        "#! /usr/bin/python\n",
        "# -*- coding: utf-8 -*-\n",
        "import re\n",
        "from collections import Counter\n",
        "# YOUR CODE HERE\n",
        "raise NotImplementedError()"
      ]
    },
    {
      "cell_type": "code",
      "execution_count": null,
      "id": "45e2710e",
      "metadata": {
        "deletable": false,
        "editable": false,
        "nbgrader": {
          "cell_type": "code",
          "checksum": "78be3add414012dea3d7f9954584efcf",
          "grade": true,
          "grade_id": "cell-b5a1de6bb6ecc13b",
          "locked": true,
          "points": 0,
          "schema_version": 3,
          "solution": false,
          "task": false
        },
        "id": "45e2710e"
      },
      "outputs": [],
      "source": [
        "# Validacion de resultados\n",
        "wally = ContadorDePalabras(\"Skynet.txt\")\n",
        "wally.machine_learning()\n",
        "wally.ordena_diccionario()\n",
        "\n",
        "print(\"Diccionario Desordenado\\n\",list(wally.diccionario)[:100], \"\\n\")\n",
        "print(\"Diccionario Ordenado\\n\",list(wally.diccionarioOrdenado)[:100])"
      ]
    },
    {
      "cell_type": "code",
      "execution_count": null,
      "id": "cea78e8a",
      "metadata": {
        "deletable": false,
        "editable": false,
        "nbgrader": {
          "cell_type": "code",
          "checksum": "3f58e7018e7fe99823f31610d2307c65",
          "grade": true,
          "grade_id": "cell-14078eb1682f8e50",
          "locked": true,
          "points": 0,
          "schema_version": 3,
          "solution": false,
          "task": false
        },
        "id": "cea78e8a"
      },
      "outputs": [],
      "source": [
        "evaluacion.verifica(np.array(wally.diccionarioOrdenado), 1)"
      ]
    }
  ],
  "metadata": {
    "kernelspec": {
      "display_name": "Python 3 (ipykernel)",
      "language": "python",
      "name": "python3"
    },
    "language_info": {
      "codemirror_mode": {
        "name": "ipython",
        "version": 3
      },
      "file_extension": ".py",
      "mimetype": "text/x-python",
      "name": "python",
      "nbconvert_exporter": "python",
      "pygments_lexer": "ipython3",
      "version": "3.9.7"
    },
    "colab": {
      "provenance": [],
      "toc_visible": true,
      "include_colab_link": true
    }
  },
  "nbformat": 4,
  "nbformat_minor": 5
}