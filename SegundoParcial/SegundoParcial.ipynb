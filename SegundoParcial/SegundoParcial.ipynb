{
  "cells": [
    {
      "cell_type": "markdown",
      "metadata": {
        "id": "view-in-github",
        "colab_type": "text"
      },
      "source": [
        "<a href=\"https://colab.research.google.com/github/jugernaut/MACTI-manejodatos/blob/principal/SegundoParcial/SegundoParcial.ipynb\" target=\"_parent\"><img src=\"https://colab.research.google.com/assets/colab-badge.svg\" alt=\"Open In Colab\"/></a>"
      ]
    },
    {
      "cell_type": "markdown",
      "id": "e5f8a177",
      "metadata": {
        "deletable": false,
        "editable": false,
        "nbgrader": {
          "cell_type": "markdown",
          "checksum": "389166e2c03ec83f7869fe3e253085e7",
          "grade": false,
          "grade_id": "cell-581dc56d936a0834",
          "locked": true,
          "schema_version": 3,
          "solution": false,
          "task": false
        },
        "id": "e5f8a177"
      },
      "source": [
        "<font color=\"Teal\" face=\"Comic Sans MS,arial\">\n",
        "  <h1 align=\"center\"><i>Segundo Parcial</i></h1>\n",
        "  </font>\n",
        "  <font color=\"Black\" face=\"Comic Sans MS,arial\">\n",
        "  <h5 align=\"center\"><i>Profesor: M.en.C. Miguel Angel Pérez León</i></h5>\n",
        "  <h5 align=\"center\"><i>Ayudante: Jonathan Ramirez Montes</i></h5>\n",
        "  <h5 align=\"center\"><i>Materia: Manejo de Datos</i></h5>\n",
        "</font>"
      ]
    },
    {
      "cell_type": "markdown",
      "id": "baf02417",
      "metadata": {
        "deletable": false,
        "editable": false,
        "nbgrader": {
          "cell_type": "markdown",
          "checksum": "1eca100c6b7af61c5472d100d570c0f3",
          "grade": false,
          "grade_id": "cell-dcdb6e10f425839d",
          "locked": true,
          "schema_version": 3,
          "solution": false,
          "task": false
        },
        "id": "baf02417"
      },
      "source": [
        "## Las siguientes lineas son de apoyo para que ustedes sólo procesen los ejercicios\n",
        "\n",
        "**Es necesario ejecutar las siguientes celdas, de otra forma no podrás realizar los ejercicios.**"
      ]
    },
    {
      "cell_type": "code",
      "execution_count": null,
      "id": "11fa1347",
      "metadata": {
        "deletable": false,
        "editable": false,
        "nbgrader": {
          "cell_type": "code",
          "checksum": "81a970a9b633dd99ed01b905c0329d2f",
          "grade": true,
          "grade_id": "cell-91309f4c06d4a912",
          "locked": true,
          "points": 0,
          "schema_version": 3,
          "solution": false,
          "task": false
        },
        "id": "11fa1347"
      },
      "outputs": [],
      "source": [
        "# bibliotecas de evaluacion automatizada\n",
        "import numpy as np   \n",
        "from macti.evaluacion import Evalua\n",
        "evaluacion = Evalua('../../MACTI-manejodatos/SegundoParcial/utils/data/Parcial2', local=True)"
      ]
    },
    {
      "cell_type": "markdown",
      "id": "01b94d23",
      "metadata": {
        "deletable": false,
        "editable": false,
        "nbgrader": {
          "cell_type": "markdown",
          "checksum": "99aeca91df2b5633f432ec8bae76d532",
          "grade": false,
          "grade_id": "cell-fe919c4831bb40dc",
          "locked": true,
          "schema_version": 3,
          "solution": false,
          "task": false
        },
        "id": "01b94d23"
      },
      "source": [
        "# (9 Puntos) Segundo Parcial Parte Teórica\n",
        "\n",
        "El examen consiste en elegir las preguntas que deseas responder para aprobar (en el mejor de los casos el examen completo).\n",
        "\n",
        "En cada pregunta debes ser tan explícito como la calificación que desees obtener. En caso que tu justificación o desarrollo esté incompleto, también lo será la calificación asignada.\n",
        "\n",
        "\"Yo soy Thor, hijo de Odín y mientras haya vida en mi pecho… No se me ocurre más nada que decir. ¿Estás listo para morir?\"\n",
        "\n",
        "–Thor, la era de Ultrón."
      ]
    },
    {
      "cell_type": "markdown",
      "id": "861c4a09",
      "metadata": {
        "deletable": false,
        "editable": false,
        "nbgrader": {
          "cell_type": "markdown",
          "checksum": "dd99760aad70e299857ced5ff8ef55eb",
          "grade": false,
          "grade_id": "cell-20a222f34b77eafa",
          "locked": true,
          "schema_version": 3,
          "solution": false,
          "task": false
        },
        "id": "861c4a09"
      },
      "source": [
        "# (7 Puntos) Arboles Binarios\n"
      ]
    },
    {
      "cell_type": "markdown",
      "id": "c8a1b6ea",
      "metadata": {
        "deletable": false,
        "editable": false,
        "nbgrader": {
          "cell_type": "markdown",
          "checksum": "7fe628766d78a1ee1e4d14c34f7d9ea1",
          "grade": false,
          "grade_id": "cell-8b4ad8765096cf96",
          "locked": true,
          "schema_version": 3,
          "solution": false,
          "task": false
        },
        "id": "c8a1b6ea"
      },
      "source": [
        "## (1.5 Puntos) Funcionamiento de los algoritmos \n",
        "\n",
        "¿Cuál es la definición de​ árbol binario (AB)? y a que orden de complejidad pertenecen sus operaciones, (inserta, busca, elimina, y borra nodo), justifica tu respuesta?.\n",
        "\n",
        "¿Cuál es la definición de ​ árbol binario de búsqueda (ABB​) ​ y a que orden de complejidad pertenecen sus operaciones, (inserta, busca, elimina, y borra nodo), justifica tu respuesta?. ¿Cuál es la\n",
        "diferencia entre un AB y un ABB?.\n",
        "\n",
        "¿Cuál es la definición de árbol AVL (AAVL) y la complejidad al que pertenecen sus operaciones, (inserta, busca, elimina, y borra nodo), justifica tu respuesta?. ¿Cuál es la diferencia entre un ABB y\n",
        "un AAVL?."
      ]
    },
    {
      "cell_type": "markdown",
      "id": "e1d6d165",
      "metadata": {
        "deletable": false,
        "editable": false,
        "nbgrader": {
          "cell_type": "markdown",
          "checksum": "93dc5f8e26de586e5c5a57bb35a028fc",
          "grade": false,
          "grade_id": "cell-e19a59e0bf1a14d4",
          "locked": true,
          "schema_version": 3,
          "solution": false,
          "task": false
        },
        "id": "e1d6d165"
      },
      "source": [
        "## (2.5 Puntos) Operaciones sobre Arboles\n",
        "\n",
        "Ya que sabes cómo se inserta, elimina, busca un nodo y cómo se recorren los árboles binarios de búsqueda y árboles AVL, realiza las siguientes operaciones en ambos tipos de árboles, mostrando paso a paso cómo queda el árbol después de cada operación. En el caso de las búsquedas explica paso a paso que sucede al buscar los elementos solicitados y en el caso de los recorridos, se realizan al final de todas las operaciones y sólo debes mostrar el resultado.\n",
        "\n",
        "*   insertar en este orden los elementos: [15, 10, 20, 23, 18, 55, 5, 0, 7].\n",
        "*   debes buscar los elementos: [7, 35, 55].\n",
        "*   debes eliminar en este orden los elementos: [55, 20, 25].\n",
        "*   recorrer en: orden, preorden, postorden."
      ]
    },
    {
      "cell_type": "markdown",
      "id": "429a7a8b",
      "metadata": {
        "deletable": false,
        "editable": false,
        "nbgrader": {
          "cell_type": "markdown",
          "checksum": "fd20cc2cadc3831d7010a3c197f34060",
          "grade": false,
          "grade_id": "cell-36306b4f46d71921",
          "locked": true,
          "schema_version": 3,
          "solution": false,
          "task": false
        },
        "id": "429a7a8b"
      },
      "source": [
        "## (1 Punto) Comparativa\n",
        "\n",
        "Muestra una tabla en la que se listen en los renglones AB, ABB, AAVL. Y en las columnas el peor caso para cada uno de ellos, y el orden de complejidad al que pertenece el método de búsqueda."
      ]
    },
    {
      "cell_type": "markdown",
      "id": "f6cf8efb",
      "metadata": {
        "deletable": false,
        "editable": false,
        "nbgrader": {
          "cell_type": "markdown",
          "checksum": "6f3d113a4a1e48f5b75f23594410e70b",
          "grade": false,
          "grade_id": "cell-a596e189dda909cb",
          "locked": true,
          "schema_version": 3,
          "solution": false,
          "task": false
        },
        "id": "f6cf8efb"
      },
      "source": [
        "## (2 Puntos) Rotación de Arboles\n",
        "\n",
        "Dado el código para rotar los nodos de los árboles (`rotacionSimpleDerecha`, `rotacionSimpleDerecha`), en la clase `ArbolesBalanceados.py`muestra el contraejemplo del por que no se dan todos los casos dentro de las rotaciones y módifica el código para que se ajuste a las modificaciones previamente mencionadas."
      ]
    },
    {
      "cell_type": "markdown",
      "id": "5d40136f",
      "metadata": {
        "deletable": false,
        "editable": false,
        "nbgrader": {
          "cell_type": "markdown",
          "checksum": "69885ec2282478330353778fd57fe678",
          "grade": false,
          "grade_id": "cell-f16f77f860674fcf",
          "locked": true,
          "schema_version": 3,
          "solution": false,
          "task": false
        },
        "id": "5d40136f"
      },
      "source": [
        "# (2 Puntos) Tablas de Dispersión (HASH)\n"
      ]
    },
    {
      "cell_type": "markdown",
      "id": "62650c69",
      "metadata": {
        "deletable": false,
        "editable": false,
        "nbgrader": {
          "cell_type": "markdown",
          "checksum": "853297155afce7ceaf590e135c55d39b",
          "grade": false,
          "grade_id": "cell-511daecae7910cd6",
          "locked": true,
          "schema_version": 3,
          "solution": false,
          "task": false
        },
        "id": "62650c69"
      },
      "source": [
        "## (2 Puntos) Función HASH\n",
        "\n",
        "Escribe la función hash que realice el mapeo de los elementos de un arreglo tridimensional $(m \\times n \\times o)$ en una lista de una sola dimensión. A está función se le conoce como **polinomio de direccionamiento** o vector de direccionamiento. Prueba tu función con un arreglo de $(2 \\times 2 \\times 2)$. **No es necesario escribir código**​, solo necesitas mostrar la definicón de la función hash y las pruebas con el cubo de $(2 \\times 2 \\times 2)$."
      ]
    },
    {
      "cell_type": "markdown",
      "id": "8087f43f",
      "metadata": {
        "deletable": false,
        "editable": false,
        "nbgrader": {
          "cell_type": "markdown",
          "checksum": "883914638c78c44169e7924e592d03ff",
          "grade": false,
          "grade_id": "cell-b5b79f51c4c6ca59",
          "locked": true,
          "schema_version": 3,
          "solution": false,
          "task": false
        },
        "id": "8087f43f"
      },
      "source": [
        "# (9 Puntos) Segundo Parcial Parte Práctica\n",
        "\n",
        "Ejecuta las celdas necesarias y valida tus resultados.\n",
        "\n"
      ]
    },
    {
      "cell_type": "markdown",
      "id": "99054145",
      "metadata": {
        "deletable": false,
        "editable": false,
        "nbgrader": {
          "cell_type": "markdown",
          "checksum": "5a6646cdff72d8192cf20fa37d061b62",
          "grade": false,
          "grade_id": "cell-64406be21f4e21d5",
          "locked": true,
          "schema_version": 3,
          "solution": false,
          "task": false
        },
        "id": "99054145"
      },
      "source": [
        "# (3 Puntos) Diccionarios \n",
        "\n",
        "Usando el archivo *Skynet.txt*, realizar los siguientes incisos:"
      ]
    },
    {
      "cell_type": "code",
      "execution_count": null,
      "id": "edc84ad9",
      "metadata": {
        "id": "edc84ad9"
      },
      "outputs": [],
      "source": [
        "!wget https://raw.githubusercontent.com/jugernaut/ManejoDatos/desarrollo/utils/Skynet.txt"
      ]
    },
    {
      "cell_type": "markdown",
      "id": "ba270a4d",
      "metadata": {
        "deletable": false,
        "editable": false,
        "nbgrader": {
          "cell_type": "markdown",
          "checksum": "d0290758898fa0a01674b1d6c164599d",
          "grade": false,
          "grade_id": "cell-78e2fd27d4fbbf36",
          "locked": true,
          "schema_version": 3,
          "solution": false,
          "task": false
        },
        "id": "ba270a4d"
      },
      "source": [
        "Usa el POO y crea una clase llamada `ContadorPalabras`, esta clase debe tener los siguientes atributos:\n",
        "\n",
        "*   `ruta`: es la ruta donde se ubica el documento a analizar.\n",
        "*   `diccionario`: es el diccionario que contiene la frecuencia de los elementos en el texto.\n",
        "*   `diccionarioOrdenado`: una tupla que contendra al diccionario ordenado.\n",
        "\n",
        "Y los siguientes métodos:\n",
        "\n",
        "*   `machine_learning(self):` este metodo se encarga de leer el archivo ubicado en ruta y agregar a la variable diccionario la frecuencia de las palabras en el texto.\n",
        "*   `ordena_diccionario(self):` se encarga de ordenar el diccionario y almacenar el resultado en la variable diccionarioOrdenado.\n",
        "*   `imprime_diccionario(self):` imprime las variables `diccionario` y `diccionarioOrdenado`\n",
        "\n",
        "Una vez que tengas la clase definida ejecuta la celda de evaluación\n",
        "\n",
        "    wally = ContadorDePalabras(\"Skynet.txt\")\n",
        "    wally.machine_learning()\n",
        "    wally.ordena_diccionario()\n",
        "    wally.imprime_diccionario()\n",
        "\n",
        "Y el resultado debe ser el siguiente.\n",
        "\n",
        "<center>\n",
        "<img src=\"https://github.com/jugernaut/ManejoDatos/blob/desarrollo/Imagenes/AlgoritmosBusqueda/skynet.png?raw=1\" width=\"900\">   \n",
        "</center>"
      ]
    },
    {
      "cell_type": "code",
      "execution_count": null,
      "id": "793c0fbd",
      "metadata": {
        "deletable": false,
        "nbgrader": {
          "cell_type": "code",
          "checksum": "4a73e4eac8b272a49a9486a61ab4fc8b",
          "grade": false,
          "grade_id": "cell-7bb43eac093ba4a1",
          "locked": false,
          "schema_version": 3,
          "solution": true,
          "task": false
        },
        "id": "793c0fbd"
      },
      "outputs": [],
      "source": [
        "#Define la clase ContadorPalabras\n",
        "#! /usr/bin/python\n",
        "# -*- coding: utf-8 -*-\n",
        "import re\n",
        "from collections import Counter\n",
        "# YOUR CODE HERE\n",
        "raise NotImplementedError()"
      ]
    },
    {
      "cell_type": "code",
      "execution_count": null,
      "id": "45e2710e",
      "metadata": {
        "deletable": false,
        "editable": false,
        "nbgrader": {
          "cell_type": "code",
          "checksum": "a61b1fb24acd4ec8f15c3d439768921a",
          "grade": true,
          "grade_id": "cell-b5a1de6bb6ecc13b",
          "locked": true,
          "points": 0,
          "schema_version": 3,
          "solution": false,
          "task": false
        },
        "id": "45e2710e"
      },
      "outputs": [],
      "source": [
        "# Validacion de resultados\n",
        "wally = ContadorDePalabras(\"Skynet.txt\")\n",
        "wally.machine_learning()\n",
        "wally.ordena_diccionario()\n",
        "\n",
        "print(\"Diccionario Desordenado\\n\",list(wally.diccionario)[:100], \"\\n\")\n",
        "print(\"Diccionario Ordenado\\n\",list(wally.diccionarioOrdenado)[:100])"
      ]
    },
    {
      "cell_type": "code",
      "execution_count": null,
      "id": "cea78e8a",
      "metadata": {
        "deletable": false,
        "editable": false,
        "nbgrader": {
          "cell_type": "code",
          "checksum": "3f58e7018e7fe99823f31610d2307c65",
          "grade": true,
          "grade_id": "cell-14078eb1682f8e50",
          "locked": true,
          "points": 0,
          "schema_version": 3,
          "solution": false,
          "task": false
        },
        "id": "cea78e8a"
      },
      "outputs": [],
      "source": [
        "evaluacion.verifica(np.array(wally.diccionarioOrdenado), 1)"
      ]
    },
    {
      "cell_type": "markdown",
      "id": "b3f596f6",
      "metadata": {
        "deletable": false,
        "editable": false,
        "nbgrader": {
          "cell_type": "markdown",
          "checksum": "64c0ff5da6b6224679ba60cbd0b85132",
          "grade": false,
          "grade_id": "cell-2241e303c7c3c4a5",
          "locked": true,
          "schema_version": 3,
          "solution": false,
          "task": false
        },
        "id": "b3f596f6"
      },
      "source": [
        "### Responde con texto en esta misma celda\n",
        "\n",
        "Eliminando pronombres, conjunciones y artículos, debes contestar ¿cuál es la palabra que aparece más veces en el texto *Skynet.txt*?"
      ]
    },
    {
      "cell_type": "markdown",
      "id": "d42fd948",
      "metadata": {
        "deletable": false,
        "editable": false,
        "nbgrader": {
          "cell_type": "markdown",
          "checksum": "4c9fa648393bd5e32c8071fa15d7ed49",
          "grade": false,
          "grade_id": "cell-dec436375fc1e7b6",
          "locked": true,
          "schema_version": 3,
          "solution": false,
          "task": false
        },
        "id": "d42fd948"
      },
      "source": [
        "# (2 Puntos) Simulación de probabilidades\n",
        "\n",
        "Aproxima el volumen de la esfera unitaria centrada en el origen usando aproximación de integrales mediante el **método de Monte Carlo**, puedes tomar como base el código de la presentación de [simulación de probabilidades](../../../MACTI-manejodatos/Simulacion/02_SimulacionProbabilidad.ipynb) y extender la aproximaxión del área de la ciercunferencia, para el volúmen de la esfera.\n",
        "\n",
        "Revisar [referencia](https://medium.com/@andrew.chamberlain/an-easy-derivation-of-the-volume-of-spheres-formula-45434f2231e9).\n",
        "\n",
        "La definición de tu función debe ser.\n",
        "\n",
        "`def MonteVolEsfera(F, N, a, b):`\n",
        "\n",
        "Y los parámetros son:\n",
        "*   f: funcion a integrar\n",
        "*   N: numero de valores aleatorios\n",
        "*   a, b: limites de integracion\n",
        "\n",
        "Una función muy smilar ya se definió en la Tarea 3, ahora solo hace falta que la modifiques para seguir la sugerencia de la [referencia](https://medium.com/@andrew.chamberlain/an-easy-derivation-of-the-volume-of-spheres-formula-45434f2231e9) y aproxime el volumen de la esfera unitaria centrada en el origen."
      ]
    },
    {
      "cell_type": "code",
      "execution_count": null,
      "id": "a64556a2",
      "metadata": {
        "deletable": false,
        "nbgrader": {
          "cell_type": "code",
          "checksum": "2f97117ff3783764672d1bf28ce724d5",
          "grade": false,
          "grade_id": "cell-8f9d545d1fca1d29",
          "locked": false,
          "schema_version": 3,
          "solution": true,
          "task": false
        },
        "id": "a64556a2"
      },
      "outputs": [],
      "source": [
        "import numpy as np \n",
        "import math\n",
        "\n",
        "'''Integracion numerica de Monte Carlo\n",
        "F: funcion a integrar\n",
        "N: numero de valores aleatorios\n",
        "a,b,c,d: limites de integracion\n",
        "'''\n",
        "def MonteCarlo(f,N,a,b):\n",
        "    # YOUR CODE HERE\n",
        "    raise NotImplementedError()\n",
        "\n",
        "# DEFINE LA FUNCION NECESARIA PARA APROXIMAR EL VOLUMEN DE LA ESFERA\n",
        "Fun = lambda x: x"
      ]
    },
    {
      "cell_type": "code",
      "execution_count": null,
      "id": "a5e010a6",
      "metadata": {
        "deletable": false,
        "editable": false,
        "nbgrader": {
          "cell_type": "code",
          "checksum": "dc2f69ed379204b31b8bbba648cc9ec8",
          "grade": true,
          "grade_id": "cell-8c7cfb064e8d21e3",
          "locked": true,
          "points": 0,
          "schema_version": 3,
          "solution": false,
          "task": false
        },
        "id": "a5e010a6"
      },
      "outputs": [],
      "source": [
        "evaluacion.verifica(np.array(round(MonteCarlo(Fun, 1000000, 0, 1),2)), 12)"
      ]
    },
    {
      "cell_type": "markdown",
      "id": "34430a74",
      "metadata": {
        "deletable": false,
        "editable": false,
        "nbgrader": {
          "cell_type": "markdown",
          "checksum": "e75fbfd50f231ee8f4a1b1cd724c0e43",
          "grade": false,
          "grade_id": "cell-091946886f301ea7",
          "locked": true,
          "schema_version": 3,
          "solution": false,
          "task": false
        },
        "id": "34430a74"
      },
      "source": [
        "# (2 Puntos) Teoría de filas\n",
        "\n",
        "En la teoría de colas las llegadas se producen según un proceso de Poisson de razón $\\lambda$, donde $\\lambda$ es el número medio de llegadas por unidad de tiempo **_(velocidad de llegadas)_** y $\\frac{1}{\\lambda}$ es el tiempo medio entre llegadas. Los tiempos entre llegadas se distribuirán exponencialmente, Exp($\\lambda$). Los tiempos entre servicios también se distribuirán exponencialmente, Exp($\\mu$), de tal manera que $\\mu$ es el número medio de clientes que el servidor es capaz de atender por unidad de tiempo **_(velocidad de atención del servidor)_** y $\\frac{1}{\\mu}$ es el tiempo medio de servicio.\n",
        "\n",
        "Dadas lo visto en la clase de las ayudantía con el modelo de colas estocástico (aleatorio) resuelva el sieguiente problema:\n",
        "\n",
        "Suponga que el tiempo medio de llegadas cada 15 minutos en el sistema de Bici-puma UNAM es de .25 y el número medio de usuarios que salen con bicicleta del sistema es de 24 por hora.\n",
        "\n",
        "Calcule lo siguiente:\n",
        "\n",
        "*   A) Cantidad de clientes en el Sistema\n",
        "*   B) Tiempo total que esperan los clientes en el Sistema\n",
        "*   C) Cantidad de personas formadas en la fila.\n",
        "*   D) Tiempo en el cual los clientes esperan en fila.\n",
        "*   E) Porcentaje de uso del servidor.\n",
        "*   F) Porcentaje de tiempo en el cual el servidor está ocioso.\n",
        "*   G) Probabilidad de que se encuentren 2 clientes en el Sistema.\n",
        "*   H) Probabilidad de que se encuentren menos de 5 clientes en el Sistema.\n",
        "*   I) Probabilidad de que se encuentren mas de  3 clientes en el Sistema.\n",
        "*   J) Probabilidad de que se encuentren entre 2 y 7 clientes en el Sistema."
      ]
    },
    {
      "cell_type": "code",
      "execution_count": null,
      "id": "75193191",
      "metadata": {
        "deletable": false,
        "editable": false,
        "nbgrader": {
          "cell_type": "code",
          "checksum": "7de61bc696b9c43d6b64426c128ae913",
          "grade": true,
          "grade_id": "cell-7f6077ddf5312379",
          "locked": true,
          "points": 0,
          "schema_version": 3,
          "solution": false,
          "task": false
        },
        "id": "75193191"
      },
      "outputs": [],
      "source": [
        "# datos\n",
        "lamb = 1/.25 #clientes cada 15 minutos (llegadas)\n",
        "mu   = 24/4 #clientes cada 15 min (atención del servidor) se divide entre 4 porque 15*4 es una hora \n",
        "print('Respuestas cada 15 minutos')\n",
        "lamb, mu"
      ]
    },
    {
      "cell_type": "code",
      "execution_count": null,
      "id": "cd75e26e",
      "metadata": {
        "deletable": false,
        "nbgrader": {
          "cell_type": "code",
          "checksum": "96a6276cc0069df1baa0427eb53eaa8a",
          "grade": false,
          "grade_id": "cell-f9ca5989b74a8b38",
          "locked": false,
          "schema_version": 3,
          "solution": true,
          "task": false
        },
        "id": "cd75e26e"
      },
      "outputs": [],
      "source": [
        "#A)\n",
        "ls = 0\n",
        "# YOUR CODE HERE\n",
        "raise NotImplementedError()\n",
        "print(f'la cantidad de clientes en el sistema es: {(ls)}')"
      ]
    },
    {
      "cell_type": "code",
      "execution_count": null,
      "id": "a8abdb80",
      "metadata": {
        "deletable": false,
        "editable": false,
        "nbgrader": {
          "cell_type": "code",
          "checksum": "233321beeec4e80af98eea832f00414d",
          "grade": true,
          "grade_id": "cell-0b2965fefe3a1f97",
          "locked": true,
          "points": 0,
          "schema_version": 3,
          "solution": false,
          "task": false
        },
        "id": "a8abdb80"
      },
      "outputs": [],
      "source": [
        "evaluacion.verifica(np.array(ls), 2)"
      ]
    },
    {
      "cell_type": "code",
      "execution_count": null,
      "id": "8d43eca4",
      "metadata": {
        "deletable": false,
        "nbgrader": {
          "cell_type": "code",
          "checksum": "8d145f1991ffe332974f5aaf07c5a05e",
          "grade": false,
          "grade_id": "cell-6c0f9d94aa54076d",
          "locked": false,
          "schema_version": 3,
          "solution": true,
          "task": false
        },
        "id": "8d43eca4"
      },
      "outputs": [],
      "source": [
        "#B)\n",
        "ws = 0\n",
        "# YOUR CODE HERE\n",
        "raise NotImplementedError()\n",
        "print(f'El tiempo que esperan los clientes es: {(ws)}')"
      ]
    },
    {
      "cell_type": "code",
      "execution_count": null,
      "id": "b5eee97f",
      "metadata": {
        "deletable": false,
        "editable": false,
        "nbgrader": {
          "cell_type": "code",
          "checksum": "02af25c1c152e18320a2cf46a9a511bf",
          "grade": true,
          "grade_id": "cell-8c0c9a010b3c17c7",
          "locked": true,
          "points": 0,
          "schema_version": 3,
          "solution": false,
          "task": false
        },
        "id": "b5eee97f"
      },
      "outputs": [],
      "source": [
        "evaluacion.verifica(np.array(ws), 3)"
      ]
    },
    {
      "cell_type": "code",
      "execution_count": null,
      "id": "cbc8649e",
      "metadata": {
        "deletable": false,
        "nbgrader": {
          "cell_type": "code",
          "checksum": "d9d31c0eaf97b5f84096da01beb02182",
          "grade": false,
          "grade_id": "cell-20d7dea46402fb71",
          "locked": false,
          "schema_version": 3,
          "solution": true,
          "task": false
        },
        "id": "cbc8649e"
      },
      "outputs": [],
      "source": [
        "#C)\n",
        "lq = 0\n",
        "# YOUR CODE HERE\n",
        "raise NotImplementedError()\n",
        "print(f'El numero de personas en la fila es de: {(lq)}')"
      ]
    },
    {
      "cell_type": "code",
      "execution_count": null,
      "id": "a5a351a5",
      "metadata": {
        "deletable": false,
        "editable": false,
        "nbgrader": {
          "cell_type": "code",
          "checksum": "c19c2e189442dea66b6ed965972ac30d",
          "grade": true,
          "grade_id": "cell-aebbef6cf994d53a",
          "locked": true,
          "points": 0,
          "schema_version": 3,
          "solution": false,
          "task": false
        },
        "id": "a5a351a5"
      },
      "outputs": [],
      "source": [
        "evaluacion.verifica(np.array(lq), 4)"
      ]
    },
    {
      "cell_type": "code",
      "execution_count": null,
      "id": "fc297cfb",
      "metadata": {
        "deletable": false,
        "nbgrader": {
          "cell_type": "code",
          "checksum": "77e3c048581e58c98c7b86fe844a5fb3",
          "grade": false,
          "grade_id": "cell-ec83f2394526a9a6",
          "locked": false,
          "schema_version": 3,
          "solution": true,
          "task": false
        },
        "id": "fc297cfb"
      },
      "outputs": [],
      "source": [
        "#D: tiempo de espera en la fila\n",
        "wq = 0\n",
        "# YOUR CODE HERE\n",
        "raise NotImplementedError()\n",
        "print(f'El timepo de espera en la fila es de: {(wq)}')"
      ]
    },
    {
      "cell_type": "code",
      "execution_count": null,
      "id": "390283c8",
      "metadata": {
        "deletable": false,
        "editable": false,
        "nbgrader": {
          "cell_type": "code",
          "checksum": "197465d5ab0e540d364910bdbb370098",
          "grade": true,
          "grade_id": "cell-807d7304e2970950",
          "locked": true,
          "points": 0,
          "schema_version": 3,
          "solution": false,
          "task": false
        },
        "id": "390283c8"
      },
      "outputs": [],
      "source": [
        "evaluacion.verifica(np.array(wq), 5)"
      ]
    },
    {
      "cell_type": "code",
      "execution_count": null,
      "id": "af35394a",
      "metadata": {
        "deletable": false,
        "nbgrader": {
          "cell_type": "code",
          "checksum": "037dfdca2a22bd6696ff20d47ae4dbb4",
          "grade": false,
          "grade_id": "cell-3bce64dd445780e9",
          "locked": false,
          "schema_version": 3,
          "solution": true,
          "task": false
        },
        "id": "af35394a"
      },
      "outputs": [],
      "source": [
        "#E: porcentaje de uso del servidor\n",
        "p = 0\n",
        "# YOUR CODE HERE\n",
        "raise NotImplementedError()\n",
        "print(f'El porcentaje de uso del servidor es: {(p)}')"
      ]
    },
    {
      "cell_type": "code",
      "execution_count": null,
      "id": "3ca731e4",
      "metadata": {
        "deletable": false,
        "editable": false,
        "nbgrader": {
          "cell_type": "code",
          "checksum": "21c57dc40e5083ec2ce91855d4aa73c5",
          "grade": true,
          "grade_id": "cell-b7f5f73d739daeb1",
          "locked": true,
          "points": 0,
          "schema_version": 3,
          "solution": false,
          "task": false
        },
        "id": "3ca731e4"
      },
      "outputs": [],
      "source": [
        "evaluacion.verifica(np.array(p), 6)"
      ]
    },
    {
      "cell_type": "code",
      "execution_count": null,
      "id": "243cb7b6",
      "metadata": {
        "deletable": false,
        "nbgrader": {
          "cell_type": "code",
          "checksum": "15a48458cbbb4f0fdb76093d11395f48",
          "grade": false,
          "grade_id": "cell-261f50195586b0f9",
          "locked": false,
          "schema_version": 3,
          "solution": true,
          "task": false
        },
        "id": "243cb7b6"
      },
      "outputs": [],
      "source": [
        "#F: porcentaje de tiempo en el cual el servidor está ociso\n",
        "p_0 = 0\n",
        "# YOUR CODE HERE\n",
        "raise NotImplementedError()\n",
        "print(f'El tiempo de ocio del servidor es: {(p_0)}')"
      ]
    },
    {
      "cell_type": "code",
      "execution_count": null,
      "id": "25a67a98",
      "metadata": {
        "deletable": false,
        "editable": false,
        "nbgrader": {
          "cell_type": "code",
          "checksum": "6e7042b1743c50de77c5a7723729825d",
          "grade": true,
          "grade_id": "cell-a27e94b0556c11e2",
          "locked": true,
          "points": 0,
          "schema_version": 3,
          "solution": false,
          "task": false
        },
        "id": "25a67a98"
      },
      "outputs": [],
      "source": [
        "evaluacion.verifica(np.array(p_0), 7)"
      ]
    },
    {
      "cell_type": "code",
      "execution_count": null,
      "id": "2e0b7c34",
      "metadata": {
        "deletable": false,
        "nbgrader": {
          "cell_type": "code",
          "checksum": "a3d667896ff9eee3c1fa1317d0e0e083",
          "grade": false,
          "grade_id": "cell-428d6c161f41227d",
          "locked": false,
          "schema_version": 3,
          "solution": true,
          "task": false
        },
        "id": "2e0b7c34"
      },
      "outputs": [],
      "source": [
        "#G: proba de que se encuentren 2 clientes en el sistema\n",
        "p_2 = 0\n",
        "# YOUR CODE HERE\n",
        "raise NotImplementedError()\n",
        "print(f'La proba de 2 clientes es: {(p_2)}')"
      ]
    },
    {
      "cell_type": "code",
      "execution_count": null,
      "id": "9c4f8e6c",
      "metadata": {
        "deletable": false,
        "editable": false,
        "nbgrader": {
          "cell_type": "code",
          "checksum": "22ab4572ce2b7ca81b9dff9a9f8dca8e",
          "grade": true,
          "grade_id": "cell-6b3866dbe3642938",
          "locked": true,
          "points": 0,
          "schema_version": 3,
          "solution": false,
          "task": false
        },
        "id": "9c4f8e6c"
      },
      "outputs": [],
      "source": [
        "evaluacion.verifica(np.array(p_2), 8)"
      ]
    },
    {
      "cell_type": "code",
      "execution_count": null,
      "id": "7cbcd279",
      "metadata": {
        "deletable": false,
        "nbgrader": {
          "cell_type": "code",
          "checksum": "a28c8087e4f93786abe7a6c6f5c2e966",
          "grade": false,
          "grade_id": "cell-d4eaf48a51cf94d8",
          "locked": false,
          "schema_version": 3,
          "solution": true,
          "task": false
        },
        "id": "7cbcd279"
      },
      "outputs": [],
      "source": [
        "#H: proba de que se encuentren <5 clientes en el sistema\n",
        "h = 0\n",
        "# YOUR CODE HERE\n",
        "raise NotImplementedError()\n",
        "print(f'La proba de <5 clientes es: {(h)}')"
      ]
    },
    {
      "cell_type": "code",
      "execution_count": null,
      "id": "eabd8c5b",
      "metadata": {
        "deletable": false,
        "editable": false,
        "nbgrader": {
          "cell_type": "code",
          "checksum": "928c7d17b2448fdc83b73e60944d89ca",
          "grade": true,
          "grade_id": "cell-2d6a56dd88d60e1f",
          "locked": true,
          "points": 0,
          "schema_version": 3,
          "solution": false,
          "task": false
        },
        "id": "eabd8c5b"
      },
      "outputs": [],
      "source": [
        "evaluacion.verifica(np.array(h), 9)"
      ]
    },
    {
      "cell_type": "code",
      "execution_count": null,
      "id": "f1a895ef",
      "metadata": {
        "deletable": false,
        "nbgrader": {
          "cell_type": "code",
          "checksum": "4de94be56b8be77e79adb36e514e6edd",
          "grade": false,
          "grade_id": "cell-192782da307f4070",
          "locked": false,
          "schema_version": 3,
          "solution": true,
          "task": false
        },
        "id": "f1a895ef"
      },
      "outputs": [],
      "source": [
        "#I: proba de que se encuentren >3 clientes en el sistema\n",
        "I = 0\n",
        "# YOUR CODE HERE\n",
        "raise NotImplementedError()\n",
        "print(f'La proba de >3 clientes es: {(1-I)}')"
      ]
    },
    {
      "cell_type": "code",
      "execution_count": null,
      "id": "90452e2e",
      "metadata": {
        "deletable": false,
        "editable": false,
        "nbgrader": {
          "cell_type": "code",
          "checksum": "c8cd4f5ac22a6a3cc4ad8e8233f2902d",
          "grade": true,
          "grade_id": "cell-1624621b5e6628b8",
          "locked": true,
          "points": 0,
          "schema_version": 3,
          "solution": false,
          "task": false
        },
        "id": "90452e2e"
      },
      "outputs": [],
      "source": [
        "evaluacion.verifica(np.array(I), 10)"
      ]
    },
    {
      "cell_type": "code",
      "execution_count": null,
      "id": "f2968636",
      "metadata": {
        "deletable": false,
        "nbgrader": {
          "cell_type": "code",
          "checksum": "7900f437c79c6b97969bf15e8b79f5da",
          "grade": false,
          "grade_id": "cell-3bf174db01d33961",
          "locked": false,
          "schema_version": 3,
          "solution": true,
          "task": false
        },
        "id": "f2968636"
      },
      "outputs": [],
      "source": [
        "#J: proba de que se encuentren entre 2-7 clientes en el sistema\n",
        "J = 0\n",
        "# YOUR CODE HERE\n",
        "raise NotImplementedError()\n",
        "print(f'La proba de [2-7] clientes es: {(J)}')"
      ]
    },
    {
      "cell_type": "code",
      "execution_count": null,
      "id": "c26dd617",
      "metadata": {
        "deletable": false,
        "editable": false,
        "nbgrader": {
          "cell_type": "code",
          "checksum": "e3cdb6dc1c71de90809cc03f0a79afb3",
          "grade": true,
          "grade_id": "cell-0551816c11bced2c",
          "locked": true,
          "points": 0,
          "schema_version": 3,
          "solution": false,
          "task": false
        },
        "id": "c26dd617"
      },
      "outputs": [],
      "source": [
        "evaluacion.verifica(np.array(J), 11)"
      ]
    },
    {
      "cell_type": "markdown",
      "id": "e64ac73f",
      "metadata": {
        "id": "e64ac73f"
      },
      "source": [
        "# (6 Puntos) NetLogo\n",
        "\n",
        "Tomando como base la simulación Spidey.nlogo (que se encuentra en moodle).\n",
        "\n",
        "<center>\n",
        "<img src=\"https://github.com/jugernaut/ManejoDatos/blob/desarrollo/Imagenes/Simulacion/spidey.gif?raw=1\" width=\"850\">\n",
        "</center> \n",
        "\n",
        "En la animación se muestra la base de una simulación más robusta y completa. Sin embargo en esta simulación no tenemos elementos como $\\lambda$, $\\mu$ o la posibilidad de agregar más trabajadores (servidores)\n",
        "\n",
        "Sobre esta simulación, realiza las siguientes modificaciones:\n",
        "\n",
        "## (2 Puntos) $\\lambda$ y $\\mu$\n",
        "\n",
        "Elimina el *slider* que determina el número de clientes y también la grafica de Clientes \"antendidos\".\n",
        "\n",
        "Agrega un *slider* que permita selecciónar un valor entero para la cantidad de *ticks* (tiempo) que tarda en llegar un cliente ($\\lambda$) y la cantidad de *ticks* que tarda un cliente en ser atendido ($\\mu$).\n",
        "\n",
        "Con estas modificaciones, los clientes ya no deben iniciar desde que comienza la simulación (como sucedia previamente). El primer cliente debe llegar después de que hayan pasado $\\lambda$ *ticks* y de igual forma con los siguientes clientes. De igual manera, el trabajador tomará $\\mu$ *ticks* para atender a cada cliente.\n",
        "\n",
        "Tus resultados deberían verse de la siguiente forma.\n",
        "\n",
        "<center>\n",
        "<img src=\"https://github.com/jugernaut/ManejoDatos/blob/desarrollo/Imagenes/Simulacion/spidey1.gif?raw=1\" width=\"850\">\n",
        "</center> \n",
        "\n",
        "HINT: para crear los clientes puedes utilizar la función módulo, tal que un cliente se genere cuando $ticks\\quad mod \\quad \\lambda = 0$\n",
        "\n",
        "## (3 Puntos) Incrementar trabajadores\n",
        "\n",
        "Para esta parte es necesario agregar un *slider* que permita modificar el número de trabajadores (servidores) desde 1 y hasta 3. Cuando un trabjador este ocupado, el siguiente cliente en ser atendido debe ir con el siguiente trabajador descupado.\n",
        "\n",
        "También debes modificar el mundo para que la simulación se vea de la siguiente forma.\n",
        "\n",
        "<center>\n",
        "<img src=\"https://github.com/jugernaut/ManejoDatos/blob/desarrollo/Imagenes/Simulacion/spidey2.gif?raw=1\" width=\"850\">\n",
        "</center> \n",
        "\n",
        "HINT: revsisa y usa las funciones descritas en la documentación de NetLogo, las modificaciones mostradas en estas secciones no tomas más de 10 líneas de código.\n",
        "\n",
        "\n",
        "## (1 Punto) Validar Resultados y Grafica\n",
        "\n",
        "Finalmente genera una **grafica** que muestre el número de clientes atendidos con el paso del tiempo y un **monitor** para el número de clientes atendidos. Considera que para este punto de la simulación no se tiene un número fijo de clientes que se genere de manera incial (como en la primera versión de esta simulación).\n",
        "\n",
        "Para validar tus resultados, utiliza los siguientes valores:\n",
        "\n",
        "*   $\\lambda=5$\n",
        "*   $\\mu=10$\n",
        "*   num-trabajadores$=3$\n",
        "\n",
        "\n",
        "<center>\n",
        "<img src=\"https://github.com/jugernaut/ManejoDatos/blob/desarrollo/Imagenes/Simulacion/sipdey3.gif?raw=1\" width=\"850\">\n",
        "</center> \n",
        "\n",
        "**Cuando hayan pasado 50 ticks usando estos parámetros, la simulación debe mostrar que se han atendido a 3 clientes y que el promedio de ticks en la fila es de 12.5.**\n"
      ]
    },
    {
      "cell_type": "markdown",
      "id": "2a7835e7",
      "metadata": {
        "deletable": false,
        "editable": false,
        "nbgrader": {
          "cell_type": "markdown",
          "checksum": "b5f1f68de3a66247a64349dbfdb393c7",
          "grade": false,
          "grade_id": "cell-06cb97929e658488",
          "locked": true,
          "schema_version": 3,
          "solution": false,
          "task": false
        },
        "id": "2a7835e7"
      },
      "source": [
        "# (3 Putos) Hilos de ejecución\n",
        "\n",
        "Considera el siguiente código visto en clase."
      ]
    },
    {
      "cell_type": "code",
      "execution_count": null,
      "id": "dfc4752d",
      "metadata": {
        "deletable": false,
        "editable": false,
        "nbgrader": {
          "cell_type": "code",
          "checksum": "ba526b32c5518fa70ae67ef1f583cf1b",
          "grade": true,
          "grade_id": "cell-bdff502a5bd35c5b",
          "locked": true,
          "points": 0,
          "schema_version": 3,
          "solution": false,
          "task": false
        },
        "id": "dfc4752d"
      },
      "outputs": [],
      "source": [
        "import threading\n",
        "import time\n",
        "\n",
        "# clase que ayuda a contener el nombre y articulos que compra un cliente\n",
        "class Cliente(object):\n",
        "\n",
        "  def __init__(self, nombre):\n",
        "    # nombre del cliente\n",
        "    self.nombre = nombre\n",
        "    # articulos que compro el cliente\n",
        "    self.carrito = []\n",
        "\n",
        "class Amazon(threading.Thread):\n",
        "\n",
        "  # VARIABLE DE CLASE O ESTATICA\n",
        "  # diccionario con el catalogo de articulos y su precio\n",
        "  catalogo = {'PS5':10000, 'Audifonos':2500, 'Halo':1500, 'HDD':900, \n",
        "              'Laptop':25000, 'GTX1000':6000, 'SmartWatch':7500}\n",
        "\n",
        "  def __init__(self, nombre, cliente):\n",
        "    super(Amazon, self).__init__()\n",
        "    self.nombre = nombre\n",
        "    self.cliente = cliente\n",
        "\n",
        "  # metodo que simula el cobro de un cliente\n",
        "  def run(self):\n",
        "    print('Comenzamos a cobrar al cliente :', self.cliente.nombre)\n",
        "    # se revisa el carrito del cliente y el catalogo\n",
        "    total = 0\n",
        "    # cada articulo se cobra\n",
        "    for articulo in self.cliente.carrito:\n",
        "      time.sleep(2)\n",
        "      print('Se cobra :',articulo, self.catalogo[articulo])\n",
        "      # total almacena el total de los articulos del cliente\n",
        "      total += self.catalogo[articulo]\n",
        "    print('Total del cliente', self.cliente.nombre,':', total)\n",
        "\n",
        "\n",
        "inicio = time.time()\n",
        "cliente1 = Cliente('Mike')\n",
        "cliente1.carrito = ['PS5', 'SmartWatch', 'Audifonos']\n",
        "\n",
        "cliente2 = Cliente('Ivan')\n",
        "cliente2.carrito = ['GTX1000', 'HDD', 'GTX1000', 'Laptop']\n",
        "\n",
        "cliente3 = Cliente('Jonathan')\n",
        "cliente3.carrito = ['Laptop', 'PS5', 'Audifonos', 'Halo', 'HDD',\n",
        "                  'GTX1000', 'SmartWatch']\n",
        "\n",
        "amazon1 = Amazon(\"Trabajador 1\", cliente1)\n",
        "# se ejecuta cada hilo de manera concurrente\n",
        "amazon1.start()\n",
        "\n",
        "amazon2 = Amazon(\"Trabajador 2\", cliente2)\n",
        "# se ejecuta cada hilo de manera concurrente\n",
        "amazon2.start()\n",
        "\n",
        "amazon3 = Amazon(\"Trabajador 3\", cliente3)\n",
        "# se ejecuta cada hilo de manera concurrente\n",
        "amazon3.start()\n",
        "\n",
        "# esperamos a que todos los hilos hayan terminado\n",
        "amazon1.join()\n",
        "amazon2.join()\n",
        "amazon3.join()\n",
        "\n",
        "fin = time.time()\n",
        "print(\"Este algoritmo tomo: \", (fin-inicio)*1000)"
      ]
    },
    {
      "cell_type": "markdown",
      "id": "89bd32f3",
      "metadata": {
        "deletable": false,
        "editable": false,
        "nbgrader": {
          "cell_type": "markdown",
          "checksum": "82538f59d8d6f3398ccdc34457393f63",
          "grade": false,
          "grade_id": "cell-383abbe0fe32866f",
          "locked": true,
          "schema_version": 3,
          "solution": false,
          "task": false
        },
        "id": "89bd32f3"
      },
      "source": [
        "Modifica el código para incluir las siguientes caracteristicas:\n",
        "\n",
        "1.   Los `Clientes` tienen un atributo llamado `saldo`, en el que se almacena su saldo inicial (antes de hacer las compras).\n",
        "2.   Cuando un trabajados de la clase `Amazon` comienza a realizar el cobro de los artículos, se muestra en pantalla el saldo inicial.\n",
        "3.   Una vez que se calcula (por cada hilo) el total de los articulos, este debe restarse del saldo inical del `cliente` en cuestión.\n",
        "4.   Ya que todos los hilos terminan (`join()`) se debe mostrar el saldo final de cada uno de los clientes.\n",
        "\n",
        "El resultado de ejecutar el mismo algoritmo, con los siguientes \n",
        "\n",
        "`clientes`\n",
        "\n",
        "`cliente1 = Cliente('Mike', 50000)`\n",
        "\n",
        "`cliente1.carrito = ['PS5', 'SmartWatch', 'Audifonos']`\n",
        "\n",
        "`cliente2 = Cliente('Ivan', 100000)`\n",
        "\n",
        "`cliente2.carrito = ['GTX1000', 'HDD', 'GTX1000', 'Laptop']`\n",
        "\n",
        "`cliente3 = Cliente('Jonathan', 20000)`\n",
        "\n",
        "`cliente3.carrito = ['Laptop', 'PS5', 'Audifonos', 'Halo', 'HDD', 'GTX1000', 'SmartWatch']`\n",
        "\n",
        "Debería ser el que muestra a contiuación.\n",
        "\n",
        "`Comenzamos a cobrar al cliente : Mike`\n",
        "\n",
        "`El saldo inicial del cliente : Mike es  50000`\n",
        "\n",
        "......\n",
        "\n",
        "`Saldo del cliente  Mike 30000`\n",
        "\n",
        "`Saldo del cliente  Ivan 62100`\n",
        "\n",
        "`Saldo del cliente  Jonathan -33400`\n",
        "\n",
        "`Este algoritmo tomo:  14022.971630096436`"
      ]
    },
    {
      "cell_type": "code",
      "execution_count": null,
      "id": "05189772",
      "metadata": {
        "deletable": false,
        "nbgrader": {
          "cell_type": "code",
          "checksum": "6f253dd3ee4ba7fb33869920e562e4a3",
          "grade": false,
          "grade_id": "cell-742bb1b66cf2d649",
          "locked": false,
          "schema_version": 3,
          "solution": true,
          "task": false
        },
        "id": "05189772"
      },
      "outputs": [],
      "source": [
        "import threading\n",
        "import time\n",
        "\n",
        "# clase que ayuda a contener el nombre y articulos que compra un cliente\n",
        "class Cliente(object):\n",
        "# YOUR CODE HERE\n",
        "raise NotImplementedError()\n",
        "\n",
        "inicio = time.time()\n",
        "cliente1 = Cliente('Mike')\n",
        "cliente1.carrito = ['PS5', 'SmartWatch', 'Audifonos']\n",
        "\n",
        "cliente2 = Cliente('Ivan')\n",
        "cliente2.carrito = ['GTX1000', 'HDD', 'GTX1000', 'Laptop']\n",
        "\n",
        "cliente3 = Cliente('Jonathan')\n",
        "cliente3.carrito = ['Laptop', 'PS5', 'Audifonos', 'Halo', 'HDD',\n",
        "                  'GTX1000', 'SmartWatch']\n",
        "\n",
        "amazon1 = Amazon(\"Trabajador 1\", cliente1)\n",
        "# se ejecuta cada hilo de manera concurrente\n",
        "amazon1.start()\n",
        "\n",
        "amazon2 = Amazon(\"Trabajador 2\", cliente2)\n",
        "# se ejecuta cada hilo de manera concurrente\n",
        "amazon2.start()\n",
        "\n",
        "amazon3 = Amazon(\"Trabajador 3\", cliente3)\n",
        "# se ejecuta cada hilo de manera concurrente\n",
        "amazon3.start()\n",
        "\n",
        "# esperamos a que todos los hilos hayan terminado\n",
        "amazon1.join()\n",
        "amazon2.join()\n",
        "amazon3.join()\n",
        "\n",
        "fin = time.time()\n",
        "print(\"Este algoritmo tomo: \", (fin-inicio)*1000)"
      ]
    },
    {
      "cell_type": "markdown",
      "id": "5226914d",
      "metadata": {
        "deletable": false,
        "editable": false,
        "nbgrader": {
          "cell_type": "markdown",
          "checksum": "a38999dca20011915eeb3847fe609f39",
          "grade": false,
          "grade_id": "cell-dc7137fb156cf6b7",
          "locked": true,
          "schema_version": 3,
          "solution": false,
          "task": false
        },
        "id": "5226914d"
      },
      "source": [
        "# **RESPONDE LA SIGUIENTE PREGUNTAS**: \n",
        "\n",
        "1.   Si este algoritmo se ejecuta en *Google Colab*, ¿de cuantos núcleos físicos se dispone? y ¿cuántos hilos puede majenar cada núcleo?.\n",
        "2.   Si este algoritmo se ejecuta en *MACTI*, ¿de cuantos núcleos físicos se dispone? y ¿cuántos hilos puede majenar cada núcleo?."
      ]
    },
    {
      "cell_type": "markdown",
      "id": "1e5a4e9f",
      "metadata": {
        "deletable": false,
        "editable": false,
        "nbgrader": {
          "cell_type": "markdown",
          "checksum": "67d6a2872a1d3a92a10e31e99928ab47",
          "grade": false,
          "grade_id": "cell-b9288315cb23f46f",
          "locked": true,
          "schema_version": 3,
          "solution": false,
          "task": false
        },
        "id": "1e5a4e9f"
      },
      "source": [
        "# (1 Punto) Ley de Amdahal\n",
        "\n",
        "Supogamos que se tiene el siguiente algoritmo para la suma de matrices."
      ]
    },
    {
      "cell_type": "code",
      "execution_count": null,
      "id": "c33f9b74",
      "metadata": {
        "deletable": false,
        "editable": false,
        "nbgrader": {
          "cell_type": "code",
          "checksum": "03391e02a1bc312bec2bb0f951497a85",
          "grade": true,
          "grade_id": "cell-aa31a5038ce9d355",
          "locked": true,
          "points": 0,
          "schema_version": 3,
          "solution": false,
          "task": false
        },
        "id": "c33f9b74"
      },
      "outputs": [],
      "source": [
        "def matrices_suma(matA, matB):\n",
        "  result = matA.copy()\n",
        "  # se recorren los renglones\n",
        "  # SECCION EN PARALELO usando Hilos tiempo O(1)\n",
        "  for i in range(len(matA)):  \n",
        "  # se recorren las columnas\n",
        "      for j in range(len(matA[0])):\n",
        "          result[i][j] = matA[i][j] + matB[i][j]\n",
        "  # SECCIÓN SECUENCIAL tiempo O(n)\n",
        "  for r in result:\n",
        "    print(r)\n",
        "\n",
        "matA = [[1,2,3],\n",
        "    [4 ,5,6],\n",
        "    [7 ,8,9]]\n",
        " \n",
        "matB = [[9,8,7],\n",
        "    [6,5,4],\n",
        "    [3,2,1]]\n",
        "\n",
        "# A que orden de complejidad pertenece este algoritmo\n",
        "matrices_suma(matA, matB)"
      ]
    },
    {
      "cell_type": "markdown",
      "id": "6b23fb43",
      "metadata": {
        "deletable": false,
        "editable": false,
        "nbgrader": {
          "cell_type": "markdown",
          "checksum": "252b9e62c0f610a7563164ed73865a93",
          "grade": false,
          "grade_id": "cell-fdd57585d2fd4f91",
          "locked": true,
          "schema_version": 3,
          "solution": false,
          "task": false
        },
        "id": "6b23fb43"
      },
      "source": [
        "Apoyandote en la ley de Amdahal, **¿a que orden de complejidad pertenece el algoritmo de la celda superior?**."
      ]
    },
    {
      "cell_type": "markdown",
      "id": "2f4bd81a",
      "metadata": {
        "deletable": false,
        "editable": false,
        "nbgrader": {
          "cell_type": "markdown",
          "checksum": "c9b996ea1e998dea2ccc7a24c4e647aa",
          "grade": false,
          "grade_id": "cell-3e8033ec6581d93e",
          "locked": true,
          "schema_version": 3,
          "solution": false,
          "task": false
        },
        "id": "2f4bd81a"
      },
      "source": [
        "# (¿? Puntos) Sección Especial\n",
        "\n",
        "Esta sección es solo para amenizar al momento de calificar y probablemente subir unas cuantas décimas. Pero por ningún motivo esta sección hará que apruebes el examen si es que no muestras conocimientos.\n",
        "\n",
        "“Tus antepasados lo llamaban magia, tú lo llamas ciencia. En mi mundo ambos son lo mismo.”\n",
        "\n",
        "\"La magia es sólo la ciencia que todavía no comprendemos.\"\n",
        "\n",
        " –Fráses de Thor, hijo de Odín.\n",
        "\n",
        "<center>\n",
        "<img src=\"https://github.com/jugernaut/ManejoDatos/blob/desarrollo/Imagenes/AlgoritmosBusqueda/traemethanos.gif?raw=1\" width=\"600\">   \n",
        "</center> \n",
        "\n",
        "Thor Love and Thunder:\n",
        "*   ¿Cómo se llama el martillo de Thor (escribe bien su nombre)?\n",
        "*   ¿Cuántos hermanos tiene Thor?\n",
        "*   ¿Con quien hace equipo Thor después de dejar de ser parte de los Vengadores\n",
        "*   ¿Como se llama el antagonista de \"Thor Love and Thunder\" y por que desea matar dioses?\n",
        "*   ¿Cuál es la última bendicion que recibe Thor y cómo se llama?"
      ]
    }
  ],
  "metadata": {
    "kernelspec": {
      "display_name": "Python 3 (ipykernel)",
      "language": "python",
      "name": "python3"
    },
    "language_info": {
      "codemirror_mode": {
        "name": "ipython",
        "version": 3
      },
      "file_extension": ".py",
      "mimetype": "text/x-python",
      "name": "python",
      "nbconvert_exporter": "python",
      "pygments_lexer": "ipython3",
      "version": "3.9.7"
    },
    "colab": {
      "provenance": [],
      "include_colab_link": true
    }
  },
  "nbformat": 4,
  "nbformat_minor": 5
}