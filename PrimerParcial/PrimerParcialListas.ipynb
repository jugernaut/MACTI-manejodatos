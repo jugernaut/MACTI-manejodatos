{
 "cells": [
  {
   "cell_type": "markdown",
   "metadata": {
    "deletable": false,
    "editable": false,
    "nbgrader": {
     "cell_type": "markdown",
     "checksum": "f165aa4261bd413ec2d0f60a85dbab03",
     "grade": false,
     "grade_id": "cell-07b575e6570d43c4",
     "locked": true,
     "schema_version": 3,
     "solution": false,
     "task": false
    }
   },
   "source": [
    "<font color=\"Teal\" face=\"Comic Sans MS,arial\">\n",
    "  <h1 align=\"center\"><i>Ejercicios dos puntos extra 1er parcial</i></h1>\n",
    "  </font>\n",
    "  <font color=\"Black\" face=\"Comic Sans MS,arial\">\n",
    "  <h5 align=\"center\"><i>Profesor: M.en.C. Miguel Angel Pérez León</i></h5>\n",
    "  <h5 align=\"center\"><i>Ayudante: Jonathan Ramirez Montes</i></h5>\n",
    "  <h5 align=\"center\"><i>Ayudante: Jesús Iván Coss Calderón</i></h5>\n",
    "  <h5 align=\"center\"><i>Materia: Manejo de Datos</i></h5>\n",
    "  </font>"
   ]
  },
  {
   "cell_type": "markdown",
   "metadata": {
    "deletable": false,
    "editable": false,
    "id": "WzpLGeqMBap-",
    "nbgrader": {
     "cell_type": "markdown",
     "checksum": "3d8f781eeb7ecbf02655aa2542e06e63",
     "grade": false,
     "grade_id": "cell-de4c5ec7d4fc7d22",
     "locked": true,
     "schema_version": 3,
     "solution": false,
     "task": false
    }
   },
   "source": [
    "## Wordplay\n",
    "\n",
    "Constestar los siguientes ejercicios, para ser acredores a los 2 puntos sobre el primer parcial:\n",
    "    - Debe entrgarse en parejas\n",
    "    - Todos los ejericicios deben pasar las pruebas\n",
    "    - en caso de cración de funciones, comentarlas debidamente como como se mostró en clases:\n",
    "\n",
    "```python\n",
    "def nombre_funcion(arg_1:tipo_dato, arg_2:tipo_dato,...,) -> (tipo de dato de vuelta de la función):\n",
    "    '''descripción de lo que hace la función\n",
    "            - tipo de dato de entrada y valores que acxepta\n",
    "            - tipo de dato de salida y valores qeu acepta\n",
    "\n",
    "        poner un ejemplo de lo que hace la funcion\n",
    "        >>>nombre_funcion(5,3)\n",
    "        [out] 8\n",
    "    '''\n",
    "```\n",
    "\n",
    "Todo inciso cuenta con su respectiva validación, **no continuar con incisos que no hayan pasado la validación.**\n",
    "\n",
    "- (a) Todas las palabras que terminen con *ime*.\n",
    "- (b) Cuantas palabras contienen al menos una de las siguientesletras *r, s, t, l, n, e*.\n",
    "- (c) Porcentaje de palabras contienen al menos una de las siguientesletras *r, s, t, l, n, e*.\n",
    "- (d) Todas las palabras que no contienen vocales (sin ninguna vocal) :).\n",
    "- (e) Todas las palabras que contiene todas las vocales.\n",
    "- (f) Responder si hay más palabras con 10 letras o con 7 letras.\n",
    "- (g) La palabras más larga en la lista.\n",
    "- (h) Todos los palindromos (un palindromo es una palabra que se lee igual de izquierda a derecha que vicebersa).\n",
    "- (j) Todas las palabras que contiene una *q* sin que sea seguida de una *u*.\n",
    "- (k) Todas las palabras que contiene *zu* en cualquier parte de la palabra.\n",
    "- (l) Todas las palabras que contienen una *z* y una *w*.\n",
    "- (m) Todas las palabras cuya primer letra es una *a*, tercer letra es una *e* y quinta letra es una *i*.\n",
    "- (n) Todas las palabras de 2 letras.\n",
    "- (o) Todas las palabras de 4 letras que comenzan y terminan con la misma letra.\n",
    "- (p) Cuantas vocales contiene una palabra.\n",
    "- (q) Todas las palabras que contienen al menos 9 vocales."
   ]
  },
  {
   "cell_type": "markdown",
   "metadata": {
    "deletable": false,
    "editable": false,
    "nbgrader": {
     "cell_type": "markdown",
     "checksum": "7cd0c0d877f6ef8eeca72dd0531d0e6c",
     "grade": false,
     "grade_id": "cell-2494b8a44223bb5d",
     "locked": true,
     "schema_version": 3,
     "solution": false,
     "task": false
    }
   },
   "source": [
    "## Las siguientes lineas son de apoyo para que ustedes sólo procesen los ejercicios\n",
    "\n",
    "**Es necesario ejecutar las siguientes celdas, de otra forma no podrás realizar los ejercicios.**"
   ]
  },
  {
   "cell_type": "code",
   "execution_count": null,
   "metadata": {
    "colab": {
     "base_uri": "https://localhost:8080/",
     "height": 230
    },
    "deletable": false,
    "editable": false,
    "executionInfo": {
     "elapsed": 209,
     "status": "error",
     "timestamp": 1641400402385,
     "user": {
      "displayName": "Jonathan Ramírez",
      "photoUrl": "https://lh3.googleusercontent.com/a-/AOh14GhvZRiHRf6YVTs7KC9kKQMXTTx1G8tKPeF4g7danQ=s64",
      "userId": "09469315614794190682"
     },
     "user_tz": 360
    },
    "id": "ZeswvqRsBap_",
    "nbgrader": {
     "cell_type": "code",
     "checksum": "dfc06fb9479bf13e6ea4ef7dbe72c03e",
     "grade": true,
     "grade_id": "cell-ba32c59b74443991",
     "locked": true,
     "points": 0,
     "schema_version": 3,
     "solution": false,
     "task": false
    },
    "outputId": "3f3c0a18-2035-49bb-9853-be4af0202d1e"
   },
   "outputs": [],
   "source": [
    "# bibliotecas de evaluacion automatizada\n",
    "import numpy as np   \n",
    "from macti.evaluacion import Evalua\n",
    "evaluacion = Evalua('../../MACTI-manejodatos/PrimerParcial/utils/data/Parcial1', local=True)\n",
    "\n",
    "file = open('../../MACTI-manejodatos/PrimerParcial/utils/data/wordsInEnglish.txt', 'r') #abrir el txt\n",
    "words = file.read() # lectura de txt y fuardado en la variable words\n",
    "file.close() # cerrar el txt\n",
    "words[:100]"
   ]
  },
  {
   "cell_type": "code",
   "execution_count": null,
   "metadata": {
    "colab": {
     "base_uri": "https://localhost:8080/",
     "height": 174
    },
    "deletable": false,
    "editable": false,
    "executionInfo": {
     "elapsed": 113,
     "status": "error",
     "timestamp": 1641400402788,
     "user": {
      "displayName": "Jonathan Ramírez",
      "photoUrl": "https://lh3.googleusercontent.com/a-/AOh14GhvZRiHRf6YVTs7KC9kKQMXTTx1G8tKPeF4g7danQ=s64",
      "userId": "09469315614794190682"
     },
     "user_tz": 360
    },
    "id": "JRqW7CrTBap_",
    "nbgrader": {
     "cell_type": "code",
     "checksum": "c8f5b655244e159b7c6c0eaaad320697",
     "grade": true,
     "grade_id": "cell-ce9f090cd2f223c1",
     "locked": true,
     "points": 0,
     "schema_version": 3,
     "solution": false,
     "task": false
    },
    "outputId": "e79b4d2e-1f9f-4cf2-d9df-bd383b2c84ae"
   },
   "outputs": [],
   "source": [
    "words = words.replace('\\n', ', ')"
   ]
  },
  {
   "cell_type": "code",
   "execution_count": null,
   "metadata": {
    "deletable": false,
    "editable": false,
    "executionInfo": {
     "elapsed": 52,
     "status": "aborted",
     "timestamp": 1641400402739,
     "user": {
      "displayName": "Jonathan Ramírez",
      "photoUrl": "https://lh3.googleusercontent.com/a-/AOh14GhvZRiHRf6YVTs7KC9kKQMXTTx1G8tKPeF4g7danQ=s64",
      "userId": "09469315614794190682"
     },
     "user_tz": 360
    },
    "id": "ioWexvwfBaqB",
    "nbgrader": {
     "cell_type": "code",
     "checksum": "54fa515a30c0ee8439f0a12da23936ca",
     "grade": true,
     "grade_id": "cell-d79c741d2f8ffcf1",
     "locked": true,
     "points": 0,
     "schema_version": 3,
     "solution": false,
     "task": false
    }
   },
   "outputs": [],
   "source": [
    "'''\n",
    "LA VARIABLE WORDS CONTIENE LA LISTA DE PALABRAS, ALGO ASÍ\n",
    "a\n",
    "aa\n",
    "aaa\n",
    "aah\n",
    "aahed\n",
    "aahing\n",
    "aahs\n",
    "aal\n",
    "aalii\n",
    "aaliis\n",
    "aals\n",
    "aam\n",
    "aani\n",
    "aardvark\n",
    "aardvarks\n",
    "aardwolf\n",
    "aardwolves\n",
    "aargh\n",
    "aaron\n",
    "aaronic\n",
    "aaronical\n",
    "aaronite\n",
    "aaronitic\n",
    "aarrgh\n",
    "'''\n",
    "words = words.split(', ')"
   ]
  },
  {
   "cell_type": "code",
   "execution_count": null,
   "metadata": {
    "deletable": false,
    "editable": false,
    "executionInfo": {
     "elapsed": 52,
     "status": "aborted",
     "timestamp": 1641400402743,
     "user": {
      "displayName": "Jonathan Ramírez",
      "photoUrl": "https://lh3.googleusercontent.com/a-/AOh14GhvZRiHRf6YVTs7KC9kKQMXTTx1G8tKPeF4g7danQ=s64",
      "userId": "09469315614794190682"
     },
     "user_tz": 360
    },
    "id": "UlcffWFKBaqB",
    "nbgrader": {
     "cell_type": "code",
     "checksum": "c3e1f9644c550e66d93ce99d54049cc1",
     "grade": true,
     "grade_id": "cell-ca07fb6b3287579d",
     "locked": true,
     "points": 0,
     "schema_version": 3,
     "solution": false,
     "task": false
    }
   },
   "outputs": [],
   "source": [
    "# UTILIZA LA VARIABLE words para todos los incisos\n",
    "len(words)"
   ]
  },
  {
   "cell_type": "markdown",
   "metadata": {},
   "source": [
    "## Consideraciones\n",
    "\n",
    "- En cada iniciso debes completar el código respetando la variable de retorno\n",
    "- Respeta el orden alfabético.\n",
    "- Cada inciso contiene su respectiva validación, contesta en orden, no avances si no has resuelto un inciso previo."
   ]
  },
  {
   "cell_type": "code",
   "execution_count": null,
   "metadata": {
    "deletable": false,
    "executionInfo": {
     "elapsed": 53,
     "status": "aborted",
     "timestamp": 1641400402745,
     "user": {
      "displayName": "Jonathan Ramírez",
      "photoUrl": "https://lh3.googleusercontent.com/a-/AOh14GhvZRiHRf6YVTs7KC9kKQMXTTx1G8tKPeF4g7danQ=s64",
      "userId": "09469315614794190682"
     },
     "user_tz": 360
    },
    "id": "8nN1Am2VBaqC",
    "nbgrader": {
     "cell_type": "code",
     "checksum": "c7143f5fd858d9923753736174ba6c4d",
     "grade": false,
     "grade_id": "cell-4e4d42ed539f28d6",
     "locked": false,
     "schema_version": 3,
     "solution": true,
     "task": false
    }
   },
   "outputs": [],
   "source": [
    "# (a) All words ending in ime.\n",
    "def termina_ime():\n",
    "    # variables auxiliares\n",
    "    end_ime = []\n",
    "    count_ime = 0\n",
    "    # YOUR CODE HERE\n",
    "    raise NotImplementedError()\n",
    "    return end_ime"
   ]
  },
  {
   "cell_type": "code",
   "execution_count": null,
   "metadata": {
    "deletable": false,
    "editable": false,
    "nbgrader": {
     "cell_type": "code",
     "checksum": "7e8ca8f843d860e2233236306f98778b",
     "grade": true,
     "grade_id": "cell-b66182bcb97baf18",
     "locked": true,
     "points": 1,
     "schema_version": 3,
     "solution": false,
     "task": false
    }
   },
   "outputs": [],
   "source": [
    "\"\"\"\n",
    "Evaluacion del inciso (a)\n",
    "\"\"\"\n",
    "evaluacion.verifica(np.array([termina_ime()]), 1)"
   ]
  },
  {
   "cell_type": "code",
   "execution_count": null,
   "metadata": {
    "deletable": false,
    "executionInfo": {
     "elapsed": 55,
     "status": "aborted",
     "timestamp": 1641400402747,
     "user": {
      "displayName": "Jonathan Ramírez",
      "photoUrl": "https://lh3.googleusercontent.com/a-/AOh14GhvZRiHRf6YVTs7KC9kKQMXTTx1G8tKPeF4g7danQ=s64",
      "userId": "09469315614794190682"
     },
     "user_tz": 360
    },
    "id": "NNsVcH0cBaqD",
    "nbgrader": {
     "cell_type": "code",
     "checksum": "72afa886c460930cc41ef4152dd25b42",
     "grade": false,
     "grade_id": "cell-e8a00f41e432cab4",
     "locked": false,
     "schema_version": 3,
     "solution": true,
     "task": false
    }
   },
   "outputs": [],
   "source": [
    "# (b) How many words contain at least one of the letters _r, s, t, l, n, e_.\n",
    "def cuantas_contienen():\n",
    "    # variables auxiliares\n",
    "    counter = 0\n",
    "    letters = ['r', 's', 't', 'l', 'n', 'e']\n",
    "    # YOUR CODE HERE\n",
    "    raise NotImplementedError()\n",
    "    return counter"
   ]
  },
  {
   "cell_type": "code",
   "execution_count": null,
   "metadata": {
    "deletable": false,
    "editable": false,
    "nbgrader": {
     "cell_type": "code",
     "checksum": "6750ec8390352083579b1cc44330fbc2",
     "grade": true,
     "grade_id": "cell-7d07e2817f78029c",
     "locked": true,
     "points": 0,
     "schema_version": 3,
     "solution": false,
     "task": false
    }
   },
   "outputs": [],
   "source": [
    "evaluacion.verifica(np.array([cuantas_contienen()]), 2)"
   ]
  },
  {
   "cell_type": "code",
   "execution_count": null,
   "metadata": {
    "deletable": false,
    "executionInfo": {
     "elapsed": 56,
     "status": "aborted",
     "timestamp": 1641400402749,
     "user": {
      "displayName": "Jonathan Ramírez",
      "photoUrl": "https://lh3.googleusercontent.com/a-/AOh14GhvZRiHRf6YVTs7KC9kKQMXTTx1G8tKPeF4g7danQ=s64",
      "userId": "09469315614794190682"
     },
     "user_tz": 360
    },
    "id": "GXfX-6fcBaqE",
    "nbgrader": {
     "cell_type": "code",
     "checksum": "eea8e1d03c37072cf21203dfd0566ad3",
     "grade": false,
     "grade_id": "cell-95cf6233226ab321",
     "locked": false,
     "schema_version": 3,
     "solution": true,
     "task": false
    }
   },
   "outputs": [],
   "source": [
    "# (c) The percentage of words that contain at least one of the letters _r, s, t, l, n, e_.\n",
    "def porcentaje():\n",
    "    # variables auxiliares\n",
    "    por = 0\n",
    "    # YOUR CODE HERE\n",
    "    raise NotImplementedError()\n",
    "    return por"
   ]
  },
  {
   "cell_type": "code",
   "execution_count": null,
   "metadata": {
    "deletable": false,
    "editable": false,
    "nbgrader": {
     "cell_type": "code",
     "checksum": "d4f242176f9eb941017389e149509bd7",
     "grade": true,
     "grade_id": "cell-f229ebc5365981d1",
     "locked": true,
     "points": 0,
     "schema_version": 3,
     "solution": false,
     "task": false
    }
   },
   "outputs": [],
   "source": [
    "evaluacion.verifica(np.array([porcentaje()]), 3)"
   ]
  },
  {
   "cell_type": "code",
   "execution_count": null,
   "metadata": {
    "deletable": false,
    "executionInfo": {
     "elapsed": 56,
     "status": "aborted",
     "timestamp": 1641400402750,
     "user": {
      "displayName": "Jonathan Ramírez",
      "photoUrl": "https://lh3.googleusercontent.com/a-/AOh14GhvZRiHRf6YVTs7KC9kKQMXTTx1G8tKPeF4g7danQ=s64",
      "userId": "09469315614794190682"
     },
     "user_tz": 360
    },
    "id": "0Em9RJ_PBaqE",
    "nbgrader": {
     "cell_type": "code",
     "checksum": "664d1717c959022e82bee77dae66ef4c",
     "grade": false,
     "grade_id": "cell-674e7c426b9041a9",
     "locked": false,
     "schema_version": 3,
     "solution": true,
     "task": false
    }
   },
   "outputs": [],
   "source": [
    "# (d) All words with no vowels.\n",
    "def cuantas_sin_vocales():\n",
    "    vocales = 'aeiou'\n",
    "    con_vocales = 0\n",
    "    # YOUR CODE HERE\n",
    "    raise NotImplementedError()\n",
    "    return sin_vocales"
   ]
  },
  {
   "cell_type": "code",
   "execution_count": null,
   "metadata": {
    "deletable": false,
    "editable": false,
    "nbgrader": {
     "cell_type": "code",
     "checksum": "99accb8c6f31f47d8d2315c721ef5840",
     "grade": true,
     "grade_id": "cell-1531f32b5c55cfcf",
     "locked": true,
     "points": 0,
     "schema_version": 3,
     "solution": false,
     "task": false
    }
   },
   "outputs": [],
   "source": [
    "evaluacion.verifica(np.array([cuantas_sin_vocales()]), 4)"
   ]
  },
  {
   "cell_type": "code",
   "execution_count": null,
   "metadata": {
    "deletable": false,
    "executionInfo": {
     "elapsed": 60,
     "status": "aborted",
     "timestamp": 1641400402755,
     "user": {
      "displayName": "Jonathan Ramírez",
      "photoUrl": "https://lh3.googleusercontent.com/a-/AOh14GhvZRiHRf6YVTs7KC9kKQMXTTx1G8tKPeF4g7danQ=s64",
      "userId": "09469315614794190682"
     },
     "user_tz": 360
    },
    "id": "mohBWbk9BaqF",
    "nbgrader": {
     "cell_type": "code",
     "checksum": "f08ff5c20f05e72c6c1fe073988a0512",
     "grade": true,
     "grade_id": "cell-542b1e45db97b027",
     "locked": false,
     "points": 0,
     "schema_version": 3,
     "solution": true,
     "task": false
    },
    "tags": []
   },
   "outputs": [],
   "source": [
    "# (e) All words that contain every vowel.\n",
    "def palabras_con_vocales():\n",
    "    vowels = set(\"aeiou\")\n",
    "    pal_vocales = 0\n",
    "    # YOUR CODE HERE\n",
    "    raise NotImplementedError()\n",
    "    return pal_vocales"
   ]
  },
  {
   "cell_type": "code",
   "execution_count": null,
   "metadata": {
    "deletable": false,
    "editable": false,
    "nbgrader": {
     "cell_type": "code",
     "checksum": "fe92b243a5a3756ef9bd81036d7c5e9e",
     "grade": true,
     "grade_id": "cell-e88304d62a3ea5e2",
     "locked": true,
     "points": 0,
     "schema_version": 3,
     "solution": false,
     "task": false
    }
   },
   "outputs": [],
   "source": [
    "evaluacion.verifica(np.array([palabras_con_vocales()]), 5)"
   ]
  },
  {
   "cell_type": "code",
   "execution_count": null,
   "metadata": {
    "deletable": false,
    "executionInfo": {
     "elapsed": 65,
     "status": "aborted",
     "timestamp": 1641400402760,
     "user": {
      "displayName": "Jonathan Ramírez",
      "photoUrl": "https://lh3.googleusercontent.com/a-/AOh14GhvZRiHRf6YVTs7KC9kKQMXTTx1G8tKPeF4g7danQ=s64",
      "userId": "09469315614794190682"
     },
     "user_tz": 360
    },
    "id": "-Qj_oZZ2BaqG",
    "nbgrader": {
     "cell_type": "code",
     "checksum": "4720945962e0a9e618f0a2f8a3ab8ab3",
     "grade": true,
     "grade_id": "cell-f2d7291c93ce2740",
     "locked": false,
     "points": 0,
     "schema_version": 3,
     "solution": true,
     "task": false
    }
   },
   "outputs": [],
   "source": [
    "# (f) Whether there are more ten-letter words or seven-letter words.\n",
    "\n",
    "# Cuenta cuantas palabras hat con 10 letras y cuantas hay con 7 y muestra el resultado\n",
    "# YOUR CODE HERE\n",
    "raise NotImplementedError()"
   ]
  },
  {
   "cell_type": "code",
   "execution_count": null,
   "metadata": {
    "deletable": false,
    "executionInfo": {
     "elapsed": 66,
     "status": "aborted",
     "timestamp": 1641400402762,
     "user": {
      "displayName": "Jonathan Ramírez",
      "photoUrl": "https://lh3.googleusercontent.com/a-/AOh14GhvZRiHRf6YVTs7KC9kKQMXTTx1G8tKPeF4g7danQ=s64",
      "userId": "09469315614794190682"
     },
     "user_tz": 360
    },
    "id": "dZtyy6nMBaqH",
    "nbgrader": {
     "cell_type": "code",
     "checksum": "fff26e7280a23755204326bca1b76762",
     "grade": false,
     "grade_id": "cell-0332bef8945862f3",
     "locked": false,
     "schema_version": 3,
     "solution": true,
     "task": false
    }
   },
   "outputs": [],
   "source": [
    "# (g) The longest word in the list.\n",
    "def palabra_mas_larga():\n",
    "    palabra_larga = \"\"\n",
    "    # YOUR CODE HERE\n",
    "    raise NotImplementedError()\n",
    "    return palabra_larga"
   ]
  },
  {
   "cell_type": "code",
   "execution_count": null,
   "metadata": {
    "deletable": false,
    "editable": false,
    "nbgrader": {
     "cell_type": "code",
     "checksum": "e14405403f791b2a0fa3cab5377ea3e6",
     "grade": true,
     "grade_id": "cell-315586f929e4e42d",
     "locked": true,
     "points": 0,
     "schema_version": 3,
     "solution": false,
     "task": false
    }
   },
   "outputs": [],
   "source": [
    "evaluacion.verifica(np.array([palabra_mas_larga()]), 6)"
   ]
  },
  {
   "cell_type": "code",
   "execution_count": null,
   "metadata": {
    "deletable": false,
    "executionInfo": {
     "elapsed": 67,
     "status": "aborted",
     "timestamp": 1641400402763,
     "user": {
      "displayName": "Jonathan Ramírez",
      "photoUrl": "https://lh3.googleusercontent.com/a-/AOh14GhvZRiHRf6YVTs7KC9kKQMXTTx1G8tKPeF4g7danQ=s64",
      "userId": "09469315614794190682"
     },
     "user_tz": 360
    },
    "id": "jj7CvRWKBaqI",
    "nbgrader": {
     "cell_type": "code",
     "checksum": "83f1d4ed10cab07f2fae8c2f5983c5e9",
     "grade": false,
     "grade_id": "cell-09efb52dfc824777",
     "locked": false,
     "schema_version": 3,
     "solution": true,
     "task": false
    }
   },
   "outputs": [],
   "source": [
    "# (h) All palindromes.\n",
    "def todos_palindromos():\n",
    "    palim_list = []\n",
    "    # YOUR CODE HERE\n",
    "    raise NotImplementedError()\n",
    "    return palim_list"
   ]
  },
  {
   "cell_type": "code",
   "execution_count": null,
   "metadata": {
    "deletable": false,
    "editable": false,
    "nbgrader": {
     "cell_type": "code",
     "checksum": "1912164b96b3b89008939e75cb723619",
     "grade": true,
     "grade_id": "cell-4d790160b77a3e33",
     "locked": true,
     "points": 0,
     "schema_version": 3,
     "solution": false,
     "task": false
    }
   },
   "outputs": [],
   "source": [
    "evaluacion.verifica(np.array([todos_palindromos()]), 7)"
   ]
  },
  {
   "cell_type": "code",
   "execution_count": null,
   "metadata": {
    "deletable": false,
    "executionInfo": {
     "elapsed": 68,
     "status": "aborted",
     "timestamp": 1641400402766,
     "user": {
      "displayName": "Jonathan Ramírez",
      "photoUrl": "https://lh3.googleusercontent.com/a-/AOh14GhvZRiHRf6YVTs7KC9kKQMXTTx1G8tKPeF4g7danQ=s64",
      "userId": "09469315614794190682"
     },
     "user_tz": 360
    },
    "id": "TEQayTY4BaqL",
    "nbgrader": {
     "cell_type": "code",
     "checksum": "b962e0b228aba80d498a8223b59a2157",
     "grade": false,
     "grade_id": "cell-45b53faa0bf6d1c7",
     "locked": false,
     "schema_version": 3,
     "solution": true,
     "task": false
    }
   },
   "outputs": [],
   "source": [
    "# (j) All words that contain a \"q\" that isn’t followed by a \"u\".\n",
    "def contienen_q():\n",
    "    lista_q = []\n",
    "    # YOUR CODE HERE\n",
    "    raise NotImplementedError()\n",
    "    return lista_q"
   ]
  },
  {
   "cell_type": "code",
   "execution_count": null,
   "metadata": {
    "deletable": false,
    "editable": false,
    "nbgrader": {
     "cell_type": "code",
     "checksum": "4f3645ce4e591f2097636b36b20615ad",
     "grade": true,
     "grade_id": "cell-d3541bc7dca7283c",
     "locked": true,
     "points": 0,
     "schema_version": 3,
     "solution": false,
     "task": false
    }
   },
   "outputs": [],
   "source": [
    "evaluacion.verifica(np.array([contienen_q()]), 8)"
   ]
  },
  {
   "cell_type": "code",
   "execution_count": null,
   "metadata": {
    "deletable": false,
    "executionInfo": {
     "elapsed": 70,
     "status": "aborted",
     "timestamp": 1641400402768,
     "user": {
      "displayName": "Jonathan Ramírez",
      "photoUrl": "https://lh3.googleusercontent.com/a-/AOh14GhvZRiHRf6YVTs7KC9kKQMXTTx1G8tKPeF4g7danQ=s64",
      "userId": "09469315614794190682"
     },
     "user_tz": 360
    },
    "id": "Ls5L3LnTBaqL",
    "nbgrader": {
     "cell_type": "code",
     "checksum": "d7a59fc0d03f78dbf0e7d40049c862ec",
     "grade": false,
     "grade_id": "cell-9a7cb528ca50a995",
     "locked": false,
     "schema_version": 3,
     "solution": true,
     "task": false
    }
   },
   "outputs": [],
   "source": [
    "# (k) All words that contain \"zu\" anywhere in the word.\n",
    "def contienen_zu():\n",
    "    lista_zu = []\n",
    "    # YOUR CODE HERE\n",
    "    raise NotImplementedError()\n",
    "    return lista_zu"
   ]
  },
  {
   "cell_type": "code",
   "execution_count": null,
   "metadata": {
    "deletable": false,
    "editable": false,
    "nbgrader": {
     "cell_type": "code",
     "checksum": "1672a2366d0a3319b72dc310de5ab07e",
     "grade": true,
     "grade_id": "cell-cb43bac6df1517e5",
     "locked": true,
     "points": 0,
     "schema_version": 3,
     "solution": false,
     "task": false
    }
   },
   "outputs": [],
   "source": [
    "evaluacion.verifica(np.array([contienen_zu()]), 9)"
   ]
  },
  {
   "cell_type": "code",
   "execution_count": null,
   "metadata": {
    "deletable": false,
    "executionInfo": {
     "elapsed": 71,
     "status": "aborted",
     "timestamp": 1641400402770,
     "user": {
      "displayName": "Jonathan Ramírez",
      "photoUrl": "https://lh3.googleusercontent.com/a-/AOh14GhvZRiHRf6YVTs7KC9kKQMXTTx1G8tKPeF4g7danQ=s64",
      "userId": "09469315614794190682"
     },
     "user_tz": 360
    },
    "id": "m2EaoTMJBaqN",
    "nbgrader": {
     "cell_type": "code",
     "checksum": "3dfd0903da3a52194bcdec8e4fd40131",
     "grade": false,
     "grade_id": "cell-065a417e4bb55302",
     "locked": false,
     "schema_version": 3,
     "solution": true,
     "task": false
    }
   },
   "outputs": [],
   "source": [
    "# (l) All words that contain both a \"z\" and a \"w\".\n",
    "def contienen_zw():\n",
    "    lista_zw = []\n",
    "    # YOUR CODE HERE\n",
    "    raise NotImplementedError()\n",
    "    return lista_zw"
   ]
  },
  {
   "cell_type": "code",
   "execution_count": null,
   "metadata": {
    "deletable": false,
    "editable": false,
    "nbgrader": {
     "cell_type": "code",
     "checksum": "6ccc978d038353fdcc72bfed6ba956c6",
     "grade": true,
     "grade_id": "cell-2b55811916371a87",
     "locked": true,
     "points": 0,
     "schema_version": 3,
     "solution": false,
     "task": false
    }
   },
   "outputs": [],
   "source": [
    "evaluacion.verifica(np.array([contienen_zw()]), 10)"
   ]
  },
  {
   "cell_type": "code",
   "execution_count": null,
   "metadata": {
    "deletable": false,
    "executionInfo": {
     "elapsed": 73,
     "status": "aborted",
     "timestamp": 1641400402772,
     "user": {
      "displayName": "Jonathan Ramírez",
      "photoUrl": "https://lh3.googleusercontent.com/a-/AOh14GhvZRiHRf6YVTs7KC9kKQMXTTx1G8tKPeF4g7danQ=s64",
      "userId": "09469315614794190682"
     },
     "user_tz": 360
    },
    "id": "tK22TilXBaqO",
    "nbgrader": {
     "cell_type": "code",
     "checksum": "08b973188c6f1185392106ecfd9ea053",
     "grade": false,
     "grade_id": "cell-975e84ff27c72d38",
     "locked": false,
     "schema_version": 3,
     "solution": true,
     "task": false
    }
   },
   "outputs": [],
   "source": [
    "# (m) All words whose first letter is \"a\", third letter is \"e\" and fifth letter is \"i\".\n",
    "def contienen_aei():\n",
    "    lista_aei = []\n",
    "    # YOUR CODE HERE\n",
    "    raise NotImplementedError()\n",
    "    return lista_aei"
   ]
  },
  {
   "cell_type": "code",
   "execution_count": null,
   "metadata": {
    "deletable": false,
    "editable": false,
    "nbgrader": {
     "cell_type": "code",
     "checksum": "30e472766ba882d06ea30d3111a3adc9",
     "grade": true,
     "grade_id": "cell-699289a59ab6fb8f",
     "locked": true,
     "points": 0,
     "schema_version": 3,
     "solution": false,
     "task": false
    }
   },
   "outputs": [],
   "source": [
    "evaluacion.verifica(np.array([contienen_aei()]), 11)"
   ]
  },
  {
   "cell_type": "code",
   "execution_count": null,
   "metadata": {
    "deletable": false,
    "executionInfo": {
     "elapsed": 76,
     "status": "aborted",
     "timestamp": 1641400402775,
     "user": {
      "displayName": "Jonathan Ramírez",
      "photoUrl": "https://lh3.googleusercontent.com/a-/AOh14GhvZRiHRf6YVTs7KC9kKQMXTTx1G8tKPeF4g7danQ=s64",
      "userId": "09469315614794190682"
     },
     "user_tz": 360
    },
    "id": "MMn-3helBaqP",
    "nbgrader": {
     "cell_type": "code",
     "checksum": "4f9b11048e52d045516be1ddc7fb39b6",
     "grade": false,
     "grade_id": "cell-809b8823d45504fc",
     "locked": false,
     "schema_version": 3,
     "solution": true,
     "task": false
    }
   },
   "outputs": [],
   "source": [
    "# (n) All two-letter words.\n",
    "def palabras_dea_dos():\n",
    "    lista_doble = []\n",
    "    # YOUR CODE HERE\n",
    "    raise NotImplementedError()\n",
    "    return lista_doble"
   ]
  },
  {
   "cell_type": "code",
   "execution_count": null,
   "metadata": {
    "deletable": false,
    "editable": false,
    "nbgrader": {
     "cell_type": "code",
     "checksum": "b65fffec8feb853ff44189420336b2ce",
     "grade": true,
     "grade_id": "cell-bf96de2e70e66a10",
     "locked": true,
     "points": 0,
     "schema_version": 3,
     "solution": false,
     "task": false
    }
   },
   "outputs": [],
   "source": [
    "evaluacion.verifica(np.array([palabras_dea_dos()]), 12)"
   ]
  },
  {
   "cell_type": "code",
   "execution_count": null,
   "metadata": {
    "deletable": false,
    "executionInfo": {
     "elapsed": 80,
     "status": "aborted",
     "timestamp": 1641400402779,
     "user": {
      "displayName": "Jonathan Ramírez",
      "photoUrl": "https://lh3.googleusercontent.com/a-/AOh14GhvZRiHRf6YVTs7KC9kKQMXTTx1G8tKPeF4g7danQ=s64",
      "userId": "09469315614794190682"
     },
     "user_tz": 360
    },
    "id": "GEZYhRpxBaqQ",
    "nbgrader": {
     "cell_type": "code",
     "checksum": "f765ed13982ca629971017aa4579ed10",
     "grade": false,
     "grade_id": "cell-2745654b08f8b13d",
     "locked": false,
     "schema_version": 3,
     "solution": true,
     "task": false
    }
   },
   "outputs": [],
   "source": [
    "# (o) All four-letter words that start and end with the same letter.\n",
    "def inicio_fin():\n",
    "    lista_if = []\n",
    "    # YOUR CODE HERE\n",
    "    raise NotImplementedError()\n",
    "    return lista_if"
   ]
  },
  {
   "cell_type": "code",
   "execution_count": null,
   "metadata": {
    "deletable": false,
    "editable": false,
    "nbgrader": {
     "cell_type": "code",
     "checksum": "3cdac6d463ef1a0e84e23f4e24f4375a",
     "grade": true,
     "grade_id": "cell-57a86ee16de93f54",
     "locked": true,
     "points": 0,
     "schema_version": 3,
     "solution": false,
     "task": false
    }
   },
   "outputs": [],
   "source": [
    "evaluacion.verifica(np.array([inicio_fin()]), 13)"
   ]
  },
  {
   "cell_type": "code",
   "execution_count": null,
   "metadata": {
    "deletable": false,
    "nbgrader": {
     "cell_type": "code",
     "checksum": "bf85c77a0c0be631a89f7858a438078c",
     "grade": false,
     "grade_id": "cell-044aa8301dd78c26",
     "locked": false,
     "schema_version": 3,
     "solution": true,
     "task": false
    }
   },
   "outputs": [],
   "source": [
    "# (p) Define una funcion que recib una palabra y cuente el numero de vocales\n",
    "def cuenta_vocales(palabra):\n",
    "    vocales = 'aeiou'\n",
    "    vocales_palabras = []\n",
    "    # YOUR CODE HERE\n",
    "    raise NotImplementedError()\n",
    "    return cuantas_vocales "
   ]
  },
  {
   "cell_type": "code",
   "execution_count": null,
   "metadata": {
    "deletable": false,
    "editable": false,
    "nbgrader": {
     "cell_type": "code",
     "checksum": "083a46a8e522e14b0b1b324e348652e3",
     "grade": true,
     "grade_id": "cell-bfd81d8ef50963be",
     "locked": true,
     "points": 0,
     "schema_version": 3,
     "solution": false,
     "task": false
    }
   },
   "outputs": [],
   "source": [
    "evaluacion.verifica(np.array([cuenta_vocales('por eso guero')]), 14)"
   ]
  },
  {
   "cell_type": "markdown",
   "metadata": {
    "deletable": false,
    "editable": false,
    "nbgrader": {
     "cell_type": "markdown",
     "checksum": "204e598b1e0c1e9e11932585c45fc218",
     "grade": false,
     "grade_id": "cell-d3ba5499bf8d456c",
     "locked": true,
     "schema_version": 3,
     "solution": false,
     "task": false
    }
   },
   "source": [
    "### HINT PUEDES USAR FUNCIONES PREVIAS"
   ]
  },
  {
   "cell_type": "code",
   "execution_count": null,
   "metadata": {
    "deletable": false,
    "executionInfo": {
     "elapsed": 82,
     "status": "aborted",
     "timestamp": 1641400402782,
     "user": {
      "displayName": "Jonathan Ramírez",
      "photoUrl": "https://lh3.googleusercontent.com/a-/AOh14GhvZRiHRf6YVTs7KC9kKQMXTTx1G8tKPeF4g7danQ=s64",
      "userId": "09469315614794190682"
     },
     "user_tz": 360
    },
    "id": "b2fwTdC0BaqR",
    "nbgrader": {
     "cell_type": "code",
     "checksum": "27e6fd79d3cfa6789e9a0c7443e58e24",
     "grade": false,
     "grade_id": "cell-d539e99000ae5c9e",
     "locked": false,
     "schema_version": 3,
     "solution": true,
     "task": false
    }
   },
   "outputs": [],
   "source": [
    "# (q) All words that contain at least nine vowels.\n",
    "def nueve_vocales():\n",
    "    vocales = 0\n",
    "    p_list = []\n",
    "    # YOUR CODE HERE\n",
    "    raise NotImplementedError()\n",
    "    return vocales"
   ]
  },
  {
   "cell_type": "code",
   "execution_count": null,
   "metadata": {
    "deletable": false,
    "editable": false,
    "nbgrader": {
     "cell_type": "code",
     "checksum": "cea269abdc09a313a9260763766df119",
     "grade": true,
     "grade_id": "cell-c5a11374a50894e8",
     "locked": true,
     "points": 0,
     "schema_version": 3,
     "solution": false,
     "task": false
    }
   },
   "outputs": [],
   "source": [
    "evaluacion.verifica(np.array([nueve_vocales()]), 15)"
   ]
  }
 ],
 "metadata": {
  "accelerator": "GPU",
  "colab": {
   "name": "Exam of the first module Calificado.ipynb",
   "provenance": []
  },
  "kernelspec": {
   "display_name": "Python 3 (ipykernel)",
   "language": "python",
   "name": "python3"
  },
  "language_info": {
   "codemirror_mode": {
    "name": "ipython",
    "version": 3
   },
   "file_extension": ".py",
   "mimetype": "text/x-python",
   "name": "python",
   "nbconvert_exporter": "python",
   "pygments_lexer": "ipython3",
   "version": "3.9.7"
  },
  "toc": {
   "base_numbering": 1,
   "nav_menu": {},
   "number_sections": true,
   "sideBar": true,
   "skip_h1_title": false,
   "title_cell": "Table of Contents",
   "title_sidebar": "Contents",
   "toc_cell": false,
   "toc_position": {},
   "toc_section_display": true,
   "toc_window_display": false
  },
  "varInspector": {
   "cols": {
    "lenName": 16,
    "lenType": 16,
    "lenVar": 40
   },
   "kernels_config": {
    "python": {
     "delete_cmd_postfix": "",
     "delete_cmd_prefix": "del ",
     "library": "var_list.py",
     "varRefreshCmd": "print(var_dic_list())"
    },
    "r": {
     "delete_cmd_postfix": ") ",
     "delete_cmd_prefix": "rm(",
     "library": "var_list.r",
     "varRefreshCmd": "cat(var_dic_list()) "
    }
   },
   "types_to_exclude": [
    "module",
    "function",
    "builtin_function_or_method",
    "instance",
    "_Feature"
   ],
   "window_display": false
  },
  "vscode": {
   "interpreter": {
    "hash": "0a68ab044c6ea367198d7b58f0f8352272d5267d2d2c131306c104f6e9ede3d6"
   }
  }
 },
 "nbformat": 4,
 "nbformat_minor": 4
}
